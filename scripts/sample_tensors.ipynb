{
 "cells": [
  {
   "cell_type": "code",
   "execution_count": 2,
   "metadata": {},
   "outputs": [],
   "source": [
    "frac = .2"
   ]
  },
  {
   "cell_type": "code",
   "execution_count": 3,
   "metadata": {},
   "outputs": [],
   "source": [
    "data_dir = '/home/rishi/g2g/improved/data/'"
   ]
  },
  {
   "cell_type": "code",
   "execution_count": 4,
   "metadata": {},
   "outputs": [],
   "source": [
    "if data_dir[-1] != '/':\n",
    "    data_dir += '/'"
   ]
  },
  {
   "cell_type": "code",
   "execution_count": 5,
   "metadata": {},
   "outputs": [],
   "source": [
    "import random\n",
    "import pickle\n",
    "import sys"
   ]
  },
  {
   "cell_type": "code",
   "execution_count": 6,
   "metadata": {},
   "outputs": [],
   "source": [
    "import importlib\n",
    "sys.path.append('/home/rishi/py_scripts')\n",
    "import rishi_utils as ru"
   ]
  },
  {
   "cell_type": "code",
   "execution_count": 45,
   "metadata": {},
   "outputs": [
    {
     "data": {
      "text/plain": [
       "0.03962761675559945"
      ]
     },
     "execution_count": 45,
     "metadata": {},
     "output_type": "execute_result"
    }
   ],
   "source": [
    "random.random()"
   ]
  },
  {
   "cell_type": "code",
   "execution_count": 7,
   "metadata": {},
   "outputs": [],
   "source": [
    "keep_test = []"
   ]
  },
  {
   "cell_type": "code",
   "execution_count": 8,
   "metadata": {},
   "outputs": [],
   "source": [
    "with open('%stest.txt' %data_dir, 'r') as handle:\n",
    "    for line in handle:\n",
    "        if random.random() <= frac:\n",
    "            keep_test.append(line.split()[0])"
   ]
  },
  {
   "cell_type": "code",
   "execution_count": 9,
   "metadata": {
    "scrolled": true
   },
   "outputs": [
    {
     "data": {
      "text/plain": [
       "['Nc1ccc(Nc2ccc(Nc3ccc(Nc4ccc(Nc5ccc(Nc6cccs6)s5)s4)s3)s2)s1',\n",
       " 'O=Cc1ccc(-c2ccc(C(=S)C(=O)c3ccc(-c4ccc(C(=S)C(=O)c5ccc(-c6ccc(C=S)cc6)cc5)cc4)cc3)cc2)cc1',\n",
       " 'Cc1ccc(C(=O)c2ccc(Cc3ccc(C(=O)c4ccc(Cc5ccc(C(=O)c6cccs6)s5)s4)s3)s2)s1',\n",
       " 'c1ccc(Oc2ccc(-c3nc4ccc(-c5ccc6nc(-c7ccc(Oc8ccc(-c9nc%10ccc(-c%11ccc%12nc(-c%13ccc(Oc%14ccc(-c%15nc%16ccc(-c%17ccc%18ncc(-c%19ccccc%19)nc%18c%17)cc%16nc%15-c%15ccccc%15)cc%14)cc%13)c(-c%13ccccc%13)nc%12c%11)cc%10nc9-c9ccccc9)cc8)cc7)c(-c7ccccc7)nc6c5)cc4nc3-c3ccccc3)cc2)cc1',\n",
       " 'O=Cc1ccc(-c2ccc(OC(=O)c3ccc(-c4ccc(OC(=O)c5ccc(-c6ccc(O)cc6)cc5)cc4)cc3)cc2)cc1',\n",
       " 'C=C1C=C(C=C2C=C(C=C3C=CC[N+](CCCCCCCC)(CCCCS(=O)(=O)O)C3)C[N+](CCCCCCCC)(CCCCS(=O)(=O)O)C2)C[N+](CCCCCCCC)(CCCCS(=O)(=O)O)C1',\n",
       " 'CC(C)(c1ccc(O)cc1)c1ccc(Oc2ccc(C(=O)c3ccc(Oc4ccc(C(C)(C)c5ccc(Oc6ccc(C(=O)c7ccc(Oc8ccc(C(C)(C)c9ccc(Oc%10ccc(C(=O)c%11ccccc%11)cc%10)cc9)cc8)cc7)cc6)cc5)cc4)cc3)cc2)cc1',\n",
       " 'O=c1nnc(-c2ccc(Oc3ccc(-c4nn(-c5ccc(S(=O)(=O)c6ccc(-n7nc(-c8ccc(Oc9ccc(-c%10nn(-c%11ccc(S(=O)(=O)c%12ccc(-n%13nc(-c%14ccc(Oc%15ccc(-c%16nn(-c%17ccc(S(=O)(=O)c%18ccccc%18)cc%17)c(=O)c%17ccccc%16%17)cc%15)cc%14)c%14ccccc%14c%13=O)cc%12)cc%11)c(=O)c%11ccccc%10%11)cc9)cc8)c8ccccc8c7=O)cc6)cc5)c(=O)c5ccccc45)cc3)cc2)c2ccccc12',\n",
       " 'O=C1NC(=O)c2cc(S(=O)(=O)c3ccc4c(c3)C(=O)N(c3ccc(Cc5ccc(N6C(=O)c7ccc(S(=O)(=O)c8ccc9c(c8)C(=O)N(c8ccc(Cc%10ccc(N%11C(=O)c%12ccc(S(=O)(=O)c%13ccc%14c(c%13)C(=O)N(c%13ccc(Cc%15ccccc%15)cc%13)C%14=O)cc%12C%11=O)cc%10)cc8)C9=O)cc7C6=O)cc5)cc3)C4=O)ccc21',\n",
       " 'O=CNc1ccc(NC(=O)c2ccc3c(c2)C(=O)N(c2ccc(S(=O)(=O)c4ccc(N5C(=O)c6ccc(C(=O)Nc7ccc(NC(=O)c8ccc9c(c8)C(=O)N(c8ccc(S(=O)(=O)c%10ccc(N%11C(=O)c%12ccc(C(=O)Nc%13ccc(NC(=O)c%14ccc%15c(c%14)C(=O)N(c%14ccc(S(=O)(=O)c%16ccc(N%17C(=O)c%18ccccc%18C%17=O)cc%16)cc%14)C%15=O)cc%13)cc%12C%11=O)cc%10)cc8)C9=O)cc7)cc6C5=O)cc4)cc2)C3=O)cc1',\n",
       " 'c1ccc(-c2cnc3ccc(-c4ccc5nc(-c6ccc(-c7cnc8ccc(-c9ccc%10nc(-c%11ccc(-c%12cnc%13ccc(-c%14ccc%15nccnc%15c%14)cc%13n%12)cc%11)cnc%10c9)cc8n7)cc6)cnc5c4)cc3n2)cc1',\n",
       " 'O=c1nc(=O)c2cc3c(=O)n(-c4ccc(-c5ccc(-n6c(=O)c7cc8c(=O)n(-c9ccc(-c%10ccc(-n%11c(=O)c%12cc%13c(=O)n(-c%14ccc(-c%15ccccc%15)cc%14)c(=O)c%13cc%12c%11=O)cc%10)cc9)c(=O)c8cc7c6=O)cc5)cc4)c(=O)c3cc12',\n",
       " 'O=Cc1ccc2c(c1)C(=Nc1ccc(Oc3cccc(N=C4OC(=O)c5ccc(C(=O)c6ccc7c(c6)C(=Nc6ccc(Oc8cccc(N=C9OC(=O)c%10ccc(C(=O)c%11ccc%12c(c%11)C(=Nc%11ccc(Oc%13cccc(N=C%14OC(=O)c%15ccccc%15%14)c%13)cc%11)OC%12=O)cc%109)c8)cc6)OC7=O)cc54)c3)cc1)OC2=O',\n",
       " 'NC(=O)c1ccc(-c2ccc(NC(=O)c3ccc(-c4ccc(NC(=O)c5ccc(-c6ccccc6)cc5)cc4)cc3)cc2)cc1',\n",
       " 'Nc1cc(NC(=O)c2ccc3cc(C(=O)Nc4cc(NC(=O)c5ccc6cc(C(=O)Nc7cc(NC(=O)c8ccc9cc(C=O)ccc9c8)cc(C(=O)OCCOc8ccc(C=CC(=O)c9ccccc9)cc8)c7)ccc6c5)cc(C(=O)OCCOc5ccc(C=CC(=O)c6ccccc6)cc5)c4)ccc3c2)cc(C(=O)OCCOc2ccc(C=CC(=O)c3ccccc3)cc2)c1',\n",
       " 'O=Cc1ccc(-c2ccc(-c3ccc(C(=O)c4ccc(-c5ccc(-c6ccc(C(=O)c7ccc(-c8ccc(-c9cccs9)cc8)cc7)s6)cc5)cc4)s3)cc2)cc1',\n",
       " 'Nc1ccc(Nc2ccc(Nc3ccc(Nc4ccc(Nc5ccc(Nc6cccs6)cc5)s4)cc3)s2)cc1',\n",
       " 'O=C1NC(=O)N(c2ccc3c(c2)C(=O)N(c2ccc(CCC4CCN(N5C(=O)C(=O)N(c6ccc7c(c6)C(=O)N(c6ccc(CCC8CCN(N9C(=O)C(=O)N(c%10ccc%11c(c%10)C(=O)N(c%10ccc(CCC%12CCNCC%12)cc%10)C%11=O)C9=O)CC8)cc6)C7=O)C5=O)CC4)cc2)C3=O)C1=O',\n",
       " 'O=COc1ccc(OC(=O)c2ccc3c(c2)C(=O)N(c2ccc(Sc4ccc(N5C(=O)c6ccc(C(=O)Oc7ccc(OC(=O)c8ccc9c(c8)C(=O)N(c8ccc(Sc%10ccc(N%11C(=O)c%12ccc(C(=O)Oc%13ccc(OC(=O)c%14ccc%15c(c%14)C(=O)N(c%14ccc(Sc%16ccc(N%17C(=O)c%18ccccc%18C%17=O)cc%16)cc%14)C%15=O)cc%13)cc%12C%11=O)cc%10)cc8)C9=O)cc7)cc6C5=O)cc4)cc2)C3=O)cc1',\n",
       " 'CCC(C)c1cc(Nc2ccc(Nc3ccccc3C(C)CC)cc2C(C)CC)ccc1N',\n",
       " 'O=c1nc(=O)c2cc3c(=O)n(-c4ccc(-c5ccc(-n6c(=O)c7cc8c(=O)n(-c9ccc(-c%10ccc(-n%11c(=O)c%12cc%13c(=O)n(-c%14ccc(-c%15ccccc%15OC(F)(F)F)c(OC(F)(F)F)c%14)c(=O)c%13cc%12c%11=O)cc%10OC(F)(F)F)c(OC(F)(F)F)c9)c(=O)c8cc7c6=O)cc5OC(F)(F)F)c(OC(F)(F)F)c4)c(=O)c3cc12',\n",
       " 'c1ccc(-c2ccc3nc(Oc4cc(-c5ccccc5)c5cc(-c6ccc(-c7ccc8nc(Oc9cc(-c%10ccccc%10)c%10cc(-c%11ccc(-c%12ccc%13nc(Oc%14cc(-c%15ccccc%15)c%15ccccc%15n%14)cc(-c%14ccccc%14)c%13c%12)cc%11)ccc%10n9)cc(-c9ccccc9)c8c7)cc6)ccc5n4)cc(-c4ccccc4)c3c2)cc1',\n",
       " 'C=Cc1ccc(N(c2ccc(C=Cc3ccc4c5ccc(C=Cc6ccc(N(c7ccc(C=Cc8ccc9c%10ccc(C=Cc%11ccc(N(c%12ccc(C=Cc%13ccc%14c%15ccccc%15n(CC(CC)CCCC)c%14c%13)cc%12)c%12ccc(OCC(CC)CCCC)cc%12)cc%11)cc%10n(CC(CC)CCCC)c9c8)cc7)c7ccc(OCC(CC)CCCC)cc7)cc6)cc5n(CC(CC)CCCC)c4c3)cc2)c2ccc(OCC(CC)CCCC)cc2)cc1',\n",
       " 'O=Cc1ccc2c(c1)C(=O)N(c1ccc(C(c3ccccc3)c3ccc(N4C(=O)c5ccc(C(=O)c6ccc7c(c6)C(=O)N(c6ccc(C(c8ccccc8)c8ccc(N9C(=O)c%10ccc(C(=O)c%11ccc%12c(c%11)C(=O)N(c%11ccc(C(c%13ccccc%13)c%13ccc(N%14C(=O)c%15ccccc%15C%14=O)cc%13)cc%11)C%12=O)cc%10C9=O)cc8)cc6)C7=O)cc5C4=O)cc3)cc1)C2=O',\n",
       " 'NC(=O)c1cccc(C(=O)Nc2ccc(-c3ccc(NC(=O)c4cccc(C(=O)Nc5ccc(-c6ccc(NC(=O)c7cccc(C(=O)Nc8ccc(-c9ccccc9)cc8)c7)cc6)cc5)c4)cc3)cc2)c1',\n",
       " 'c1ccc(Oc2ccc(-c3cnc4cc5ncc(-c6ccc(Oc7ccc(-c8cnc9cc%10ncc(-c%11ccc(Oc%12ccc(-c%13cnc%14cc%15nccnc%15cc%14n%13)cc%12)cc%11)nc%10cc9n8)cc7)cc6)nc5cc4n3)cc2)cc1',\n",
       " 'O=Cc1ccc(C2(c3ccc(C(=O)Oc4ccc(Oc5ccc(OC(=O)c6ccc(C7(c8ccc(C(=O)Oc9ccc(Oc%10ccc(OC(=O)c%11ccc(C%12(c%13ccc(C(=O)Oc%14ccc(Oc%15ccc(O)cc%15)cc%14)cc%13)OC(=O)c%13ccccc%13%12)cc%11)cc%10)cc9)cc8)OC(=O)c8ccccc87)cc6)cc5)cc4)cc3)OC(=O)c3ccccc32)cc1',\n",
       " 'O=C1NC(=O)c2cc(-c3ccc4c(c3)C(=O)N(c3cc(Br)c(Oc5c(Br)cc(N6C(=O)c7ccc(-c8ccc9c(c8)C(=O)N(c8cc(Br)c(Oc%10c(Br)cc(N%11C(=O)c%12ccc(-c%13ccc%14c(c%13)C(=O)N(c%13cc(Br)c(Oc%15c(Br)cccc%15Br)c(Br)c%13)C%14=O)cc%12C%11=O)cc%10Br)c(Br)c8)C9=O)cc7C6=O)cc5Br)c(Br)c3)C4=O)ccc21',\n",
       " 'Cc1ccc(CC(=S)Cc2ccc(CC(=S)Cc3ccc(CC=S)cc3)cc2)cc1',\n",
       " 'CC(=O)C(=S)c1ccc(CC(=O)C(=S)c2ccc(CC(=O)C(=S)c3cccs3)s2)s1',\n",
       " 'S=COc1ccc(-c2ccc(C(=S)Oc3ccc(-c4ccc(C(=S)Oc5ccc(-c6ccccc6)s5)cc4)s3)cc2)s1',\n",
       " 'Nc1ccc2c(c1)Cc1cc(NC(=O)c3cc(C(=O)O)c(C(=O)Nc4ccc5c(c4)Cc4cc(NC(=O)c6cc(C(=O)O)c(C(=O)Nc7ccc8c(c7)Cc7cc(NC(=O)c9cc(C(=O)O)c(C=O)cc9C(=O)O)ccc7-8)cc6C(=O)O)ccc4-5)cc3C(=O)O)ccc1-2',\n",
       " 'C=c1ccc(=c2ccc(=Cc3ccc(C=c4ccc(=c5ccc(=Cc6ccc(C=c7ccc(=c8ccc(=Cc9cccs9)s8)s7)s6)s5)s4)s3)s2)s1',\n",
       " 'c1ccc(Oc2ccc(-c3cnc4cc(Oc5ccc6nc(-c7ccc(Oc8ccc(-c9cnc%10cc(Oc%11ccc%12nc(-c%13ccc(Oc%14ccc(-c%15cnc%16cc(Oc%17ccc%18nccnc%18c%17)ccc%16n%15)cc%14)cc%13)cnc%12c%11)ccc%10n9)cc8)cc7)cnc6c5)ccc4n3)cc2)cc1',\n",
       " '[2H]c1csc(-c2sc(-c3scc([2H])c3[2H])c([2H])c2[2H])c1[2H]',\n",
       " 'Nc1cccc(NC(=O)c2cc(NC(=O)c3ccncc3)cc(C(=O)Nc3cccc(NC(=O)c4cc(NC(=O)c5ccncc5)cc(C(=O)Nc5cccc(NC(=O)c6cc(C=O)cc(NC(=O)c7ccncc7)c6)c5)c4)c3)c2)c1',\n",
       " 'CC(C)(c1cccc([N-][N+]#N)c1)c1ccc(Oc2ccc(S(=O)(=O)c3ccc(Oc4ccc(C(C)(C)c5ccc(Oc6ccc(S(=O)(=O)c7ccc(Oc8ccc(C(C)(C)c9ccc(Oc%10ccc(S(=O)(=O)c%11ccc(O)cc%11)cc%10)c([N-][N+]#N)c9)cc8[N-][N+]#N)cc7)cc6)c([N-][N+]#N)c5)cc4[N-][N+]#N)cc3)cc2)c([N-][N+]#N)c1',\n",
       " 'Cc1c[nH]c(-c2[nH]c(-c3[nH]ccc3C)cc2C)c1',\n",
       " 'O=C1NC(=O)c2cc(S(=O)(=O)c3ccc4c(c3)C(=O)N(c3ccc(-c5ccc(N6C(=O)c7ccc(S(=O)(=O)c8ccc9c(c8)C(=O)N(c8ccc(-c%10ccc(N%11C(=O)c%12ccc(S(=O)(=O)c%13ccc%14c(c%13)C(=O)N(c%13ccc(-c%15ccccc%15C(F)(F)F)c(C(F)(F)F)c%13)C%14=O)cc%12C%11=O)cc%10C(F)(F)F)c(C(F)(F)F)c8)C9=O)cc7C6=O)cc5C(F)(F)F)c(C(F)(F)F)c3)C4=O)ccc21',\n",
       " 'Clc1ncnc(N(c2ccccc2)c2nc(Nc3ccccc3)nc(N(c3ccccc3)c3nc(Cl)nc(N(c4ccccc4)c4nc(Nc5ccccc5)nc(N(c5ccccc5)c5nc(Cl)nc(N(c6ccccc6)c6nc(Nc7ccccc7)nc(Nc7ccccc7)n6)n5)n4)n3)n2)n1',\n",
       " 'CC(=O)Nc1ccc(NC(=O)CN2C(=O)c3ccc(C(=O)c4ccc5c(c4)C(=O)N(CC(=O)Nc4ccc(NC(=O)CN6C(=O)c7ccc(C(=O)c8ccc9c(c8)C(=O)N(CC(=O)Nc8ccc(NC(=O)CN%10C(=O)c%11ccc(C(=O)c%12ccc%13c(c%12)C(=O)NC%13=O)cc%11C%10=O)cc8)C9=O)cc7C6=O)cc4)C5=O)cc3C2=O)cc1',\n",
       " 'Nc1ccc(Nc2ccc(Nc3ccc(Nc4ccc(Nc5ccc(Nc6ccccc6)cc5C(=O)O)cc4)cc3C(=O)O)cc2)cc1C(=O)O',\n",
       " 'Nc1ccc(NONc2ccc(NONc3ccc(NO)cc3)cc2)cc1',\n",
       " 'Cc1c(C)c(C(=O)c2ccc(NC(=O)c3ccc(C(=O)Nc4ccc(C(=O)c5c(C)c(C)c(C(=O)c6ccc(NC(=O)c7ccc(C(=O)Nc8ccc(C(=O)c9c(C)c(C)c(C(=O)c%10ccc(NC(=O)c%11ccc(C=O)cc%11)cc%10)c(C)c9C)cc8)cc7)cc6)c(C)c5C)cc4)cc3)cc2)c(C)c(C)c1C(=O)c1ccc(N)cc1',\n",
       " 'c1cc2cc(-c3cc4cc(-c5cc6ccsc6s5)sc4s3)sc2s1',\n",
       " 'c1ccc(-c2nc3cc(-c4ccc5[nH]c(-c6cccc(-c7nc8cc(-c9ccc%10[nH]c(-c%11cccc(-c%12nc%13cc(-c%14ccc%15[nH]cnc%15c%14)ccc%13[nH]%12)c%11)nc%10c9)ccc8[nH]7)c6)nc5c4)ccc3[nH]2)cc1',\n",
       " 'N#CC(C#N)=Cc1ccc(C(Nc2ccc(C=Cc3ccc(NC(=C(C#N)C#N)c4ccc(C(Nc5ccc(C=Cc6ccc(NC(=C(C#N)C#N)c7ccc(C(Nc8ccc(C=Cc9ccc(N)cc9)cc8)=C(C#N)C#N)cc7)cc6)cc5)=C(C#N)C#N)cc4)cc3)cc2)=C(C#N)C#N)cc1',\n",
       " 'c1ccc(-c2cnc3cc4nc(-c5ccccc5)c(-c5ccc(-c6nc7cc8nc(-c9ccccc9)c(-c9ccc(-c%10nc%11cc%12nc(-c%13ccccc%13)c(-c%13ccccc%13)nc%12cc%11nc%10-c%10ccccc%10)cc9)nc8cc7nc6-c6ccccc6)cc5)nc4cc3n2)cc1',\n",
       " 'CC(=S)NC(=S)CC(=S)NC(=S)CC(=S)NC=S',\n",
       " 'c1ccc(Oc2ccc(-c3cnc4cc(-c5ccc6nc(-c7ccc(Oc8ccc(-c9cnc%10cc(-c%11ccc%12nc(-c%13ccc(Oc%14ccc(-c%15cnc%16cc(-c%17ccc%18nccnc%18c%17)ccc%16n%15)cc%14)cc%13)cnc%12c%11)ccc%10n9)cc8)cc7)cnc6c5)ccc4n3)cc2)cc1',\n",
       " 'Nc1cc(NC(=O)c2ccccc2C(=O)Nc2cc(NC(=O)c3ccccc3C(=O)Nc3cc(NC(=O)c4ccccc4C=O)cc(-c4nnc(-c5ccccn5)o4)c3)cc(-c3nnc(-c4ccccn4)o3)c2)cc(-c2nnc(-c3ccccn3)o2)c1',\n",
       " 'C[Si](C)(c1ccc2c(c1)C(=O)NC2=O)c1ccc2c(c1)C(=O)N(c1ccc(Cc3ccc(N4C(=O)c5ccc([Si](C)(C)c6ccc7c(c6)C(=O)N(c6ccc(Cc8ccc(N9C(=O)c%10ccc([Si](C)(C)c%11ccc%12c(c%11)C(=O)N(c%11ccc(Cc%13ccccc%13)cc%11)C%12=O)cc%10C9=O)cc8)cc6)C7=O)cc5C4=O)cc3)cc1)C2=O',\n",
       " 'C#Cc1cc(CCCCCC)c(C#Cc2sc(C#Cc3cc(CCCCCC)c(C#Cc4sc(C#Cc5cc(CCCCCC)c(C#Cc6scc([N+](=O)[O-])c6[N+](=O)[O-])s5)c([N+](=O)[O-])c4[N+](=O)[O-])s3)c([N+](=O)[O-])c2[N+](=O)[O-])s1',\n",
       " 'Nc1ccc(C(=O)C(=S)Nc2ccc(C(=O)C(=S)Nc3ccc(C(=O)C=S)s3)s2)s1',\n",
       " 'CC(=Nc1ccccc1N=C(C)c1ccc(Oc2ccc(C(C)=Nc3ccccc3N=C(C)c3ccc(Oc4ccc(C(C)=Nc5ccccc5N=C(C)c5ccc(O)cc5)cc4)cc3)cc2)cc1)c1ccccc1',\n",
       " 'c1ccc(-c2ccn3sc4nc5nc6c(cc5oc-4cc-3nc2)Nc2nc3ccc(-c4ccc(-c5ccn7sc8nc9nc%10c(cc9oc-8cc-7nc5)Nc5nc7ccc(-c8ccc(-c9ccn%11sc%12nc%13nc%14c(cc%13oc-%12cc-%11nc9)Nc9nc%11ccccc%11nc9O%14)cc8)cc7nc5O%10)cc4)cc3nc2O6)cc1',\n",
       " 'c1csc(-c2ccc(-c3cccs3)s2)c1',\n",
       " 'O=CNc1ccc(NC(=O)c2ccc3c(c2)C(=O)N(c2cc(-c4nc5ccccc5s4)cc(N4C(=O)c5ccc(C(=O)Nc6ccc(NC(=O)c7ccc8c(c7)C(=O)N(c7cc(-c9nc%10ccccc%10s9)cc(N9C(=O)c%10ccc(C(=O)Nc%11ccc(NC(=O)c%12ccc%13c(c%12)C(=O)N(c%12cc(-c%14nc%15ccccc%15s%14)cc(N%14C(=O)c%15ccccc%15C%14=O)c%12)C%13=O)cc%11)cc%10C9=O)c7)C8=O)cc6)cc5C4=O)c2)C3=O)cc1',\n",
       " 'Oc1ccc(-c2ccc(-c3ccc(Oc4ccc(-c5ccc(-c6ccc(Oc7ccc(-c8ccc(-c9ccccc9)s8)cc7)cc6)s5)cc4)cc3)s2)cc1',\n",
       " 'CCN(CCOC(=O)c1ccc(C(=O)OCCN(CCOC(=O)c2ccc(C(=O)OCCN(CCOC(=O)c3ccc(C(=O)O)c(OC)c3)c3ccc(N=Nc4ccc(C=Cc5nc6ccc([N+](=O)[O-])cc6n5CC)cc4)cc3)c(OC)c2)c2ccc(N=Nc3ccc(C=Cc4nc5ccc([N+](=O)[O-])cc5n4CC)cc3)cc2)c(OC)c1)c1ccc(N=Nc2ccc(C=Cc3nc4ccc([N+](=O)[O-])cc4n3CC)cc2)cc1',\n",
       " 'O=C(Nc1cccc(-n2c(=O)c3cc4c(=O)nc(=O)c4cc3c2=O)c1)c1ccc(-n2c(=O)c3cc4c(=O)n(-c5cccc(NC(=O)c6ccc(-n7c(=O)c8cc9c(=O)n(-c%10cccc(NC(=O)c%11ccccc%11)c%10)c(=O)c9cc8c7=O)cc6)c5)c(=O)c4cc3c2=O)cc1',\n",
       " 'CC(=O)c1ccc(C(=S)CC(=O)c2ccc(C(=S)CC(=O)c3ccc(C=S)cc3)cc2)cc1',\n",
       " 'O=C1c2ccccc2C(=O)N1c1ccc(Oc2ccc(N3C(=O)c4ccc(C(F)(F)C(F)(F)C(F)(F)C(F)(F)C(F)(F)C(F)(F)C(F)(F)C(F)(F)c5ccc6c(c5)C(=O)N(c5ccc(Oc7ccc(N8C(=O)c9ccc(C(F)(F)C(F)(F)C(F)(F)C(F)(F)C(F)(F)C(F)(F)C(F)(F)C(F)(F)c%10ccc%11c(c%10)C(=O)N(c%10ccc(Oc%12ccc(N%13C(=O)c%14ccc(C(F)(F)C(F)(F)C(F)(F)C(F)(F)C(F)(F)C(F)(F)C(F)(F)C(F)F)cc%14C%13=O)cc%12)cc%10)C%11=O)cc9C8=O)cc7)cc5)C6=O)cc4C3=O)cc2)cc1',\n",
       " 'O=C1c2ccsc2-c2sc(-c3cc4c(s3)-c3sc(-c5cc6c(s5)-c5sccc5C6=O)cc3C4=O)cc21',\n",
       " 'O=C(Nc1ccc(Oc2ccc(NC(=O)c3ccc(-n4c(=O)c5cc6c(=O)n(-c7ccc(C(=O)Nc8ccc(Oc9ccc(NC(=O)c%10ccc(-n%11c(=O)c%12cc%13c(=O)n(-c%14ccc(C(=O)Nc%15ccc(Oc%16ccc(NC(=O)c%17ccc(-n%18c(=O)c%19cc%20c(=O)nc(=O)c%20cc%19c%18=O)cc%17)cc%16)cc%15)cc%14)c(=O)c%13cc%12c%11=O)cc%10)cc9)cc8)cc7)c(=O)c6cc5c4=O)cc3)cc2)cc1)c1ccccc1',\n",
       " 'O=Cc1ccc2c(c1)C(=O)N(c1ccc(N3C(=O)c4ccc(C(=O)c5ccc6c(c5)C(=O)N(c5ccc(N7C(=O)c8ccc(C(=O)c9ccc%10c(c9)C(=O)N(c9ccc(N%11C(=O)c%12ccccc%12C%11=O)cc9)C%10=O)cc8C7=O)cc5)C6=O)cc4C3=O)cc1)C2=O',\n",
       " 'c1ccc(-c2ccc(-c3cnc4cc(-c5ccc6nc(-c7ccc(-c8ccc(-c9cnc%10cc(-c%11ccc%12nc(-c%13ccc(-c%14ccc(-c%15cnc%16cc(-c%17ccc%18nccnc%18c%17)ccc%16n%15)cc%14)cc%13)cnc%12c%11)ccc%10n9)cc8)cc7)cnc6c5)ccc4n3)cc2)cc1',\n",
       " 'Cc1cc(C2(c3ccc(OC(=O)c4cccc(C(=O)Oc5ccc(C6(c7ccc(OC(=O)c8cccc(C(=O)Oc9ccc(C%10(c%11ccc(OC(=O)c%12cccc(C=O)c%12)c(C)c%11)c%11ccccc%11-c%11ccccc%11%10)cc9C)c8)c(C)c7)c7ccccc7-c7ccccc76)cc5C)c4)c(C)c3)c3ccccc3-c3ccccc32)ccc1O',\n",
       " 'O=C(Nc1ccc(O)cc1)c1cccc(C(=O)Nc2ccc(Oc3ccc(C4(c5ccc(Oc6ccc(NC(=O)c7cccc(C(=O)Nc8ccc(Oc9ccc(C%10(c%11ccc(Oc%12ccc(NC(=O)c%13cccc(C(=O)Nc%14ccc(Oc%15ccc(C%16(c%17ccccc%17)C%17CC%18CC(C%17)CC%16C%18)cc%15)cc%14)c%13)cc%12)cc%11)C%11CC%12CC(C%11)CC%10C%12)cc9)cc8)c7)cc6)cc5)C5CC6CC(C5)CC4C6)cc3)cc2)c1',\n",
       " 'O=C1NC(=O)c2cc(Oc3ccc4c(c3)C(=O)N(c3cccc(C(F)(F)C(F)(F)C(F)(F)c5cccc(N6C(=O)c7ccc(Oc8ccc9c(c8)C(=O)N(c8cccc(C(F)(F)C(F)(F)C(F)(F)c%10cccc(N%11C(=O)c%12ccc(Oc%13ccc%14c(c%13)C(=O)N(c%13cccc(C(F)(F)C(F)(F)C(F)(F)c%15ccccc%15)c%13)C%14=O)cc%12C%11=O)c%10)c8)C9=O)cc7C6=O)c5)c3)C4=O)ccc21',\n",
       " 'CNc1ccc(-c2ccc(CNc3ccc(-c4ccc(CNc5ccc(-c6cccs6)cc5)s4)cc3)s2)cc1',\n",
       " 'O=Cc1cccc(C(=O)Oc2ccc(C3(c4ccc(OC(=O)c5cccc(C(=O)Oc6ccc(C7(c8ccc(OC(=O)c9cccc(C(=O)Oc%10ccc(C%11(c%12ccc(O)cc%12)CCC%12CCCCC%12C%11)cc%10)c9)cc8)CCC8CCCCC8C7)cc6)c5)cc4)CCC4CCCCC4C3)cc2)c1',\n",
       " 'O=S1(=O)C=C2OCCOC2=C1c1ccc(-c2ccc(C3=C4OCCOC4=C(c4ccc(-c5ccc(C6=C7OCCOC7=C(c7ccc(-c8cccs8)s7)S6(=O)=O)s5)s4)S3(=O)=O)s2)s1',\n",
       " 'Nc1ccc(-c2ccc(NC(=O)c3cccc(C(=O)Nc4ccc(-c5ccc(NC(=O)c6cccc(C(=O)Nc7ccc(-c8ccc(NC(=O)c9cccc(C=O)c9)c(S)c8)cc7S)c6)c(S)c5)cc4S)c3)c(S)c2)cc1S',\n",
       " 'N#Cc1ccc(N(c2ccc(N3C(=O)c4ccccc4C3=O)cc2)c2ccc(N3C(=O)c4ccc(C(=O)c5ccc6c(c5)C(=O)N(c5ccc(N(c7ccc(C#N)cc7)c7ccc(N8C(=O)c9ccc(C(=O)c%10ccc%11c(c%10)C(=O)N(c%10ccc(N(c%12ccc(C#N)cc%12)c%12ccc(N%13C(=O)c%14ccc(C=O)cc%14C%13=O)cc%12)cc%10)C%11=O)cc9C8=O)cc7)cc5)C6=O)cc4C3=O)cc2)cc1',\n",
       " 'O=Cc1ccc(Oc2ccc(C(=O)c3ccc(Oc4ccc(C(=O)c5ccc(Oc6ccccc6)cc5)cc4)cc3)cc2)cc1',\n",
       " 'CC(=O)Nc1ccc(Oc2ccc(NC(=O)CN3C(=O)c4ccc(C(=O)c5ccc6c(c5)C(=O)N(CC(=O)Nc5ccc(Oc7ccc(NC(=O)CN8C(=O)c9ccc(C(=O)c%10ccc%11c(c%10)C(=O)N(CC(=O)Nc%10ccc(Oc%12ccc(NC(=O)CN%13C(=O)c%14ccc(C(=O)c%15ccc%16c(c%15)C(=O)NC%16=O)cc%14C%13=O)cc%12)cc%10)C%11=O)cc9C8=O)cc7)cc5)C6=O)cc4C3=O)cc2)cc1',\n",
       " 'O=CNc1ccc(Oc2ccc(N3C(=O)c4ccc(C(=O)Nc5ccc(Oc6ccc(N7C(=O)c8ccc(C(=O)Nc9ccc(Oc%10ccc(N%11C(=O)c%12ccccc%12C%11=O)cc%10)cc9)cc8C7=O)cc6)cc5)cc4C3=O)cc2)cc1',\n",
       " 'O=C(Nc1ccc(-c2ccc(NC(=O)c3ccc(-n4c(=O)c5sc6c(=O)n(-c7ccc(C(=O)Nc8ccc(-c9ccc(NC(=O)c%10ccc(-n%11c(=O)c%12sc%13c(=O)n(-c%14ccc(C(=O)Nc%15ccc(-c%16ccc(NC(=O)c%17ccc(-n%18c(=O)c%19sc%20c(=O)nc(=O)c%20sc%19c%18=O)cc%17)cc%16)cc%15)cc%14)c(=O)c%13sc%12c%11=O)cc%10)cc9)cc8)cc7)c(=O)c6sc5c4=O)cc3)cc2)cc1)c1ccccc1',\n",
       " 'CCCCCCOC(=O)OCCCCCCCCOC(=O)OCCCCCCn1c(=O)c2cc3c(=O)n(CCCCCCOC(=O)OCCCCCCCCOC(=O)OCCCCCCn4c(=O)c5cc6c(=O)n(CCCCCCOC(=O)OCCCCCCCCOC(=O)OCCCCCCn7c(=O)c8cc9c(=O)nc(=O)c9cc8c7=O)c(=O)c6cc5c4=O)c(=O)c3cc2c1=O',\n",
       " 'O=CNc1cc(NC(=O)c2ccc3[nH]c(-c4cccc(-c5nc6cc(C(=O)Nc7cc(NC(=O)c8ccc9[nH]c(-c%10cccc(-c%11nc%12cc(C(=O)Nc%13cc(NC(=O)c%14ccc%15[nH]c(-c%16cccc(-c%17nc%18ccccc%18[nH]%17)c%16)nc%15c%14)cc(-c%14nc%15ccccc%15[nH]%14)c%13)ccc%12[nH]%11)c%10)nc9c8)cc(-c8nc9ccccc9[nH]8)c7)ccc6[nH]5)c4)nc3c2)cc(-c2nc3ccccc3[nH]2)c1',\n",
       " 'C=CC=CC=CC=C(C=CC=CC=CC=C(C=CC=CC=CC=CCCS(=O)(=O)O)CCS(=O)(=O)O)CCS(=O)(=O)O',\n",
       " 'Nc1ccc(C(=O)c2ccc(Nc3ccc(C(=O)c4ccc(Nc5ccc(C(=O)c6cccs6)cc5)s4)cc3)s2)cc1',\n",
       " 'NC(=S)OC(=S)NC(=S)OC(=S)NC(=S)OC=S',\n",
       " 'Nc1ccc(-c2ccc(C(=S)Nc3ccc(-c4ccc(C(=S)Nc5ccc(-c6ccc(C=S)cc6)cc5)cc4)cc3)cc2)cc1',\n",
       " 'Fc1ccc(-c2csc(-c3sc(-c4sccc4-c4ccc(F)cc4)cc3-c3ccc(F)cc3)c2)cc1',\n",
       " 'O=c1nc(=O)c2cc3c(=O)n(-c4ccc5c(c4)Cc4cc(-n6c(=O)c7cc8c(=O)n(-c9ccc%10c(c9)Cc9cc(-n%11c(=O)c%12cc%13c(=O)n(-c%14ccc%15c(c%14)Cc%14ccccc%14-%15)c(=O)c%13cc%12c%11=O)ccc9-%10)c(=O)c8cc7c6=O)ccc4-5)c(=O)c3cc12',\n",
       " 'O=Cc1ccc2nc(-c3ccccc3)c(-c3ccc(-c4nc5cc(C(=O)c6ccc7nc(-c8ccccc8)c(-c8ccc(-c9nc%10cc(C(=O)c%11ccc%12nc(-c%13ccccc%13)c(-c%13ccc(-c%14nc%15ccccc%15nc%14-c%14ccccc%14)cc%13)nc%12c%11)ccc%10nc9-c9ccccc9)cc8)nc7c6)ccc5nc4-c4ccccc4)cc3)nc2c1',\n",
       " 'O=C1c2ccc(O)cc2C(=O)N1Oc1ccc(C(N2C(=O)CC(Oc3ccc4c(c3)C(=O)N(Oc3ccc(C(N5C(=O)CC(Oc6ccc7c(c6)C(=O)N(Oc6ccc(C(N8C(=O)CCC8=O)(C(F)(F)F)C(F)(F)F)cc6)C7=O)C5=O)(C(F)(F)F)C(F)(F)F)cc3)C4=O)C2=O)(C(F)(F)F)C(F)(F)F)cc1',\n",
       " 'O=C(Cl)Cc1csc(-c2sc(-c3sccc3CC(=O)Cl)cc2CC(=O)Cl)c1',\n",
       " 'O=c1nc(=O)c2c(F)c3c(=O)n(Oc4ccc(C(=Nc5ccc(N=C(c6ccccc6)c6ccc(On7c(=O)c8c(F)c9c(=O)n(Oc%10ccc(C(=Nc%11ccc(N=C(c%12ccccc%12)c%12ccc(On%13c(=O)c%14c(F)c%15c(=O)n(Oc%16ccc(C(=Nc%17ccc(N=C(c%18ccccc%18)c%18ccc(O)cc%18)cc%17)c%17ccccc%17)cc%16)c(=O)c%15c(F)c%14c%13=O)cc%12)cc%11)c%11ccccc%11)cc%10)c(=O)c9c(F)c8c7=O)cc6)cc5)c5ccccc5)cc4)c(=O)c3c(F)c12',\n",
       " 'O=c1nc(=O)c2cc3c(=O)n(-c4ccc(Oc5cc6ccccc6cc5Oc5ccc(-n6c(=O)c7cc8c(=O)n(-c9ccc(Oc%10cc%11ccccc%11cc%10Oc%10ccc(-n%11c(=O)c%12cc%13c(=O)n(-c%14ccc(Oc%15cc%16ccccc%16cc%15Oc%15ccccc%15)cc%14)c(=O)c%13cc%12c%11=O)cc%10)cc9)c(=O)c8cc7c6=O)cc5)cc4)c(=O)c3cc12',\n",
       " 'Nn1cnnc1-c1ccc(-n2c(=O)c3cc4c(=O)n(-c5cc(-c6nnc(-c7ccc(-n8c(=O)c9cc%10c(=O)n(-c%11cc(-c%12nnc(-c%13ccc(-n%14c(=O)c%15cc%16c(=O)n(-c%17ccsc%17-c%17c(Cl)cccc%17Cl)c(=O)c%16cc%15c%14=O)cc%13)n%12N)sc%11-c%11c(Cl)cccc%11Cl)c(=O)c%10cc9c8=O)cc7)n6N)sc5-c5c(Cl)cccc5Cl)c(=O)c4cc3c2=O)cc1',\n",
       " 'Nc1ccc(-c2ccc(NC(=O)c3ccc(C4(c5ccc(C(=O)Nc6ccc(-c7ccc(NC(=O)c8ccc(C9(c%10ccc(C(=O)Nc%11ccc(-c%12ccc(NC(=O)c%13ccc(C%14(c%15ccc(C=O)cc%15)OC(=O)c%15ccccc%15%14)cc%13)cc%12)cc%11)cc%10)OC(=O)c%10ccccc%109)cc8)cc7)cc6)cc5)OC(=O)c5ccccc54)cc3)cc2)cc1',\n",
       " 'O=Cc1ccc(Oc2ccc(C(=O)c3ccc(Oc4ccc(C(=O)c5ccc(Oc6cccs6)cc5)s4)cc3)s2)cc1',\n",
       " 'Cc1ccc(-c2ccc(-c3ccc(Cc4ccc(-c5ccc(-c6ccc(Cc7ccc(-c8ccc(-c9cccs9)cc8)s7)s6)cc5)s4)s3)cc2)s1',\n",
       " 'O=COc1ccc(OC(=O)c2ccc3c(c2)C(=O)N(c2ccc(Oc4ccc(N5C(=O)c6ccc(C(=O)Oc7ccc(OC(=O)c8ccc9c(c8)C(=O)N(c8ccc(Oc%10ccc(N%11C(=O)c%12ccc(C(=O)Oc%13ccc(OC(=O)c%14ccc%15c(c%14)C(=O)N(c%14ccc(Oc%16ccc(N%17C(=O)c%18ccccc%18C%17=O)cc%16)cc%14)C%15=O)c(-c%14ccccc%14)c%13)cc%12C%11=O)cc%10)cc8)C9=O)c(-c8ccccc8)c7)cc6C5=O)cc4)cc2)C3=O)c(-c2ccccc2)c1',\n",
       " 'CC(C)c1cc(C(C)(C)c2ccc(OC(=O)c3ccc(C(=O)Oc4ccc(C(C)(C)c5ccc(OC(=O)c6ccc(C(=O)Oc7ccc(C(C)(C)c8ccc(OC(=O)c9ccc(C=O)cc9)c(C(C)C)c8)cc7C(C)C)cc6)c(C(C)C)c5)cc4C(C)C)cc3)c(C(C)C)c2)ccc1O',\n",
       " 'C=CC(=O)C=Cc1ccc(Sc2ccc(C=CC(=O)C=Cc3ccc(Sc4ccc(C=CC(=O)C=Cc5ccc(Sc6ccco6)o5)o4)o3)o2)o1',\n",
       " 'CC(O)CN(CC(O)CN(CC(O)CNc1ccc(N=Nc2ccc([N+](=O)[O-])cc2)cc1)c1ccc(N=Nc2ccc([N+](=O)[O-])cc2)cc1)c1ccc(N=Nc2ccc([N+](=O)[O-])cc2)cc1',\n",
       " 'O=Cc1ccc2c(c1)C(=O)N(c1ccc(C(=O)Nc3ccc(N4C(=O)c5ccc(C(=O)c6ccc7c(c6)C(=O)N(c6ccc(C(=O)Nc8ccc(N9C(=O)c%10ccc(C(=O)c%11ccc%12c(c%11)C(=O)N(c%11ccc(C(=O)Nc%13ccc(N%14C(=O)c%15ccccc%15C%14=O)cc%13)cc%11)C%12=O)cc%10C9=O)cc8)cc6)C7=O)cc5C4=O)cc3)cc1)C2=O',\n",
       " 'Nc1ccc(-c2ccc(NC(=O)c3cc(C(=O)Nc4ccc(-c5ccc(NC(=O)c6cc(C(=O)Nc7ccc(-c8ccc(NC(=O)c9cc(C=O)cc(S(=O)(=O)c%10ccccc%10)c9)cc8)cc7)cc(S(=O)(=O)c7ccccc7)c6)cc5)cc4)cc(S(=O)(=O)c4ccccc4)c3)cc2)cc1',\n",
       " 'NC(=S)Nc1ccc(NC(=S)Nc2ccc(Oc3ccc(NC(=S)Nc4ccc(NC(=S)Nc5ccc(Oc6ccc(NC(=S)Nc7ccc(NC(=S)Nc8ccc(Oc9ccccc9)cc8)cc7)cc6)cc5)cc4)cc3)cc2)cc1',\n",
       " 'Cc1ccc(-c2ccc(C(=S)Cc3ccc(-c4ccc(C(=S)Cc5ccc(-c6ccc(C=S)cc6)cc5)cc4)cc3)cc2)cc1',\n",
       " 'CCCCCCCCc1csc(-c2ccc(-c3ccc(-c4sc(-c5ccc(-c6ccc(-c7sc(-c8ccc(-c9cccs9)s8)cc7CCCCCCCC)s6)s5)cc4CCCCCCCC)s3)s2)c1',\n",
       " 'Oc1ccc(C=Nc2ccc(N=Cc3ccc(Oc4ccc(C=Nc5ccc(N=Cc6ccc(Oc7ccc(C=Nc8ccc(N=Cc9ccccc9)cc8)cc7)cc6)cc5)cc4)cc3)cc2)cc1',\n",
       " 'O=C(O)c1cc(Oc2ccc(C(=O)Nc3ccc(Oc4ccc(Oc5ccc(NC(=O)c6ccc(Oc7ccc(C(=O)Nc8ccc(Oc9ccc(Oc%10ccc(NC(=O)c%11ccc(Oc%12ccc(C(=O)Nc%13ccc(Oc%14ccc(O)cc%14)cc%13)c(C(=O)O)c%12)cc%11C(=O)O)cc%10)cc9)cc8)c(C(=O)O)c7)cc6C(=O)O)cc5)cc4)cc3)c(C(=O)O)c2)ccc1C(=O)Nc1ccccc1',\n",
       " 'CCC(=O)c1ccc(CCC(=O)c2ccc(CCC(=O)c3cccs3)s2)s1',\n",
       " 'C=Cc1sc(C=Cc2sc(C=Cc3scc4c3OC(CCCCCC)CO4)c3c2OC(CCCCCC)CO3)c2c1OC(CCCCCC)CO2',\n",
       " 'O=C(c1ccc(Oc2ccccc2)cc1)c1ccc(Oc2ccc(-n3c(=O)c4cc5c(=O)n(-c6ccc(Oc7ccc(C(=O)c8ccc(Oc9ccc(-n%10c(=O)c%11cc%12c(=O)n(-c%13ccc(Oc%14ccc(C(=O)c%15ccc(Oc%16ccc(-n%17c(=O)c%18cc%19c(=O)nc(=O)c%19cc%18c%17=O)cc%16)cc%15)cc%14)cc%13)c(=O)c%12cc%11c%10=O)cc9)cc8)cc7)cc6)c(=O)c5cc4c3=O)cc2)cc1',\n",
       " 'c1ccc(-c2ccc(-c3ccc(-c4cc(-c5ccccc5)c5cc(-c6ccc7nc(-c8ccc(-c9ccc(-c%10ccc(-c%11cc(-c%12ccccc%12)c%12cc(-c%13ccc%14nc(-c%15ccc(-c%16ccc(-c%17ccc(-c%18cc(-c%19ccccc%19)c%19cc(-c%20ccc%21nccc(-c%22ccccc%22)c%21c%20)ccc%19n%18)cc%17)cc%16)cc%15)cc(-c%15ccccc%15)c%14c%13)ccc%12n%11)cc%10)cc9)cc8)cc(-c8ccccc8)c7c6)ccc5n4)cc3)cc2)cc1',\n",
       " 'CCCCCCC1COc2csc(-c3sc(-c4sc(-c5sc(-c6sc(-c7sc(-c8sc(-c9sc(-c%10scc%11nccnc%10%11)c%10c9OC(CCCCCC)CO%10)c9c8OCC(CCCCCC)O9)c8nccnc78)c7c6OC(CCCCCC)CO7)c6c5OCC(CCCCCC)O6)c5nccnc45)c4c3OC(CCCCCC)CO4)c2O1',\n",
       " 'O=C(O)c1ccc(C(=O)Oc2ccc(C3(c4ccc(OC(=O)c5ccc(C(=O)Oc6ccc(C7(c8ccc(OC(=O)c9ccc(C(=O)Oc%10ccc(C%11(c%12ccccc%12)c%12ccccc%12C(=O)c%12ccccc%12%11)cc%10)cc9)cc8)c8ccccc8C(=O)c8ccccc87)cc6)cc5)cc4)c4ccccc4C(=O)c4ccccc43)cc2)cc1',\n",
       " 'S=COC(=S)c1ccc(C(=S)OC(=S)c2ccc(C(=S)OC(=S)c3ccccc3)cc2)cc1',\n",
       " 'C#Cc1sc(-c2sc(C#Cc3sc(-c4sc(C#Cc5sc(-c6scc7c6OCCO7)c6c5OCCO6)c5c4OCCO5)c4c3OCCO4)c3c2OCCO3)c2c1OCCO2',\n",
       " 'C#CC#Cc1ccc(C#CC#Cc2ccc(C#CC#Cc3ccccc3)cc2)cc1',\n",
       " 'Fc1c(F)c(F)c(-n2cccc2-c2ccc(-c3ccc(-c4ccc(-c5ccc(-c6ccc(-c7ccc(-c8ccc(-c9cccs9)s8)n7-c7c(F)c(F)c(F)c(F)c7F)s6)s5)n4-c4c(F)c(F)c(F)c(F)c4F)s3)s2)c(F)c1F',\n",
       " 'O=C1c2ccccc2C(=O)N1c1cc(N2C(=O)c3ccc(C(c4ccc5c(c4)C(=O)N(c4cc(N6C(=O)c7ccc(C(c8ccc9c(c8)C(=O)N(c8cc(N%10C(=O)c%11ccc(C(C(F)(F)F)C(F)(F)F)cc%11C%10=O)c(O)cc8O)C9=O)(C(F)(F)F)C(F)(F)F)cc7C6=O)c(O)cc4O)C5=O)(C(F)(F)F)C(F)(F)F)cc3C2=O)c(O)cc1O',\n",
       " 'O=S(=O)(c1c(F)c(F)c(O)c(F)c1F)c1c(F)c(F)c(Oc2ccc(C(c3ccc(Oc4c(F)c(F)c(S(=O)(=O)c5c(F)c(F)c(Oc6ccc(C(c7ccc(Oc8c(F)c(F)c(S(=O)(=O)c9c(F)c(F)c(Oc%10ccc(C(c%11ccccc%11)(C(F)(F)F)C(F)(F)F)cc%10)c(F)c9F)c(F)c8F)cc7)(C(F)(F)F)C(F)(F)F)cc6)c(F)c5F)c(F)c4F)cc3)(C(F)(F)F)C(F)(F)F)cc2)c(F)c1F',\n",
       " 'O=Cc1ccc2c(c1)C(=O)N(c1cccc(-c3nc(-c4ccccc4)nc(-c4cccc(N5C(=O)c6ccc(C(=O)c7ccc8c(c7)C(=O)N(c7cccc(-c9nc(-c%10ccccc%10)nc(-c%10cccc(N%11C(=O)c%12ccc(C(=O)c%13ccc%14c(c%13)C(=O)N(c%13cccc(-c%15nc(-c%16ccccc%16)nc(-c%16cccc(N%17C(=O)c%18ccccc%18C%17=O)c%16)n%15)c%13)C%14=O)cc%12C%11=O)c%10)n9)c7)C8=O)cc6C5=O)c4)n3)c1)C2=O',\n",
       " 'Oc1ccc(C(=S)c2ccc(Oc3ccc(C(=S)c4ccc(Oc5ccc(C(=S)c6ccccc6)s5)cc4)s3)cc2)s1',\n",
       " 'NNC(=S)c1ccc(C(=S)NNC(=S)c2ccc(C(=S)NNC(=S)c3ccc(C=S)cc3)cc2)cc1',\n",
       " 'c1ccc(-c2cnc3ccc(-c4ccc5nc(-c6ccccc6)c(-c6cccc(-c7nc8ccc(-c9ccc%10nc(-c%11ccccc%11)c(-c%11cccc(-c%12nc%13ccc(-c%14ccc%15nc(-c%16ccccc%16)c(-c%16ccccc%16)nc%15c%14)cc%13nc%12-c%12ccccc%12)c%11)nc%10c9)cc8nc7-c7ccccc7)c6)nc5c4)cc3n2)cc1',\n",
       " 'O=Cc1ccc(C(=O)Oc2ccc(C3(c4ccc(OC(=O)c5ccc(C(=O)Oc6ccc(C7(c8ccc(OC(=O)c9ccc(C(=O)Oc%10ccc(C%11(c%12ccc(O)cc%12)c%12ccccc%12C(=O)c%12ccccc%12%11)cc%10)cc9)cc8)c8ccccc8C(=O)c8ccccc87)cc6)cc5)cc4)c4ccccc4C(=O)c4ccccc43)cc2)cc1',\n",
       " 'O=Cc1ccc2c(c1)C(=O)N(c1cccc(Cc3ccc(C(=O)c4ccc(N5C(=O)c6ccc(C(=O)c7ccc8c(c7)C(=O)N(c7cccc(Cc9ccc(C(=O)c%10ccc(N%11C(=O)c%12ccc(C(=O)c%13ccc%14c(c%13)C(=O)N(c%13cccc(Cc%15ccc(C(=O)c%16ccc(N%17C(=O)c%18ccccc%18C%17=O)cc%16)cc%15)c%13)C%14=O)cc%12C%11=O)cc%10)cc9)c7)C8=O)cc6C5=O)cc4)cc3)c1)C2=O',\n",
       " 'Nc1ccc(C(=O)ONc2ccc(C(=O)ONc3ccc(C(=O)O)s3)s2)s1',\n",
       " 'CC(c1ccc(O)cc1)(c1ccc(Oc2ccc(C(=O)c3ccc(Oc4ccc(C(C)(c5ccc(Oc6ccc(C(=O)c7ccc(Oc8ccc(C(C)(c9ccc(Oc%10ccc(C(=O)c%11ccccc%11)cc%10)cc9)C(F)(F)F)cc8)cc7)cc6)cc5)C(F)(F)F)cc4)cc3)cc2)cc1)C(F)(F)F',\n",
       " 'O=Cc1ccc(-c2ccc(OC(=O)c3ccc(-c4ccc(OC(=O)c5ccc(-c6ccc(O)cc6)s5)cc4)s3)cc2)s1',\n",
       " 'c1ccc(-c2ccc(Oc3ccc(-c4ccc(-c5ccc(Oc6ccc(-c7ccc(-c8ccc(Oc9cccs9)s8)cc7)s6)s5)cc4)s3)s2)cc1',\n",
       " 'c1ccc(-c2cnc3ccc(Oc4ccc5ncc(-c6ccc(-c7cnc8ccc(Oc9ccc%10ncc(-c%11ccc(-c%12cnc%13ccc(Oc%14ccc%15nccnc%15c%14)cc%13n%12)cc%11)nc%10c9)cc8n7)cc6)nc5c4)cc3n2)cc1',\n",
       " 'C#CC#Cc1ccc(-c2ccc(C#CC#Cc3ccc(-c4ccc(C#CC#Cc5ccc(-c6cccs6)s5)s4)s3)s2)s1',\n",
       " 'O=Cc1ccc2c(c1)C(=O)N(c1ccc(OCCOCCOc3ccc(N4C(=O)c5ccc(C(=O)c6ccc7c(c6)C(=O)N(c6ccc(OCCOCCOc8ccc(N9C(=O)c%10ccc(C(=O)c%11ccc%12c(c%11)C(=O)N(c%11ccc(OCCOCCOc%13ccc(N%14C(=O)c%15ccccc%15C%14=O)cc%13)cc%11)C%12=O)cc%10C9=O)cc8)cc6)C7=O)cc5C4=O)cc3)cc1)C2=O',\n",
       " 'O=C(Nc1ccc(O)cc1)c1ccc(-c2ccc(C(=O)Nc3ccc(Oc4ccc(C5(c6ccc(Oc7ccc(NC(=O)c8ccc(-c9ccc(C(=O)Nc%10ccc(Oc%11ccc(C%12(c%13ccc(Oc%14ccc(NC(=O)c%15ccc(-c%16ccc(C(=O)Nc%17ccc(Oc%18ccc(C%19(c%20ccccc%20)CC%20CCC%19C%20)cc%18)cc%17)cc%16)cc%15)cc%14)cc%13)CC%13CCC%12C%13)cc%11)cc%10)cc9)cc8)cc7)cc6)CC6CCC5C6)cc4)cc3)cc2)cc1',\n",
       " 'CC(C)(C)C1CCC(c2ccc(O)cc2)(c2ccc(OC(=O)c3ccc(C(=O)Oc4ccc(C5(c6ccc(OC(=O)c7ccc(C(=O)Oc8ccc(C9(c%10ccc(OC(=O)c%11ccc(C=O)cc%11)cc%10)CCC(C(C)(C)C)CC9)cc8)cc7)cc6)CCC(C(C)(C)C)CC5)cc4)cc3)cc2)CC1',\n",
       " 'C#CC=CC#CC=CC#CC=C',\n",
       " 'COc1ccc(-c2csc(-c3sc(-c4sccc4-c4ccc(OC)cc4)cc3-c3ccc(OC)cc3)c2)cc1',\n",
       " 'c1cc2sc3cc(-c4cc5sc6cc(-c7cc8sc9ccsc9c8s7)sc6c5s4)sc3c2s1',\n",
       " 'O=C(Nc1ccc(S(=O)(=O)c2ccc(NC(=O)c3ccc(Oc4nc(Oc5ccc(C(=O)Nc6ccc(S(=O)(=O)c7ccc(NC(=O)c8ccc(Oc9nc(Oc%10ccc(C(=O)Nc%11ccc(S(=O)(=O)c%12ccc(NC(=O)c%13ccc(Oc%14ncnc(Sc%15ccccc%15)n%14)cc%13)cc%12)cc%11)cc%10)nc(Sc%10ccccc%10)n9)cc8)cc7)cc6)cc5)nc(Sc5ccccc5)n4)cc3)cc2)cc1)c1ccc(O)cc1',\n",
       " 'CC(C)(C)c1cc(Oc2ccc(N3C(=O)c4ccc(C(=O)c5ccc6c(c5)C(=O)N(c5ccc(Oc7cc(C(C)(C)C)c(Oc8ccc(N9C(=O)c%10ccc(C(=O)c%11ccc%12c(c%11)C(=O)N(c%11ccc(Oc%13cc(C(C)(C)C)c(Oc%14ccc(N%15C(=O)c%16ccc(C=O)cc%16C%15=O)cc%14)cc%13C(C)(C)C)cc%11)C%12=O)cc%10C9=O)cc8)cc7C(C)(C)C)cc5)C6=O)cc4C3=O)cc2)c(C(C)(C)C)cc1Oc1ccc(N2C(=O)c3ccccc3C2=O)cc1',\n",
       " 'O=Cc1ccc2c(c1)C(=O)N(c1ccc(Cc3ccc(N4C(=O)c5ccc(C(=O)c6ccc7c(c6)C(=O)N(c6ccc(Cc8ccc(N9C(=O)c%10ccc(C(=O)c%11ccc%12c(c%11)C(=O)N(c%11ccc(Cc%13ccc(N%14C(=O)c%15ccccc%15C%14=O)cc%13)cc%11)C%12=O)cc%10C9=O)cc8)cc6)C7=O)cc5C4=O)cc3)cc1)C2=O',\n",
       " 'c1ccc(-c2cnc3ccc(-c4ccc5ncc(-c6ccc(-c7cnc8ccc(-c9ccc%10ncc(-c%11ccc(-c%12cnc%13ccc(-c%14ccc%15nccnc%15c%14)cc%13n%12)cc%11)nc%10c9)cc8n7)cc6)nc5c4)cc3n2)cc1',\n",
       " 'Cc1ccc(C(=O)C(=S)Cc2ccc(C(=O)C(=S)Cc3ccc(C(=O)C=S)s3)s2)s1',\n",
       " 'Cc1ccc(C(=S)OCc2ccc(C(=S)OCc3ccc(C(O)=S)s3)s2)s1',\n",
       " 'c1ccc(-c2ccc(-c3cc(-c4ccc(Oc5ccc(-c6cc(-c7ccc(-c8ccc(-c9cc(-c%10ccc(Oc%11ccc(-c%12cc(-c%13ccc(-c%14ccc(-c%15cc(-c%16ccc(Oc%17ccc(-c%18ccnc%19ccccc%18%19)cc%17)cc%16)c%16ccccc%16n%15)cc%14)cc%13)nc%13ccccc%12%13)cc%11)cc%10)c%10ccccc%10n9)cc8)cc7)nc7ccccc67)cc5)cc4)c4ccccc4n3)cc2)cc1',\n",
       " 'Cc1cc(-c2csc(-c3sc(-c4sccc4-c4cc(C)c(Br)cc4C)cc3-c3cc(C)c(Br)cc3C)c2)c(C)cc1Br',\n",
       " 'S=Cc1ccc(-c2ccc(-c3ccc(C(=S)c4ccc(-c5ccc(-c6ccc(C(=S)c7ccc(-c8ccc(-c9cccs9)s8)s7)s6)s5)s4)s3)s2)s1',\n",
       " 'O=Cc1ccc2c(c1)C(=O)N(c1ccc(Oc3ccc(N4C(=O)c5ccc(C(=O)c6ccc7c(c6)C(=O)N(c6ccc(Oc8ccc(N9C(=O)c%10ccc(C(=O)c%11ccc%12c(c%11)C(=O)N(c%11ccc(Oc%13ccc(N%14C(=O)c%15ccccc%15C%14=O)cc%13Br)c(Br)c%11)C%12=O)cc%10C9=O)cc8Br)c(Br)c6)C7=O)cc5C4=O)cc3Br)c(Br)c1)C2=O',\n",
       " 'CCCCCCCCCCSc1csc(-c2ccc(-c3ccc(-c4sc(-c5ccc(-c6ccc(-c7sc(-c8ccc(-c9ccccc9)cc8)cc7SCCCCCCCCCC)cc6)cc5)cc4SCCCCCCCCCC)cc3)cc2)c1',\n",
       " 'c1ccc(-c2ccc(-c3cc(-c4ccccc4)c4cc5nc(-c6ccc(-c7ccc(-c8cc(-c9ccccc9)c9cc%10nc(-c%11ccc(-c%12ccc(-c%13cc(-c%14ccccc%14)c%14cc%15nccc(-c%16ccccc%16)c%15cc%14n%13)cc%12)cc%11)cc(-c%11ccccc%11)c%10cc9n8)cc7)cc6)cc(-c6ccccc6)c5cc4n3)cc2)cc1',\n",
       " 'Cc1ccc(-c2ccc(NCc3ccc(-c4ccc(NCc5ccc(-c6ccc(N)s6)s5)s4)s3)s2)s1',\n",
       " 'O=Cc1ccc(-c2ccc(-c3ccc(C(=O)c4ccc(-c5ccc(-c6ccc(C(=O)c7ccc(-c8ccc(-c9cccs9)cc8)s7)s6)cc5)s4)s3)cc2)s1',\n",
       " 'O=c1nc(=O)c2cc3c(=O)n(Oc4c(F)c(F)c(On5c(=O)c6cc7c(=O)n(Oc8c(F)c(F)c(On9c(=O)c%10cc%11c(=O)n(Oc%12c(F)c(F)c(O)c(F)c%12F)c(=O)c%11cc%10c9=O)c(F)c8F)c(=O)c7cc6c5=O)c(F)c4F)c(=O)c3cc12',\n",
       " 'CCCCCCc1ccc(C#Cn2cccc2-c2ccc(-c3ccc(-c4ccc(-c5ccc(-c6cccs6)n5C#Cc5ccc(CCCCCC)cc5)s4)n3C#Cc3ccc(CCCCCC)cc3)s2)cc1',\n",
       " 'Nc1ccc(C#Cc2ccc(C(=O)Nc3ccc(C#Cc4ccc(C(=O)Nc5ccc(C#Cc6ccc(C=O)cc6)cc5)cc4)cc3)cc2)cc1',\n",
       " 'O=C(c1ccc(C(F)(F)C(F)(F)C(=O)c2ccc(C(F)(F)C(F)(F)C(=O)c3cccs3)s2)s1)C(F)(F)C(F)F',\n",
       " 'CC(C)(c1ccc(Oc2ccc3c(c2)C(=O)NC3=O)cc1)c1ccc(Oc2ccc3c(c2)C(=O)N(c2cccc(N4C(=O)c5ccc(Oc6ccc(C(C)(C)c7ccc(Oc8ccc9c(c8)C(=O)N(c8cccc(N%10C(=O)c%11ccc(Oc%12ccc(C(C)(C)c%13ccc(Oc%14ccc%15c(c%14)C(=O)N(c%14ccccc%14)C%15=O)cc%13)cc%12)cc%11C%10=O)c8)C9=O)cc7)cc6)cc5C4=O)c2)C3=O)cc1',\n",
       " 'CC(=O)C(=S)c1ccc(CC(=O)C(=S)c2ccc(CC(=O)C(=S)c3ccccc3)cc2)cc1',\n",
       " 'O=c1nc(=O)c2cc3c(=O)n(-c4ccc(S(=O)(=O)c5ccc(-n6c(=O)c7cc8c(=O)n(-c9ccc(S(=O)(=O)c%10ccc(-n%11c(=O)c%12cc%13c(=O)n(-c%14ccc(S(=O)(=O)c%15ccccc%15)cc%14)c(=O)c%13cc%12c%11=O)cc%10)cc9)c(=O)c8cc7c6=O)cc5)cc4)c(=O)c3cc12',\n",
       " 'Nc1cc(N)c(NC(=O)c2ccc(C(=O)Nc3cc(NC(=O)c4ccc(C(=O)Nc5cc(NC(=O)c6ccc(C=O)cc6)c(N)cc5N)cc4)c(N)cc3N)cc2)cc1N',\n",
       " 'O=CNc1ccc(NC(=O)c2ccc3c(c2)C(=O)N(c2ccc(Oc4ccc(N5C(=O)c6ccc(C(=O)Nc7ccc(NC(=O)c8ccc9c(c8)C(=O)N(c8ccc(Oc%10ccc(N%11C(=O)c%12ccc(C(=O)Nc%13ccc(NC(=O)c%14ccc%15c(c%14)C(=O)N(c%14ccc(Oc%16ccc(N%17C(=O)c%18ccccc%18C%17=O)cc%16)cc%14)C%15=O)cc%13)cc%12C%11=O)cc%10)cc8)C9=O)cc7)cc6C5=O)cc4)cc2)C3=O)cc1',\n",
       " 'CN(C)c1ccc(C=Cc2cc(NC(=O)c3c(F)cc(C(=O)Nc4cc([N+](=O)[O-])c(NC(=O)c5c(F)cc(C(=O)Nc6cc([N+](=O)[O-])c(NC(=O)c7c(F)cc(C=O)cc7F)cc6C=Cc6ccc(N(C)C)cc6)cc5F)cc4C=Cc4ccc(N(C)C)cc4)cc3F)c([N+](=O)[O-])cc2N)cc1',\n",
       " 'CNC(=S)c1ccc(CNC(=S)c2ccc(CNC(=S)c3cccs3)s2)s1',\n",
       " 'c1ccc(-c2ccc(-c3cc(-c4ccccc4)c4cc5c(-c6ccccc6)cc(-c6ccc(-c7ccc(-c8cc(-c9ccccc9)c9cc%10c(-c%11ccccc%11)cc(-c%11ccc(-c%12ccc(-c%13cc(-c%14ccccc%14)c%14cc%15c(-c%16ccccc%16)ccnc%15cc%14n%13)cc%12)cc%11)nc%10cc9n8)cc7)cc6)nc5cc4n3)cc2)cc1',\n",
       " 'O=C(Oc1cccc2cccnc12)c1csc(-c2sc(-c3sccc3C(=O)Oc3cccc4cccnc34)cc2C(=O)Oc2cccc3cccnc23)c1',\n",
       " 'CC(CCC(=O)O)(c1ccc(O)c([N+](=O)[O-])c1)c1ccc(OC(=O)c2cccc(C(=O)Oc3ccc(C(C)(CCC(=O)O)c4ccc(OC(=O)c5cccc(C(=O)Oc6ccc(C(C)(CCC(=O)O)c7ccc(OC(=O)c8cccc(C=O)c8)c([N+](=O)[O-])c7)cc6[N+](=O)[O-])c5)c([N+](=O)[O-])c4)cc3[N+](=O)[O-])c2)c([N+](=O)[O-])c1']"
      ]
     },
     "execution_count": 9,
     "metadata": {},
     "output_type": "execute_result"
    }
   ],
   "source": [
    "keep_test"
   ]
  },
  {
   "cell_type": "code",
   "execution_count": 10,
   "metadata": {},
   "outputs": [
    {
     "data": {
      "text/plain": [
       "165"
      ]
     },
     "execution_count": 10,
     "metadata": {},
     "output_type": "execute_result"
    }
   ],
   "source": [
    "len(keep_test)"
   ]
  },
  {
   "cell_type": "code",
   "execution_count": 11,
   "metadata": {},
   "outputs": [],
   "source": [
    "keep_train = []"
   ]
  },
  {
   "cell_type": "code",
   "execution_count": 12,
   "metadata": {},
   "outputs": [],
   "source": [
    "test = ['a', 'b']"
   ]
  },
  {
   "cell_type": "code",
   "execution_count": 13,
   "metadata": {},
   "outputs": [
    {
     "data": {
      "text/plain": [
       "'a b'"
      ]
     },
     "execution_count": 13,
     "metadata": {},
     "output_type": "execute_result"
    }
   ],
   "source": [
    "' '.join(test)"
   ]
  },
  {
   "cell_type": "code",
   "execution_count": 14,
   "metadata": {},
   "outputs": [],
   "source": [
    "with open('%strain.txt' %data_dir, 'r') as handle:\n",
    "    for line in handle:\n",
    "        if random.random() <= frac:\n",
    "            keep_train.append(' '.join(line.split()))"
   ]
  },
  {
   "cell_type": "code",
   "execution_count": 15,
   "metadata": {},
   "outputs": [
    {
     "data": {
      "text/plain": [
       "['CCCCCc1ccc(CCCCCOC(=O)c2ccc(C(=O)OCCCCCc3ccc(CCCCCOC(=O)c4ccc(C(=O)OCCCCCc5ccc(CCCCCOC(=O)c6ccc(C(=O)O)cc6)cc5)cc4)cc3)cc2)cc1 CCOC(=O)NC1CCC(NC(=O)OCCOC(=O)NC2CCC(NC(=O)OCCOC(=O)NC3CCC(NC(=O)O)CC3)CC2)CC1',\n",
       " 'C=CCOC(=O)c1cc(C(=O)Oc2ccc(OCCCCOc3ccc(OC(=O)c4ccc(C(=O)Oc5ccc(OCCCCOc6ccc(OC(=O)c7ccc(C(=O)Oc8ccc(OCCCC)cc8)cc7C(=O)OCC=C)cc6)cc5)cc4C(=O)OCC=C)cc3)cc2)ccc1C(=O)Oc1ccc(O)cc1 CCCCCCCCCCCCCCCCOC(=O)CCCCCCC(=O)OCCCCCCCCCCCCCCCCOC(=O)CCCCCCC(=O)OCCCCCCCCCCCCCCCCOC(=O)CCCCCCC(=O)O',\n",
       " 'C#Cc1cc(OCCCCCCCCCCCC)c(C#Cc2ccc(C#Cc3cc(OCCCCCCCCCCCC)c(C#Cc4ccc(C#Cc5cc(OCCCCCCCCCCCC)c(C#Cc6cccc([N+](=O)[O-])c6)cc5OCCCCCCCCCCCC)c([N+](=O)[O-])c4)cc3OCCCCCCCCCCCC)c([N+](=O)[O-])c2)cc1OCCCCCCCCCCCC CCCCCCCCCCOC(=O)C1CCC(C(=O)OCCCCCCCCCCOC(=O)C2CCC(C(=O)OCCCCCCCCCCOC(=O)C3CCC(C(=O)O)CC3)CC2)CC1',\n",
       " 'CCCCCCCCCCOc1cccc(OC(=O)c2ccc(C(=O)Oc3cccc(OCCCCCCCCCCOc4cccc(OC(=O)c5ccc(C(=O)Oc6cccc(OCCCCCCCCCCOc7cccc(OC(=O)c8ccc(C(=O)Oc9cccc(O)c9)cc8)c7)c6)cc5)c4)c3)cc2)c1 CCCCCCCCCCCCOC(=O)CCCCCCCCCCCCC(=O)OCCCCCCCCCCCCOC(=O)CCCCCCCCCCCCC(=O)OCCCCCCCCCCCCOC(=O)CCCCCCCCCCCCC(=O)O',\n",
       " 'CCCCCC[N+](C)(C)CCCCC[N+](C)(C)CCCCCC[N+](C)(C)CCCCC[N+](C)(C)CCCCCC[N+](C)(C)CCCCC[N+](C)C CCCCCCCCC(Cl)C(Cl)CCCCCCCCC(Cl)C(Cl)CCCCCCCCC(Cl)CCl',\n",
       " 'CC(CC(CCC(=O)OCCCOc1ccc(-c2ccc(C#N)cc2)cc1)C(=O)OCCCOc1ccc(-c2ccc(C#N)cc2)cc1)C(=O)OCCCOc1ccc(-c2ccc(C#N)cc2)cc1 CCCCCCCCCCCCOC(=O)CCCCC(=O)OCCCCCCCCCCCCOC(=O)CCCCC(=O)OCCCCCCCCCCCCOC(=O)CCCCC(=O)O',\n",
       " 'CCCCOC(=O)SSSC(=O)OCCCCOC(=O)SSSC(=O)OCCCCOC(=O)SSSC(=O)O CCOC(=O)NCCCCCCNC(=O)OCCOC(=O)NCCCCCCNC(=O)OCCOC(=O)NCCCCCCNC(=O)O',\n",
       " 'CCCCCCCCCCCCOC(=O)c1csc(-c2ccc(-c3sc(-c4ccc(-c5sc(-c6cccs6)cc5C(=O)OCCCCCCCCCCCC)s4)cc3C(=O)OCCCCCCCCCCCC)s2)c1 CCCCCCOC(=O)CCCCCCCC(=O)OCCCCCCOC(=O)CCCCCCCC(=O)OCCCCCCOC(=O)CCCCCCCC(=O)O',\n",
       " 'CCCCOC(=O)SSSC(=O)OCCCCOC(=O)SSSC(=O)OCCCCOC(=O)SSSC(=O)O CCOCCOCCOC(=O)CCCCCC(=O)OCCOCCOCCOC(=O)CCCCCC(=O)OCCOCCOCCOC(=O)CCCCCC(=O)O',\n",
       " 'CCCCCCCCCCCCOC(=O)c1csc(-c2ccc(-c3sc(-c4ccc(-c5sc(-c6cccs6)cc5C(=O)OCCCCCCCCCCCC)s4)cc3C(=O)OCCCCCCCCCCCC)s2)c1 CCCCCCCCC(=O)OCCCCCCCCC(=O)OCCCCCCCCC(=O)O',\n",
       " 'CCCCCOCCCCCCOc1cc(C(=O)Oc2ccc(OC(=O)c3cc(OCCCCCCOCCCCC)c(C(=O)Oc4ccc(OC(=O)c5cc(OCCCCCCOCCCCC)c(C(=O)Oc6ccc(O)cc6)cc5OCCCCCCOCCCCC)cc4)cc3OCCCCCCOCCCCC)cc2)c(OCCCCCCOCCCCC)cc1C=O CCCCCCCCC(=O)OCCCCCCCCC(=O)OCCCCCCCCC(=O)O',\n",
       " 'CC(CC(C)(CC(C)(C)C(=O)Oc1ccc(N=Nc2ccc(C#N)cc2)cc1)C(=O)Oc1ccc(N=Nc2ccc(C#N)cc2)cc1)C(=O)Oc1ccc(N=Nc2ccc(C#N)cc2)cc1 CCOCCOC(=O)C(C)CC(C)(CC(C)(C)C(=O)OCCOCC)C(=O)OCCOCC',\n",
       " 'CCCCCc1ccc(CCCCCOC(=O)c2ccc(C(=O)OCCCCCc3ccc(CCCCCOC(=O)c4ccc(C(=O)OCCCCCc5ccc(CCCCCOC(=O)c6ccc(C(=O)O)cc6)cc5)cc4)cc3)cc2)cc1 CCCCCCOC(=O)C1CCC(C(=O)OCCCCCCOC(=O)C2CCC(C(=O)OCCCCCCOC(=O)C3CCC(C(=O)O)CC3)CC2)CC1',\n",
       " 'CCCCCCCCCCOc1ccc(OCCCCCCCCCC)c(-c2ccc(-c3cc(OCCCCCCCCCC)c(-c4ccc(-c5cc(OCCCCCCCCCC)c(-c6ccccc6)cc5OCCCCCCCCCC)cc4)cc3OCCCCCCCCCC)cc2)c1 CCCCCCOC(=O)CCCCCCCCC(=O)OCCCCCCOC(=O)CCCCCCCCC(=O)OCCCCCCOC(=O)CCCCCCCCC(=O)O',\n",
       " 'CCCCCc1ccc(CCCCCOC(=O)c2ccc(C(=O)OCCCCCc3ccc(CCCCCOC(=O)c4ccc(C(=O)OCCCCCc5ccc(CCCCCOC(=O)c6ccc(C(=O)O)cc6)cc5)cc4)cc3)cc2)cc1 CCC(C)CCOC(=O)CCCCC(=O)OCCC(C)CCOC(=O)CCCCC(=O)OCCC(C)CCOC(=O)CCCCC(=O)O',\n",
       " 'CCCCCC[N+](C)(C)CCCCC[N+](C)(C)CCCCCC[N+](C)(C)CCCCC[N+](C)(C)CCCCCC[N+](C)(C)CCCCC[N+](C)C CCCCCCCCCCCCCC(=O)OCCCCCCCCCCCCCC(=O)OCCCCCCCCCCCCCC(=O)O',\n",
       " 'CC(=NN=C(C)c1ccc(OC(=O)CCCCCCCCC(=O)Oc2ccc(C(C)=NN=C(C)c3ccc(OC(=O)CCCCCCCCC(=O)Oc4ccc(C(C)=NN=C(C)c5ccc(OC(=O)CCCCCCCCC=O)cc5)cc4)cc3)cc2)cc1)c1ccc(O)cc1 CCCOC(=O)CCCCCCCCC(=O)OCCCOC(=O)CCCCCCCCC(=O)OCCCOC(=O)CCCCCCCCC(=O)O',\n",
       " 'CCCCCc1ccc(CCCCCOC(=O)c2ccc(C(=O)OCCCCCc3ccc(CCCCCOC(=O)c4ccc(C(=O)OCCCCCc5ccc(CCCCCOC(=O)c6ccc(C(=O)O)cc6)cc5)cc4)cc3)cc2)cc1 CCOCCOCCOC(=O)NCCCCCCNC(=O)OCCOCCOCCOC(=O)NCCCCCCNC(=O)OCCOCCOCCOC(=O)NCCCCCCNC(=O)O',\n",
       " 'CCCCCOCCCCCCOc1cc(C(=O)Oc2ccc(OC(=O)c3cc(OCCCCCCOCCCCC)c(C(=O)Oc4ccc(OC(=O)c5cc(OCCCCCCOCCCCC)c(C(=O)Oc6ccc(O)cc6)cc5OCCCCCCOCCCCC)cc4)cc3OCCCCCCOCCCCC)cc2)c(OCCCCCCOCCCCC)cc1C=O CCCCCCCCCCOC(=O)CCCCS(=O)(=O)CCCCC(=O)OCCCCCCCCCCOC(=O)CCCCS(=O)(=O)CCCCC(=O)OCCCCCCCCCCOC(=O)CCCCS(=O)(=O)CCCCC(=O)O',\n",
       " 'CC(CC(CCC(=O)OCCCOc1ccc(-c2ccc(C#N)cc2)cc1)C(=O)OCCCOc1ccc(-c2ccc(C#N)cc2)cc1)C(=O)OCCCOc1ccc(-c2ccc(C#N)cc2)cc1 CCCCCCOC(=O)CCCC(=O)OCCCCCCOC(=O)CCCC(=O)OCCCCCCOC(=O)CCCC(=O)O',\n",
       " 'CC(CC(C)(CC(C)(C)C(=O)Oc1ccc(N=Nc2ccc(C#N)cc2)cc1)C(=O)Oc1ccc(N=Nc2ccc(C#N)cc2)cc1)C(=O)Oc1ccc(N=Nc2ccc(C#N)cc2)cc1 CC(CC(C)(CC(C)(C)C(=O)OCCC#N)C(=O)OCCC#N)C(=O)OCCC#N',\n",
       " 'CCCCCCCCCCCCOc1cc(C(=O)Oc2ccc(OC(=O)c3cc(OCCCCCCCCCCCC)c(C(=O)Oc4ccc(OC(=O)c5cc(OCCCCCCCCCCCC)c(C(=O)Oc6ccc(O)cc6)cc5OCCCCCCCCCCCC)cc4)cc3OCCCCCCCCCCCC)cc2)c(OCCCCCCCCCCCC)cc1C=O CCCCCCOCCCCCCOCCCCCCO',\n",
       " 'CCCCCOc1csc(-c2cc(OCCCCC)c(-c3sc(-c4cc(OCCCCC)c(-c5sc(-c6cc(OCCCCC)cs6)cc5OCCCCC)s4)cc3OCCCCC)s2)c1 CCCCCCCCCCCCCCCCOC(=O)CCCCC(=O)OCCCCCCCCCCCCCCCCOC(=O)CCCCC(=O)OCCCCCCCCCCCCCCCCOC(=O)CCCCC(=O)O',\n",
       " 'CCCCCCCCCCCCOc1cc(C(=O)Oc2ccc(OC(=O)c3cc(OCCCCCCCCCCCC)c(C(=O)Oc4ccc(OC(=O)c5cc(OCCCCCCCCCCCC)c(C(=O)Oc6ccc(O)cc6)cc5OCCCCCCCCCCCC)cc4)cc3OCCCCCCCCCCCC)cc2)c(OCCCCCCCCCCCC)cc1C=O CCCCCCCCCCCCOC(=O)CCCCC(=O)OCCCCCCCCCCCCOC(=O)CCCCC(=O)OCCCCCCCCCCCCOC(=O)CCCCC(=O)O',\n",
       " 'CCCCCCCCOC(=O)Cc1c[nH]c(-c2[nH]c(-c3[nH]ccc3CC(=O)OCCCCCCCC)cc2CC(=O)OCCCCCCCC)c1 CCCCCCCCOC(=O)CCCCCCC(=O)OCCCCCCCCOC(=O)CCCCCCC(=O)OCCCCCCCCOC(=O)CCCCCCC(=O)O',\n",
       " 'CCCCCOCCCCCCOc1cc(C(=O)Oc2ccc(OC(=O)c3cc(OCCCCCCOCCCCC)c(C(=O)Oc4ccc(OC(=O)c5cc(OCCCCCCOCCCCC)c(C(=O)Oc6ccc(O)cc6)cc5OCCCCCCOCCCCC)cc4)cc3OCCCCCCOCCCCC)cc2)c(OCCCCCCOCCCCC)cc1C=O CCCCCCOC(=O)NCC(F)(F)C(F)(F)C(F)(F)C(F)(F)CNC(=O)OCCCCCCOC(=O)NCC(F)(F)C(F)(F)C(F)(F)C(F)(F)CNC(=O)OCCCCCCOC(=O)NCC(F)(F)C(F)(F)C(F)(F)C(F)(F)CNC(=O)O',\n",
       " 'CC(=S)C(=O)OCC(=S)C(=O)OCC(=S)C(=O)O CCOC(=O)OCCOC(=O)OCCOC(=O)O',\n",
       " 'CCCCCCCCCCCCOC(=O)c1csc(-c2ccc(-c3sc(-c4ccc(-c5sc(-c6cccs6)cc5C(=O)OCCCCCCCCCCCC)s4)cc3C(=O)OCCCCCCCCCCCC)s2)c1 CCCCOC(=O)NCCCCCCNC(=O)OCCCCOC(=O)NCCCCCCNC(=O)OCCCCOC(=O)NCCCCCCNC(=O)O',\n",
       " 'CCCCOC(=O)SSSC(=O)OCCCCOC(=O)SSSC(=O)OCCCCOC(=O)SSSC(=O)O CCCCCCCCCCOC(=O)CCCCC(=O)OCCCCCCCCCCOC(=O)CCCCC(=O)OCCCCCCCCCCOC(=O)CCCCC(=O)O',\n",
       " 'CCCCCOc1csc(-c2cc(OCCCCC)c(-c3sc(-c4cc(OCCCCC)c(-c5sc(-c6cc(OCCCCC)cs6)cc5OCCCCC)s4)cc3OCCCCC)s2)c1 CCCCCCCCOC(=O)OCCCCCCCCOC(=O)OCCCCCCCCOC(=O)O',\n",
       " 'CC(CC(C)(CC(C)(C)C(=O)Oc1ccc(N=Nc2ccc(C#N)cc2)cc1)C(=O)Oc1ccc(N=Nc2ccc(C#N)cc2)cc1)C(=O)Oc1ccc(N=Nc2ccc(C#N)cc2)cc1 CC(CC(C)(CC(C)(C)C(=O)OC(F)(C(F)(F)F)C(F)(F)F)C(=O)OC(F)(C(F)(F)F)C(F)(F)F)C(=O)OC(F)(C(F)(F)F)C(F)(F)F',\n",
       " 'CC(=NN=C(C)c1ccc(OC(=O)CCCCCCCCC(=O)Oc2ccc(C(C)=NN=C(C)c3ccc(OC(=O)CCCCCCCCC(=O)Oc4ccc(C(C)=NN=C(C)c5ccc(OC(=O)CCCCCCCCC=O)cc5)cc4)cc3)cc2)cc1)c1ccc(O)cc1 CC(O)COC(=O)CCCCC(=O)OC(C)COC(=O)CCCCC(=O)OC(C)COC(=O)CCCCC=O',\n",
       " 'CC(=S)COCC(=S)COCC(=S)CO CCCCOCOCCCCOCOCCCCOCO',\n",
       " 'CCCCCCCCCCCCOc1cc(C(=O)Oc2ccc(OC(=O)c3cc(OCCCCCCCCCCCC)c(C(=O)Oc4ccc(OC(=O)c5cc(OCCCCCCCCCCCC)c(C(=O)Oc6ccc(O)cc6)cc5OCCCCCCCCCCCC)cc4)cc3OCCCCCCCCCCCC)cc2)c(OCCCCCCCCCCCC)cc1C=O CCCCCOC(=O)NC(=O)C1CC1C(=O)NC(=O)OCCCCCOC(=O)NC(=O)C1CC1C(=O)NC(=O)OCCCCCOC(=O)NC(=O)C1CC1C(=O)NC(=O)O',\n",
       " 'CCCCOC(=O)SSSC(=O)OCCCCOC(=O)SSSC(=O)OCCCCOC(=O)SSSC(=O)O CCCCCCCCCCOC(=O)CCC(=O)OCCCCCCCCCCOC(=O)CCC(=O)OCCCCCCCCCCOC(=O)CCC(=O)O',\n",
       " 'CCCCCCCCCCCCOc1ccc(C=NN=Cc2ccc(OCCCCCCCCCCCCOc3ccc(C=NN=Cc4ccc(OCCCCCCCCCCCCOc5ccc(C=NN=Cc6ccc(O)cc6O)c(O)c5)cc4O)c(O)c3)cc2O)c(O)c1 CCCCOC(=O)CCCCC(=O)OCCCCOC(=O)CCCCC(=O)OCCCCOC(=O)CCCCC(=O)O',\n",
       " 'C#Cc1cc(OCCCCCCCCCCCC)c(C#Cc2ccc(C#Cc3cc(OCCCCCCCCCCCC)c(C#Cc4ccc(C#Cc5cc(OCCCCCCCCCCCC)c(C#Cc6cccc([N+](=O)[O-])c6)cc5OCCCCCCCCCCCC)c([N+](=O)[O-])c4)cc3OCCCCCCCCCCCC)c([N+](=O)[O-])c2)cc1OCCCCCCCCCCCC CCCCCCCCOC(=O)OCCCCCCCCOC(=O)OCCCCCCCCOC(=O)O',\n",
       " 'CCCCCCc1ncsc1-c1sc(-c2nc(CCCCCC)c(-c3sc(-c4nc(CCCCCC)c(-c5scnc5CCCCCC)s4)nc3CCCCCC)s2)nc1CCCCCC CCCCCCCCC(CC)CCCCCC(CC)CCCCC',\n",
       " 'CCCCOC(=O)SSSC(=O)OCCCCOC(=O)SSSC(=O)OCCCCOC(=O)SSSC(=O)O CCC(C)CCOC(=O)CCCCC(=O)OCCC(C)CCOC(=O)CCCCC(=O)OCCC(C)CCOC(=O)CCCCC(=O)O',\n",
       " 'CC(CC(CCC(=O)OCCOC(=O)c1cc([N+](=O)[O-])cc([N+](=O)[O-])c1)C(=O)OCCOC(=O)c1cc([N+](=O)[O-])cc([N+](=O)[O-])c1)C(=O)OCCOC(=O)c1cc([N+](=O)[O-])cc([N+](=O)[O-])c1 CCCOC(=O)CCCCCCCCCCC(=O)OCCCOC(=O)CCCCCCCCCCC(=O)OCCCOC(=O)CCCCCCCCCCC(=O)O',\n",
       " 'CC(CC(C)(CC(C)(C)C(=O)Oc1ccc(N=Nc2ccc(C#N)cc2)cc1)C(=O)Oc1ccc(N=Nc2ccc(C#N)cc2)cc1)C(=O)Oc1ccc(N=Nc2ccc(C#N)cc2)cc1 CCOC(=O)C(C#N)CC(C#N)(CC(C)(C#N)C(=O)OCC)C(=O)OCC',\n",
       " 'CCCCCCCCCCOc1ccc(OCCCCCCCCCC)c(-c2ccc(-c3cc(OCCCCCCCCCC)c(-c4ccc(-c5cc(OCCCCCCCCCC)c(-c6ccccc6)cc5OCCCCCCCCCC)cc4)cc3OCCCCCCCCCC)cc2)c1 CCCCOCOCCCCOCOCCCCOCO',\n",
       " 'O=C(COc1ccccc1)OCCCCCCc1csc(-c2sc(-c3sccc3CCCCCCOC(=O)COc3ccccc3)cc2CCCCCCOC(=O)COc2ccccc2)c1 CCCCCOC(=O)CC(=O)OCCCCCOC(=O)CC(=O)OCCCCCOC(=O)CC(=O)O',\n",
       " 'CCCCOC(=O)CC(=CC(=O)OCCCCOC(=O)CC(=CC(=O)OCCCCOC(=O)CC(=CC(=O)O)c1ccc(OCC)cc1)c1ccc(OCC)cc1)c1ccc(OCC)cc1 CCCOC(=O)CCCCCCC(=O)OCCCOC(=O)CCCCCCC(=O)OCCCOC(=O)CCCCCCC(=O)O',\n",
       " 'CC(CC(CCC(=O)OCCCOc1ccc(-c2ccc(C#N)cc2)cc1)C(=O)OCCCOc1ccc(-c2ccc(C#N)cc2)cc1)C(=O)OCCCOc1ccc(-c2ccc(C#N)cc2)cc1 CCC(=O)OCCC(=O)OCCC(=O)O',\n",
       " 'CC(CC(CCC(=O)OCCCOc1ccc(-c2ccc(C#N)cc2)cc1)C(=O)OCCCOc1ccc(-c2ccc(C#N)cc2)cc1)C(=O)OCCCOc1ccc(-c2ccc(C#N)cc2)cc1 CCCNC(=O)CCC(CC(C)C(=O)NCCC)C(=O)NCCC',\n",
       " 'CCCCCCCCCCCCOc1ccc(C=NN=Cc2ccc(OCCCCCCCCCCCCOc3ccc(C=NN=Cc4ccc(OCCCCCCCCCCCCOc5ccc(C=NN=Cc6ccc(O)cc6O)c(O)c5)cc4O)c(O)c3)cc2O)c(O)c1 CCCCCCOC(=O)CC(=O)OCCCCCCOC(=O)CC(=O)OCCCCCCOC(=O)CC(=O)O',\n",
       " 'CCCCCCCCCCCCOC(=O)c1csc(-c2ccc(-c3sc(-c4ccc(-c5sc(-c6cccs6)cc5C(=O)OCCCCCCCCCCCC)s4)cc3C(=O)OCCCCCCCCCCCC)s2)c1 CCCCCCCCCCOC(=O)CCCCCCC(=O)OCCCCCCCCCCOC(=O)CCCCCCC(=O)OCCCCCCCCCCOC(=O)CCCCCCC(=O)O',\n",
       " 'CCOC(=O)C(C)OC(=O)CCn1cccc1-c1ccc(-c2cccn2CCC(=O)OC(C)C(=O)OCC)n1CCC(=O)OC(C)C(=O)OCC CCC(C)CCOC(=O)CCCCC(=O)OCCC(C)CCOC(=O)CCCCC(=O)OCCC(C)CCOC(=O)CCCCC(=O)O',\n",
       " 'CCCCCCc1ncsc1-c1sc(-c2nc(CCCCCC)c(-c3sc(-c4nc(CCCCCC)c(-c5scnc5CCCCCC)s4)nc3CCCCCC)s2)nc1CCCCCC CCCCCCCCCCCCCCC(Cl)CCCCCCCCCCCCCCC(Cl)CCCCCCCCCCCCCCCCl',\n",
       " 'CCCCCCOc1csc(-c2sc(-c3scc(C)c3OCCCCCC)c(C)c2OCCCCCC)c1C CCCCCCOC(=O)CCC(=O)OCCCCCCOC(=O)CCC(=O)OCCCCCCOC(=O)CCC(=O)O',\n",
       " 'CCOC(=O)n1cccc1-c1ccc(-c2cccn2C(=O)OCC)n1C(=O)OCC CCOC(=O)C1CCC(C(=O)OCCOC(=O)C2CCC(C(=O)OCCOC(=O)C3CCC(C(=O)O)CC3)CC2)CC1',\n",
       " 'CCCCCCCCNc1ccc(C(=O)N(CCCCCCCC)c2ccc(C(=O)N(CCCCCCCC)c3ccc(C=O)cc3)cc2)cc1 CCCCCOC(=O)NCCCCCCNC(=O)OCCCCCOC(=O)NCCCCCCNC(=O)OCCCCCOC(=O)NCCCCCCNC(=O)O',\n",
       " 'CC(CC(CCC(=O)OCCOC(=O)c1cc([N+](=O)[O-])cc([N+](=O)[O-])c1)C(=O)OCCOC(=O)c1cc([N+](=O)[O-])cc([N+](=O)[O-])c1)C(=O)OCCOC(=O)c1cc([N+](=O)[O-])cc([N+](=O)[O-])c1 CCCCCCCCCCCCCCCCOC(=O)CCCCC(=O)OCCCCCCCCCCCCCCCCOC(=O)CCCCC(=O)OCCCCCCCCCCCCCCCCOC(=O)CCCCC(=O)O',\n",
       " 'CCCCCCCCCCOc1ccc(OCCCCCCCCCC)c(-c2ccc(-c3cc(OCCCCCCCCCC)c(-c4ccc(-c5cc(OCCCCCCCCCC)c(-c6ccccc6)cc5OCCCCCCCCCC)cc4)cc3OCCCCCCCCCC)cc2)c1 CCCCCCCCCCCC(=O)OCCCCCCCCCCCC(=O)OCCCCCCCCCCCC(=O)O',\n",
       " 'CC(CC(CCC(=O)OCCOC(=O)c1cc([N+](=O)[O-])cc([N+](=O)[O-])c1)C(=O)OCCOC(=O)c1cc([N+](=O)[O-])cc([N+](=O)[O-])c1)C(=O)OCCOC(=O)c1cc([N+](=O)[O-])cc([N+](=O)[O-])c1 CC(CC(CCC(=O)OCCC#N)C(=O)OCCC#N)C(=O)OCCC#N',\n",
       " 'CC(CC(CCC(=O)OCCOC(=O)c1cc([N+](=O)[O-])cc([N+](=O)[O-])c1)C(=O)OCCOC(=O)c1cc([N+](=O)[O-])cc([N+](=O)[O-])c1)C(=O)OCCOC(=O)c1cc([N+](=O)[O-])cc([N+](=O)[O-])c1 CC(CC(CCC(=O)OCC(F)(F)C(F)(F)C(F)(F)C(F)(F)C(F)(F)C(F)(F)C(F)(F)F)C(=O)OCC(F)(F)C(F)(F)C(F)(F)C(F)(F)C(F)(F)C(F)(F)C(F)(F)F)C(=O)OCC(F)(F)C(F)(F)C(F)(F)C(F)(F)C(F)(F)C(F)(F)C(F)(F)F',\n",
       " 'CCCCCCCCOC(=O)Cc1c[nH]c(-c2[nH]c(-c3[nH]ccc3CC(=O)OCCCCCCCC)cc2CC(=O)OCCCCCCCC)c1 CCCCCCCCCCOCCCCCCCCCCOCCCCCCOCCCCCCCCCCOCCCCCCCCCCOCCCCCCOCCCCCCCCCCOCCCCCCCCCCOCCCCCCO',\n",
       " 'CCCCCCCCSc1cc(C(=O)Nc2ccc(NC(=O)c3cc(SCCCCCCCC)c(C(=O)Nc4ccc(NC(=O)c5cc(SCCCCCCCC)c(C(=O)Nc6ccc(N)cc6)cc5SCCCCCCCC)cc4)cc3SCCCCCCCC)cc2)c(SCCCCCCCC)cc1C=O CCCCCOC(=O)CCCCCOC(=O)CCCCCOC(=O)CCCCCOC(=O)CCCCCOC(=O)CCCCCOC=O',\n",
       " 'CCCCCOCCCCCCOc1cc(C(=O)Oc2ccc(OC(=O)c3cc(OCCCCCCOCCCCC)c(C(=O)Oc4ccc(OC(=O)c5cc(OCCCCCCOCCCCC)c(C(=O)Oc6ccc(O)cc6)cc5OCCCCCCOCCCCC)cc4)cc3OCCCCCCOCCCCC)cc2)c(OCCCCCCOCCCCC)cc1C=O CCCCCCCCCCCCOC(=O)CCCCC(=O)OCCCCCCCCCCCCOC(=O)CCCCC(=O)OCCCCCCCCCCCCOC(=O)CCCCC(=O)O',\n",
       " 'CCCCCC[N+](C)(C)CCCCC[N+](C)(C)CCCCCC[N+](C)(C)CCCCC[N+](C)(C)CCCCCC[N+](C)(C)CCCCC[N+](C)C CCCCCCCCCCOC(=O)CCCCCCC(=O)OCCCCCCCCCCOC(=O)CCCCCCC(=O)OCCCCCCCCCCOC(=O)CCCCCCC(=O)O',\n",
       " 'CCCCOC(=O)CC(=CC(=O)OCCCCOC(=O)CC(=CC(=O)OCCCCOC(=O)CC(=CC(=O)O)c1ccc(OCC)cc1)c1ccc(OCC)cc1)c1ccc(OCC)cc1 CCCOC(=O)CCCCCCCC(=O)OCCCOC(=O)CCCCCCCC(=O)OCCCOC(=O)CCCCCCCC(=O)O',\n",
       " 'CCCCCCCc1cc(OC(=O)c2ccc(C(=O)Oc3ccc(OC(=O)c4ccc(C(=O)Oc5ccc(OC(=O)c6ccc(C=O)cc6)cc5CCCCCCC)cc4)cc3CCCCCCC)cc2)ccc1O CCCCCCCCCCCCOC(=O)CCCCC(=O)OCCCCCCCCCCCCOC(=O)CCCCC(=O)OCCCCCCCCCCCCOC(=O)CCCCC(=O)O',\n",
       " 'CCCCCc1ccc(CCCCCOC(=O)c2ccc(C(=O)OCCCCCc3ccc(CCCCCOC(=O)c4ccc(C(=O)OCCCCCc5ccc(CCCCCOC(=O)c6ccc(C(=O)O)cc6)cc5)cc4)cc3)cc2)cc1 CCCC(C)CCC(=O)OCCCC(C)CCC(=O)OCCCC(C)CCC(=O)O',\n",
       " 'CCCCCCCCOC(=O)Cc1c[nH]c(-c2[nH]c(-c3[nH]ccc3CC(=O)OCCCCCCCC)cc2CC(=O)OCCCCCCCC)c1 CCOCCOCCOC(=O)CCCCCC(=O)OCCOCCOCCOC(=O)CCCCCC(=O)OCCOCCOCCOC(=O)CCCCCC(=O)O',\n",
       " 'CC(=S)C(=O)OCC(=S)C(=O)OCC(=S)C(=O)O CCC(=O)OCCC(=O)OCCC(=O)O',\n",
       " 'CCCCCOc1csc(-c2cc(OCCCCC)c(-c3sc(-c4cc(OCCCCC)c(-c5sc(-c6cc(OCCCCC)cs6)cc5OCCCCC)s4)cc3OCCCCC)s2)c1 CCCCCCCCCCOCCCCCCCCCCOCCCCOCCCCCCCCCCOCCCCCCCCCCOCCCCOCCCCCCCCCCOCCCCCCCCCCOCCCCO',\n",
       " 'CCCCCc1ccc(CCCCCOC(=O)c2ccc(C(=O)OCCCCCc3ccc(CCCCCOC(=O)c4ccc(C(=O)OCCCCCc5ccc(CCCCCOC(=O)c6ccc(C(=O)O)cc6)cc5)cc4)cc3)cc2)cc1 O=COCCCCCOC(=O)OCCCCCOC(=O)OCCCCCO',\n",
       " 'O=COCCCCCCCCCCCCOC(=O)c1ccc(N2C(=O)c3ccc(C(=O)OCCCCCCCCCCCCOC(=O)c4ccc(N5C(=O)c6ccc(C(=O)OCCCCCCCCCCCCOC(=O)c7ccc(N8C(=O)c9ccccc9C8=O)cc7)cc6C5=O)cc4)cc3C2=O)cc1 O=COCCCCOC(=O)OC1CCC(OC(=O)OCCCCOC(=O)OC2CCC(OC(=O)OCCCCOC(=O)OC3CCC(O)CC3)CC2)CC1',\n",
       " 'CCCCCCCCCCCCOc1csc(-c2ccc(-c3ccc(-c4sc(-c5ccc(-c6ccc(-c7sc(-c8ccc(-c9cccs9)s8)cc7OCCCCCCCCCCCC)s6)s5)cc4OCCCCCCCCCCCC)s3)s2)c1 CCCCCCCC(=O)OCCCCCCCC(=O)OCCCCCCCC(=O)O',\n",
       " 'C=Cc1cc(OCCCCCC)c(C=Cc2cc(OCCCCCC)c(C=Cc3cc(OCCCCCC)ccc3OC)cc2OC)cc1OC CCCCCCCCCCOCCCCCCCCCCOCCCCCCCCCCO',\n",
       " 'CCCCCOCCCCCCOc1cc(C(=O)Oc2ccc(OC(=O)c3cc(OCCCCCCOCCCCC)c(C(=O)Oc4ccc(OC(=O)c5cc(OCCCCCCOCCCCC)c(C(=O)Oc6ccc(O)cc6)cc5OCCCCCCOCCCCC)cc4)cc3OCCCCCCOCCCCC)cc2)c(OCCCCCCOCCCCC)cc1C=O CCCCCCCCCCCCCCCCOC(=O)CCCCC(=O)OCCCCCCCCCCCCCCCCOC(=O)CCCCC(=O)OCCCCCCCCCCCCCCCCOC(=O)CCCCC(=O)O',\n",
       " 'CCCCCCOc1csc(-c2sc(-c3scc(C)c3OCCCCCC)c(C)c2OCCCCCC)c1C CCCCCCCCCCOC(=O)CC(=O)OCCCCCCCCCCOC(=O)CC(=O)OCCCCCCCCCCOC(=O)CC(=O)O',\n",
       " 'CCCCCCCCCCCCCCCCOc1csc(-c2sc(-c3scc(C)c3OCCCCCCCCCCCCCCCC)c(C)c2OCCCCCCCCCCCCCCCC)c1C CCCCCCCCOC(=O)CCCCCCC(=O)OCCCCCCCCOC(=O)CCCCCCC(=O)OCCCCCCCCOC(=O)CCCCCCC(=O)O',\n",
       " 'CCCCCCCCCCOc1cccc(OC(=O)c2ccc(C(=O)Oc3cccc(OCCCCCCCCCCOc4cccc(OC(=O)c5ccc(C(=O)Oc6cccc(OCCCCCCCCCCOc7cccc(OC(=O)c8ccc(C(=O)Oc9cccc(O)c9)cc8)c7)c6)cc5)c4)c3)cc2)c1 CCCCOC(=O)C1CCC(C(=O)OCCCCOC(=O)C2CCC(C(=O)OCCCCOC(=O)C3CCC(C(=O)O)CC3)CC2)CC1',\n",
       " 'CCCCCCCCSc1cc(C(=O)Nc2ccc(NC(=O)c3cc(SCCCCCCCC)c(C(=O)Nc4ccc(NC(=O)c5cc(SCCCCCCCC)c(C(=O)Nc6ccc(N)cc6)cc5SCCCCCCCC)cc4)cc3SCCCCCCCC)cc2)c(SCCCCCCCC)cc1C=O CCCCCCCCCCOC(=O)CC(=O)OCCCCCCCCCCOC(=O)CC(=O)OCCCCCCCCCCOC(=O)CC(=O)O',\n",
       " 'CCCCCCCCCCCCCCCCOc1csc(-c2sc(-c3scc(C)c3OCCCCCCCCCCCCCCCC)c(C)c2OCCCCCCCCCCCCCCCC)c1C CCCCCNC(=O)OCCCCCNC(=O)OCCCCCNC(=O)O',\n",
       " 'CC(CC(CCC(=O)OCCCOc1ccc(-c2ccc(C#N)cc2)cc1)C(=O)OCCCOc1ccc(-c2ccc(C#N)cc2)cc1)C(=O)OCCCOc1ccc(-c2ccc(C#N)cc2)cc1 CCCOC(=O)CCCCCCCCC(=O)OCCCOC(=O)CCCCCCCCC(=O)OCCCOC(=O)CCCCCCCCC(=O)O',\n",
       " 'CCOCCOCCOCCOCCOc1ccc(C(=O)Nc2cc(NC(=O)c3ccc(OCCOCCOCCOCCOCCOc4ccc(C(=O)Nc5cc(NC(=O)c6ccc(OCCOCCOCCOCCOCCOc7ccc(C(=O)Nc8cc(NC(=O)c9ccc(O)cc9)cc(-c9nc%10ccccc%10[nH]9)c8)cc7)cc6)cc(-c6nc7ccccc7[nH]6)c5)cc4)cc3)cc(-c3nc4ccccc4[nH]3)c2)cc1 CCOCCOCCOC(=O)CCCCCCC(=O)OCCOCCOCCOC(=O)CCCCCCC(=O)OCCOCCOCCOC(=O)CCCCCCC(=O)O',\n",
       " 'CC(=S)C(=O)OCC(=S)C(=O)OCC(=S)C(=O)O CCCC(C)(C)C(=O)OCC(C)(CCC)C(=O)OCC(C)(CCC)C(=O)O',\n",
       " 'CCCCCCCCOC(=O)Cc1c[nH]c(-c2[nH]c(-c3[nH]ccc3CC(=O)OCCCCCCCC)cc2CC(=O)OCCCCCCCC)c1 CCCCCCCCCCCCOCCCCCCCCCCCCOCCCCCCCCCCCCO',\n",
       " 'CC(CC(CCC(=O)OCCCOc1ccc(-c2ccc(C#N)cc2)cc1)C(=O)OCCCOc1ccc(-c2ccc(C#N)cc2)cc1)C(=O)OCCCOc1ccc(-c2ccc(C#N)cc2)cc1 CC(CC(CCOC(=O)C(F)(F)F)OC(=O)C(F)(F)F)OC(=O)C(F)(F)F',\n",
       " 'CCCCCCCCCCCCOC(=O)c1cc(-c2cc(C(=O)CCCCCCCCCCCC)cs2)sc1-c1ccc(-c2ccc(-c3sc(-c4cc(C(=O)OCCCCCCCCCCCC)c(-c5ccc(-c6ccc(-c7sc(-c8cc(C(=O)OCCCCCCCCCCCC)c(-c9ccc(-c%10cccs%10)s9)s8)cc7C(=O)CCCCCCCCCCCC)s6)s5)s4)cc3C(=O)CCCCCCCCCCCC)s2)s1 CCCCCCCCCCOC(=O)CCCCCCC(=O)OCCCCCCCCCCOC(=O)CCCCCCC(=O)OCCCCCCCCCCOC(=O)CCCCCCC(=O)O',\n",
       " 'CC(CC(CCC(=O)n1sc2ccccc2c1=O)C(=O)n1sc2ccccc2c1=O)C(=O)n1sc2ccccc2c1=O CC(CC(CCC(=O)OCCC#N)C(=O)OCCC#N)C(=O)OCCC#N',\n",
       " 'CCCCCCOC(=O)C(CCCCCCOc1ccc(-c2ccc(OCc3ccc([N+](=O)[O-])cc3)cc2)cc1)C(=O)OCCCCCCOC(=O)C(CCCCCCOc1ccc(-c2ccc(OCc3ccc([N+](=O)[O-])cc3)cc2)cc1)C(=O)OCCCCCCOC(=O)C(CCCCCCOc1ccc(-c2ccc(OCc3ccc([N+](=O)[O-])cc3)cc2)cc1)C(=O)O CCCCCCOC(=O)CCCCCCCC(=O)OCCCCCCOC(=O)CCCCCCCC(=O)OCCCCCCOC(=O)CCCCCCCC(=O)O',\n",
       " 'CC(CC(CCC(=O)OCCOC(=O)c1cc([N+](=O)[O-])cc([N+](=O)[O-])c1)C(=O)OCCOC(=O)c1cc([N+](=O)[O-])cc([N+](=O)[O-])c1)C(=O)OCCOC(=O)c1cc([N+](=O)[O-])cc([N+](=O)[O-])c1 CCCCCCC(=O)OCCCCCCC(=O)OCCCCCCC(=O)O',\n",
       " 'CCCCOC(=O)CC(=CC(=O)OCCCCOC(=O)CC(=CC(=O)OCCCCOC(=O)CC(=CC(=O)O)c1ccc(OCC)cc1)c1ccc(OCC)cc1)c1ccc(OCC)cc1 CCCOC(=O)CCCCCCCCCCC(=O)OCCCOC(=O)CCCCCCCCCCC(=O)OCCCOC(=O)CCCCCCCCCCC(=O)O',\n",
       " 'CCCCOC(=O)SSSC(=O)OCCCCOC(=O)SSSC(=O)OCCCCOC(=O)SSSC(=O)O CCOCCOCCOC(=O)NCCCCCCNC(=O)OCCOCCOCCOC(=O)NCCCCCCNC(=O)OCCOCCOCCOC(=O)NCCCCCCNC(=O)O',\n",
       " 'CCCCCCCCCCCCOc1cc(C(=O)Oc2ccc(OC(=O)c3cc(OCCCCCCCCCCCC)c(C(=O)Oc4ccc(OC(=O)c5cc(OCCCCCCCCCCCC)c(C(=O)Oc6ccc(O)cc6)cc5OCCCCCCCCCCCC)cc4)cc3OCCCCCCCCCCCC)cc2)c(OCCCCCCCCCCCC)cc1C=O CCCCCOC(=O)CCCCCOC(=O)CCCCCOC(=O)CCCCCOC(=O)CCCCCOC(=O)CCCCCOC=O',\n",
       " 'CC(CC(C)(CC(C)(C)C(=O)Oc1ccccc1[N+](=O)[O-])C(=O)Oc1ccccc1[N+](=O)[O-])C(=O)Oc1ccccc1[N+](=O)[O-] CC(CC(C)(CC(C)(C)C(=O)OC1(C)CCOC(=O)C1)C(=O)OC1(C)CCOC(=O)C1)C(=O)OC1(C)CCOC(=O)C1',\n",
       " 'CCCCCCCCCCOc1ccc(OCCCCCCCCCC)c(-c2ccc(-c3cc(OCCCCCCCCCC)c(-c4ccc(-c5cc(OCCCCCCCCCC)c(-c6ccccc6)cc5OCCCCCCCCCC)cc4)cc3OCCCCCCCCCC)cc2)c1 CCCCCCCCCCOC(=O)CCCCCCCC(=O)OCCCCCCCCCCOC(=O)CCCCCCCC(=O)OCCCCCCCCCCOC(=O)CCCCCCCC(=O)O',\n",
       " 'CCCCCOCCCCCCOc1cc(C(=O)Oc2ccc(OC(=O)c3cc(OCCCCCCOCCCCC)c(C(=O)Oc4ccc(OC(=O)c5cc(OCCCCCCOCCCCC)c(C(=O)Oc6ccc(O)cc6)cc5OCCCCCCOCCCCC)cc4)cc3OCCCCCCOCCCCC)cc2)c(OCCCCCCOCCCCC)cc1C=O CCCCCCCCOC(=O)CCCCCCC(=O)OCCCCCCCCOC(=O)CCCCCCC(=O)OCCCCCCCCOC(=O)CCCCCCC(=O)O',\n",
       " 'CC(CC(CCC(=O)OCCCOc1ccc(-c2ccc(C#N)cc2)cc1)C(=O)OCCCOc1ccc(-c2ccc(C#N)cc2)cc1)C(=O)OCCCOc1ccc(-c2ccc(C#N)cc2)cc1 CCOCCC(=O)OCCOCCC(=O)OCCOCCC(=O)O',\n",
       " 'CCCCCCCCCCCCOC(=O)c1csc(-c2ccc(-c3sc(-c4ccc(-c5sc(-c6cccs6)cc5C(=O)OCCCCCCCCCCCC)s4)cc3C(=O)OCCCCCCCCCCCC)s2)c1 CCCCCOC(=O)OCCCCCOC(=O)OCCCCCOC(=O)O',\n",
       " 'CCOC(=O)c1ccc2ccc(C(=O)OCCOC(=O)c3ccc4ccc(C(=O)OCCOC(=O)c5ccc6ccc(C(=O)O)cc6c5)cc4c3)cc2c1 CCOC(=O)NCCOCCOC(=O)NCCOCCOC(=O)NCCO',\n",
       " 'CCCCCCCCCCCCOc1csc(-c2ccc(-c3ccc(-c4sc(-c5ccc(-c6ccc(-c7sc(-c8ccc(-c9cccs9)s8)cc7OCCCCCCCCCCCC)s6)s5)cc4OCCCCCCCCCCCC)s3)s2)c1 CCCCCCOC(=O)CCCCCCCC(=O)OCCCCCCOC(=O)CCCCCCCC(=O)OCCCCCCOC(=O)CCCCCCCC(=O)O',\n",
       " 'CCCCCOc1csc(-c2cc(OCCCCC)c(-c3sc(-c4cc(OCCCCC)c(-c5sc(-c6cc(OCCCCC)cs6)cc5OCCCCC)s4)cc3OCCCCC)s2)c1 CCCCCCCCOC(=O)CCCCC(=O)OCCCCCCCCOC(=O)CCCCC(=O)OCCCCCCCCOC(=O)CCCCC(=O)O',\n",
       " 'CCCCCC[N+](C)(C)CCCCC[N+](C)(C)CCCCCC[N+](C)(C)CCCCC[N+](C)(C)CCCCCC[N+](C)(C)CCCCC[N+](C)C CCCCCCCCCCOCCCCCCCCCCOCCCCCCCCCCO',\n",
       " 'C=CCOC(=O)c1cc(C(=O)Oc2ccc(OCCCCOc3ccc(OC(=O)c4ccc(C(=O)Oc5ccc(OCCCCOc6ccc(OC(=O)c7ccc(C(=O)Oc8ccc(OCCCC)cc8)cc7C(=O)OCC=C)cc6)cc5)cc4C(=O)OCC=C)cc3)cc2)ccc1C(=O)Oc1ccc(O)cc1 CCCCCCOC(=O)CCC(=O)OCCCCCCOC(=O)CCC(=O)OCCCCCCOC(=O)CCC(=O)O',\n",
       " 'CCCCCC[N+](C)(C)CCCCCC[N+](C)(C)CCCCCC[N+](C)C CCCCCCCCCCCCOCCCCCCCCCCCCOCCCCCCCCCCCCO',\n",
       " 'CCCCOc1ccc(C=C2CCC(=Cc3ccc(OCCCCOc4ccc(C=C5CCC(=Cc6ccc(OCCCCOc7ccc(C=C8CCC(=Cc9ccc(O)cc9)C8=O)cc7)cc6)C5=O)cc4)cc3)C2=O)cc1 CCCCCCCCCCOCCCCCCCCCCOCCCCCCCCCCO',\n",
       " 'CCCCCOc1csc(-c2cc(OCCCCC)c(-c3sc(-c4cc(OCCCCC)c(-c5sc(-c6cc(OCCCCC)cs6)cc5OCCCCC)s4)cc3OCCCCC)s2)c1 CCCCCCOC(=O)CCCC(=O)OCCCCCCOC(=O)CCCC(=O)OCCCCCCOC(=O)CCCC(=O)O',\n",
       " 'C#Cc1cc(OCCCCCCCCCCCC)c(C#Cc2ccc(C#Cc3cc(OCCCCCCCCCCCC)c(C#Cc4ccc(C#Cc5cc(OCCCCCCCCCCCC)c(C#Cc6cccc([N+](=O)[O-])c6)cc5OCCCCCCCCCCCC)c([N+](=O)[O-])c4)cc3OCCCCCCCCCCCC)c([N+](=O)[O-])c2)cc1OCCCCCCCCCCCC CCCCCCOC(=O)C1CCC(C(=O)OCCCCCCOC(=O)C2CCC(C(=O)OCCCCCCOC(=O)C3CCC(C(=O)O)CC3)CC2)CC1',\n",
       " 'CCCCCCCCOC(=O)Cc1c[nH]c(-c2[nH]c(-c3[nH]ccc3CC(=O)OCCCCCCCC)cc2CC(=O)OCCCCCCCC)c1 CCCCCOC(=O)CC(=O)OCCCCCOC(=O)CC(=O)OCCCCCOC(=O)CC(=O)O',\n",
       " 'CCCCCCOc1ccc(C(=O)N(C(=O)c2ccc(OCCCCCCOc3ccc(C(=O)N(C(=O)c4ccc(OCCCCCCOc5ccc(C(=O)N(C(=O)c6ccc(O)cc6)c6ccccc6)cc5)cc4)c4ccccc4)cc3)cc2)c2ccccc2)cc1 CCCCCCCCCCCCCCCCCCOCOCCCCCCCCCCCCCCCCCCOCOCCCCCCCCCCCCCCCCCCOCO',\n",
       " 'CCCCOc1ccc(C=C2CCC(=Cc3ccc(OCCCCOc4ccc(C=C5CCC(=Cc6ccc(OCCCCOc7ccc(C=C8CCC(=Cc9ccc(O)cc9)C8=O)cc7)cc6)C5=O)cc4)cc3)C2=O)cc1 CCCCCCC(=O)OCCCCCCC(=O)OCCCCCCC(=O)O',\n",
       " 'CCN(CCCC(=O)Nc1ccc(N=Nc2ccccc2)cc1)CCOC(=O)NCC1CCCC(CNC(=O)OCCN(CCCC(=O)Nc2ccc(N=Nc3ccccc3)cc2)CCOC(=O)NCC2CCCC(CNC(=O)OCCN(CCCC(=O)Nc3ccc(N=Nc4ccccc4)cc3)CCOC(=O)NCC3CCCC(CNC(=O)O)C3)C2)C1 CCCCOC(=O)NCC(F)(F)C(F)(F)C(F)(F)C(F)(F)CNC(=O)OCCCCOC(=O)NCC(F)(F)C(F)(F)C(F)(F)C(F)(F)CNC(=O)OCCCCOC(=O)NCC(F)(F)C(F)(F)C(F)(F)C(F)(F)CNC(=O)O',\n",
       " 'CCCCCCCCCCCCOC(=O)c1cc(-c2cc(C(=O)CCCCCCCCCCCC)cs2)sc1-c1ccc(-c2ccc(-c3sc(-c4cc(C(=O)OCCCCCCCCCCCC)c(-c5ccc(-c6ccc(-c7sc(-c8cc(C(=O)OCCCCCCCCCCCC)c(-c9ccc(-c%10cccs%10)s9)s8)cc7C(=O)CCCCCCCCCCCC)s6)s5)s4)cc3C(=O)CCCCCCCCCCCC)s2)s1 CCCCCCCCCCOC(=O)CC(C)C(=O)OCCCCCCCCCCOC(=O)CC(C)C(=O)OCCCCCCCCCCOC(=O)CC(C)C(=O)O',\n",
       " 'CCCCCCCCCCOc1cccc(OC(=O)c2ccc(C(=O)Oc3cccc(OCCCCCCCCCCOc4cccc(OC(=O)c5ccc(C(=O)Oc6cccc(OCCCCCCCCCCOc7cccc(OC(=O)c8ccc(C(=O)Oc9cccc(O)c9)cc8)c7)c6)cc5)c4)c3)cc2)c1 CCCCCCCOC(=O)CCCCCCCCC(=O)OCCCCCCCOC(=O)CCCCCCCCC(=O)OCCCCCCCOC(=O)CCCCCCCCC(=O)O',\n",
       " 'CCCCCC[N+](C)(C)CCCCCC[N+](C)(C)CCCCCC[N+](C)C CCCCCCCCCCCCOC(=O)CCCCCCCCCCCCC(=O)OCCCCCCCCCCCCOC(=O)CCCCCCCCCCCCC(=O)OCCCCCCCCCCCCOC(=O)CCCCCCCCCCCCC(=O)O',\n",
       " 'CCCCOc1ccc(C=C2CCC(=Cc3ccc(OCCCCOc4ccc(C=C5CCC(=Cc6ccc(OCCCCOc7ccc(C=C8CCC(=Cc9ccc(O)cc9)C8=O)cc7)cc6)C5=O)cc4)cc3)C2=O)cc1 CCCCCCOC(=O)CC(=O)OCCCCCCOC(=O)CC(=O)OCCCCCCOC(=O)CC(=O)O',\n",
       " 'NC(=O)NC(=O)NC(=O)NC(=O)NC(=O)NC=O NCNC(=O)OC(=O)NC(=O)NCNC(=O)OC(=O)NC(=O)NCNC(=O)OC(=O)NC=O',\n",
       " 'CCOC(=O)c1ccc2ccc(C(=O)OCCOC(=O)c3ccc4ccc(C(=O)OCCOC(=O)c5ccc6ccc(C(=O)O)cc6c5)cc4c3)cc2c1 CCCOC(=O)CCCCC(=O)OCCCOC(=O)CCCCC(=O)OCCCOC(=O)CCCCC(=O)O',\n",
       " 'CCCCCc1ccc(CCCCCOC(=O)c2ccc(C(=O)OCCCCCc3ccc(CCCCCOC(=O)c4ccc(C(=O)OCCCCCc5ccc(CCCCCOC(=O)c6ccc(C(=O)O)cc6)cc5)cc4)cc3)cc2)cc1 CCCCOC(=O)NC1CC1NC(=O)OCCCCOC(=O)NC1CC1NC(=O)OCCCCOC(=O)NC1CC1NC(=O)O',\n",
       " 'CCOC(=O)c1ccc2ccc(C(=O)OCCOC(=O)c3ccc4ccc(C(=O)OCCOC(=O)c5ccc6ccc(C(=O)O)cc6c5)cc4c3)cc2c1 CCCCCCOC(=O)CCCCCCCC(=O)OCCCCCCOC(=O)CCCCCCCC(=O)OCCCCCCOC(=O)CCCCCCCC(=O)O',\n",
       " 'C=Cc1cc(OCCCCCC)c(C=Cc2cc(OCCCCCC)c(C=Cc3cc(OCCCCCC)ccc3OC)cc2OC)cc1OC CCCCCCCCC(=O)OCCCCCCCCC(=O)OCCCCCCCCC(=O)O',\n",
       " 'O=COCCCCCCCCOC(=O)c1ccc(NC(=O)c2ccc(N3C(=O)c4ccc(C(=O)OCCCCCCCCOC(=O)c5ccc(NC(=O)c6ccc(N7C(=O)c8ccc(C(=O)OCCCCCCCCOC(=O)c9ccc(NC(=O)c%10ccc(N%11C(=O)c%12ccccc%12C%11=O)cc%10)cc9)cc8C7=O)cc6)cc5)cc4C3=O)cc2)cc1 CCCCCOC(=O)CCCCCOC(=O)CCCCCOC(=O)CCCCCOC(=O)CCCCCOC(=O)CCCCCOC=O',\n",
       " 'CC(CC(CCC(=O)OCCOC(=O)c1cc([N+](=O)[O-])cc([N+](=O)[O-])c1)C(=O)OCCOC(=O)c1cc([N+](=O)[O-])cc([N+](=O)[O-])c1)C(=O)OCCOC(=O)c1cc([N+](=O)[O-])cc([N+](=O)[O-])c1 CCOCCOC(=O)C(C)C(=O)OCCOCCOC(=O)C(C)C(=O)OCCOCCOC(=O)C(C)C(=O)O',\n",
       " 'CC(CC(CCC(=O)Oc1ccc([N+](=O)[O-])cc1)C(=O)Oc1ccc([N+](=O)[O-])cc1)C(=O)Oc1ccc([N+](=O)[O-])cc1 CCOCCOC(=O)CCC(C)CC(=O)OCCOCCOC(=O)CCC(C)CC(=O)OCCOCCOC(=O)CCC(C)CC(=O)O',\n",
       " 'CCCCOC(=O)CC(=CC(=O)OCCCCOC(=O)CC(=CC(=O)OCCCCOC(=O)CC(=CC(=O)O)c1ccc(OCC)cc1)c1ccc(OCC)cc1)c1ccc(OCC)cc1 CCCC(C)CCC(=O)OCCCC(C)CCC(=O)OCCCC(C)CCC(=O)O',\n",
       " 'CCCCCCCCCCCCOC(=O)c1cc(-c2cc(C(=O)CCCCCCCCCCCC)cs2)sc1-c1ccc(-c2ccc(-c3sc(-c4cc(C(=O)OCCCCCCCCCCCC)c(-c5ccc(-c6ccc(-c7sc(-c8cc(C(=O)OCCCCCCCCCCCC)c(-c9ccc(-c%10cccs%10)s9)s8)cc7C(=O)CCCCCCCCCCCC)s6)s5)s4)cc3C(=O)CCCCCCCCCCCC)s2)s1 CCCOCCCOC(=O)CCCCCCCCC(=O)OCCCOCCCOC(=O)CCCCCCCCC(=O)OCCCOCCCOC(=O)CCCCCCCCC(=O)O',\n",
       " 'CCCCCCCCCCCCOc1cc(Nc2ccc(Nc3ccccc3OCCCCCCCCCCCC)cc2OCCCCCCCCCCCC)ccc1N CCCCCOCOCCCCCOCOCCCCCOCO',\n",
       " 'CCCCCCCCOc1cc(N2C(=O)c3ccccc3C2=O)cc(N2C(=O)c3ccc(C(=O)c4ccc5c(c4)C(=O)N(c4cc(OCCCCCCCC)cc(N6C(=O)c7ccc(C(=O)c8ccc9c(c8)C(=O)N(c8cc(OCCCCCCCC)cc(N%10C(=O)c%11ccc(C=O)cc%11C%10=O)c8)C9=O)cc7C6=O)c4)C5=O)cc3C2=O)c1 CCCCCCCCCCOCCCCCCCCCCOCCCCCCOCCCCCCCCCCOCCCCCCCCCCOCCCCCCOCCCCCCCCCCOCCCCCCCCCCOCCCCCCO',\n",
       " 'CCCCCCCCCCCCOc1cc(C(=O)Oc2ccc(OC(=O)c3cc(OCCCCCCCCCCCC)c(C(=O)Oc4ccc(OC(=O)c5cc(OCCCCCCCCCCCC)c(C(=O)Oc6ccc(O)cc6)cc5OCCCCCCCCCCCC)cc4)cc3OCCCCCCCCCCCC)cc2)c(OCCCCCCCCCCCC)cc1C=O CCCCCCOC(=O)CCCCCC(=O)OCCCCCCOC(=O)CCCCCC(=O)OCCCCCCOC(=O)CCCCCC(=O)O',\n",
       " 'NC(=O)NC(=O)NC(=O)NC(=O)NC(=O)NC=O CNCNC(=O)NC(=O)NCNCNC(=O)NC(=O)NCNCNC(=O)NC(N)=O',\n",
       " 'CCCCOC(=O)CC(=CC(=O)OCCCCOC(=O)CC(=CC(=O)OCCCCOC(=O)CC(=CC(=O)O)c1ccc(OCC)cc1)c1ccc(OCC)cc1)c1ccc(OCC)cc1 CCCCCCCCCCOC(=O)CC(=O)OCCCCCCCCCCOC(=O)CC(=O)OCCCCCCCCCCOC(=O)CC(=O)O',\n",
       " 'CC(CC(CCC(=O)OCCOC(=O)c1cc([N+](=O)[O-])cc([N+](=O)[O-])c1)C(=O)OCCOC(=O)c1cc([N+](=O)[O-])cc([N+](=O)[O-])c1)C(=O)OCCOC(=O)c1cc([N+](=O)[O-])cc([N+](=O)[O-])c1 CCOCCOC(=O)CCCC(=O)OCCOCCOC(=O)CCCC(=O)OCCOCCOC(=O)CCCC(=O)O',\n",
       " 'CCCCCCOc1ccc(C(=O)N(C(=O)c2ccc(OCCCCCCOc3ccc(C(=O)N(C(=O)c4ccc(OCCCCCCOc5ccc(C(=O)N(C(=O)c6ccc(O)cc6)c6ccccc6)cc5)cc4)c4ccccc4)cc3)cc2)c2ccccc2)cc1 CCCCCCCCCCCCCC(=O)OCCCCCCCCCCCCCC(=O)OCCCCCCCCCCCCCC(=O)O',\n",
       " 'CCCCCCCCOc1cc(N2C(=O)c3ccccc3C2=O)cc(N2C(=O)c3ccc(C(=O)c4ccc5c(c4)C(=O)N(c4cc(OCCCCCCCC)cc(N6C(=O)c7ccc(C(=O)c8ccc9c(c8)C(=O)N(c8cc(OCCCCCCCC)cc(N%10C(=O)c%11ccc(C=O)cc%11C%10=O)c8)C9=O)cc7C6=O)c4)C5=O)cc3C2=O)c1 CCCCCCCCCCOC(=O)CCC(=O)OCCCCCCCCCCOC(=O)CCC(=O)OCCCCCCCCCCOC(=O)CCC(=O)O',\n",
       " 'CCOC(=O)c1ccc2ccc(C(=O)OCCOC(=O)c3ccc4ccc(C(=O)OCCOC(=O)c5ccc6ccc(C(=O)O)cc6c5)cc4c3)cc2c1 CCCCCCCCCCOC(=O)CCCCC(=O)OCCCCCCCCCCOC(=O)CCCCC(=O)OCCCCCCCCCCOC(=O)CCCCC(=O)O',\n",
       " 'CCCCCCCCCCCCOc1ccc(C=NN=Cc2ccc(OCCCCCCCCCCCCOc3ccc(C=NN=Cc4ccc(OCCCCCCCCCCCCOc5ccc(C=NN=Cc6ccc(O)cc6O)c(O)c5)cc4O)c(O)c3)cc2O)c(O)c1 CCCCCCCCCCCCCC(=O)OCCCCCCCCCCCCCC(=O)OCCCCCCCCCCCCCC(=O)O',\n",
       " 'CCCCCc1ccc(CCCCCOC(=O)c2ccc(C(=O)OCCCCCc3ccc(CCCCCOC(=O)c4ccc(C(=O)OCCCCCc5ccc(CCCCCOC(=O)c6ccc(C(=O)O)cc6)cc5)cc4)cc3)cc2)cc1 CCCNC(=O)OCCCNC(=O)OCCCNC(=O)O',\n",
       " 'CCCCCCCCSc1cc(C(=O)Nc2ccc(NC(=O)c3cc(SCCCCCCCC)c(C(=O)Nc4ccc(NC(=O)c5cc(SCCCCCCCC)c(C(=O)Nc6ccc(N)cc6)cc5SCCCCCCCC)cc4)cc3SCCCCCCCC)cc2)c(SCCCCCCCC)cc1C=O CCCCCCCOC(=O)NCCCCCCNC(=O)OCCCCCCCOC(=O)NCCCCCCNC(=O)OCCCCCCCOC(=O)NCCCCCCNC(=O)O',\n",
       " 'CCCCCCCCOC(=O)Cc1c[nH]c(-c2[nH]c(-c3[nH]ccc3CC(=O)OCCCCCCCC)cc2CC(=O)OCCCCCCCC)c1 CCCCCCOC(=O)OCCCCCCOC(=O)OCCCCCCOC(=O)O',\n",
       " 'CCCCCCOc1ccc(C(=O)N(C(=O)c2ccc(OCCCCCCOc3ccc(C(=O)N(C(=O)c4ccc(OCCCCCCOc5ccc(C(=O)N(C(=O)c6ccc(O)cc6)c6ccccc6)cc5)cc4)c4ccccc4)cc3)cc2)c2ccccc2)cc1 CCCCOC(=O)CC(=O)OCCCCOC(=O)CC(=O)OCCCCOC(=O)CC(=O)O',\n",
       " 'CC(=NN=C(C)c1ccc(OC(=O)CCCCCCCCC(=O)Oc2ccc(C(C)=NN=C(C)c3ccc(OC(=O)CCCCCCCCC(=O)Oc4ccc(C(C)=NN=C(C)c5ccc(OC(=O)CCCCCCCCC=O)cc5)cc4)cc3)cc2)cc1)c1ccc(O)cc1 CCCOC(=O)CCCCCCCCCC(=O)OCCCOC(=O)CCCCCCCCCC(=O)OCCCOC(=O)CCCCCCCCCC(=O)O',\n",
       " 'CCCCCCCCCCOc1cccc(OC(=O)c2ccc(C(=O)Oc3cccc(OCCCCCCCCCCOc4cccc(OC(=O)c5ccc(C(=O)Oc6cccc(OCCCCCCCCCCOc7cccc(OC(=O)c8ccc(C(=O)Oc9cccc(O)c9)cc8)c7)c6)cc5)c4)c3)cc2)c1 CCCCCCOC(=O)NCCCCCCNC(=O)OCCCCCCOC(=O)NCCCCCCNC(=O)OCCCCCCOC(=O)NCCCCCCNC(=O)O',\n",
       " 'CCCCCCCCCCCCOC(=O)c1csc(-c2ccc(-c3sc(-c4ccc(-c5sc(-c6cccs6)cc5C(=O)OCCCCCCCCCCCC)s4)cc3C(=O)OCCCCCCCCCCCC)s2)c1 CCCCOC(=O)CC(=O)OCCCCOC(=O)CC(=O)OCCCCOC(=O)CC(=O)O',\n",
       " 'CCCCCOc1csc(-c2cc(OCCCCC)c(-c3sc(-c4cc(OCCCCC)c(-c5sc(-c6cc(OCCCCC)cs6)cc5OCCCCC)s4)cc3OCCCCC)s2)c1 CCCCOCOCCCCOCOCCCCOCO',\n",
       " 'CCCCCCCCOc1cc(N2C(=O)c3ccccc3C2=O)cc(N2C(=O)c3ccc(C(=O)c4ccc5c(c4)C(=O)N(c4cc(OCCCCCCCC)cc(N6C(=O)c7ccc(C(=O)c8ccc9c(c8)C(=O)N(c8cc(OCCCCCCCC)cc(N%10C(=O)c%11ccc(C=O)cc%11C%10=O)c8)C9=O)cc7C6=O)c4)C5=O)cc3C2=O)c1 CCCCCNC(=O)OCCCCCNC(=O)OCCCCCNC(=O)O',\n",
       " 'CC(CC(C)(CC(C)(C)C(=O)Oc1ccccc1[N+](=O)[O-])C(=O)Oc1ccccc1[N+](=O)[O-])C(=O)Oc1ccccc1[N+](=O)[O-] CCOC(=O)C(C#N)CC(C#N)(CC(C)(C#N)C(=O)OCC)C(=O)OCC',\n",
       " 'CCCCCCOc1ccc(C(=O)N(C(=O)c2ccc(OCCCCCCOc3ccc(C(=O)N(C(=O)c4ccc(OCCCCCCOc5ccc(C(=O)N(C(=O)c6ccc(O)cc6)c6ccccc6)cc5)cc4)c4ccccc4)cc3)cc2)c2ccccc2)cc1 CCCCCCOC(=O)CC(=O)OCCCCCCOC(=O)CC(=O)OCCCCCCOC(=O)CC(=O)O',\n",
       " 'CCCCOC(=O)SSSC(=O)OCCCCOC(=O)SSSC(=O)OCCCCOC(=O)SSSC(=O)O CCCCOC(=O)C1CCC(C(=O)OCCCCOC(=O)C2CCC(C(=O)OCCCCOC(=O)C3CCC(C(=O)O)CC3)CC2)CC1',\n",
       " 'CC(CC(CCC(=O)OCCCOc1ccc(-c2ccc(C#N)cc2)cc1)C(=O)OCCCOc1ccc(-c2ccc(C#N)cc2)cc1)C(=O)OCCCOc1ccc(-c2ccc(C#N)cc2)cc1 CCCCCCCCCCOC(=O)CCCCCCCCC(=O)OCCCCCCCCCCOC(=O)CCCCCCCCC(=O)OCCCCCCCCCCOC(=O)CCCCCCCCC(=O)O',\n",
       " 'CCCCCCCCCCCCOC(=O)c1cc(-c2cc(C(=O)CCCCCCCCCCCC)cs2)sc1-c1ccc(-c2ccc(-c3sc(-c4cc(C(=O)OCCCCCCCCCCCC)c(-c5ccc(-c6ccc(-c7sc(-c8cc(C(=O)OCCCCCCCCCCCC)c(-c9ccc(-c%10cccs%10)s9)s8)cc7C(=O)CCCCCCCCCCCC)s6)s5)s4)cc3C(=O)CCCCCCCCCCCC)s2)s1 CCCCCCCCCCOC(=O)CCCCCCCCCCCCCCCCC(=O)OCCCCCCCCCCOC(=O)CCCCCCCCCCCCCCCCC(=O)OCCCCCCCCCCOC(=O)CCCCCCCCCCCCCCCCC(=O)O',\n",
       " 'CCCCCC[N+](C)(C)CCCCC[N+](C)(C)CCCCCC[N+](C)(C)CCCCC[N+](C)(C)CCCCCC[N+](C)(C)CCCCC[N+](C)C CCCCCCCCCCC(=O)OCCCCCCCCCCC(=O)OCCCCCCCCCCC(=O)O',\n",
       " 'C=Cc1cc(OCCCCCC)c(C=Cc2cc(OCCCCCC)c(C=Cc3cc(OCCCCCC)ccc3OC)cc2OC)cc1OC CCCCCCOC(=O)CC(=O)OCCCCCCOC(=O)CC(=O)OCCCCCCOC(=O)CC(=O)O',\n",
       " 'CCCCOC(=O)SSSC(=O)OCCCCOC(=O)SSSC(=O)OCCCCOC(=O)SSSC(=O)O CCOCCOC(=O)CCCCCCCC(=O)OCCOCCOC(=O)CCCCCCCC(=O)OCCOCCOC(=O)CCCCCCCC(=O)O',\n",
       " 'CCCCCCCCOC(=O)Cc1c[nH]c(-c2[nH]c(-c3[nH]ccc3CC(=O)OCCCCCCCC)cc2CC(=O)OCCCCCCCC)c1 CCCCCCOCCCCCCOCCCCCCO',\n",
       " 'CC(CC(CCC(=O)OCCCOc1ccc(-c2ccc(C#N)cc2)cc1)C(=O)OCCCOc1ccc(-c2ccc(C#N)cc2)cc1)C(=O)OCCCOc1ccc(-c2ccc(C#N)cc2)cc1 CCCOC(=O)CCCCCCCCCCC(=O)OCCCOC(=O)CCCCCCCCCCC(=O)OCCCOC(=O)CCCCCCCCCCC(=O)O',\n",
       " 'CC(=NN=C(C)c1ccc(OC(=O)CCCCCCCCC(=O)Oc2ccc(C(C)=NN=C(C)c3ccc(OC(=O)CCCCCCCCC(=O)Oc4ccc(C(C)=NN=C(C)c5ccc(OC(=O)CCCCCCCCC=O)cc5)cc4)cc3)cc2)cc1)c1ccc(O)cc1 CCCCCCCCCCOC(=O)CCC(=O)OCCCCCCCCCCOC(=O)CCC(=O)OCCCCCCCCCCOC(=O)CCC(=O)O',\n",
       " 'CCCCCc1ccc(CCCCCOC(=O)c2ccc(C(=O)OCCCCCc3ccc(CCCCCOC(=O)c4ccc(C(=O)OCCCCCc5ccc(CCCCCOC(=O)c6ccc(C(=O)O)cc6)cc5)cc4)cc3)cc2)cc1 CCCCNC(=O)OCCCCNC(=O)OCCCCNC(=O)O',\n",
       " 'CC(CC(CCC(=O)OCCOC(=O)c1cc([N+](=O)[O-])cc([N+](=O)[O-])c1)C(=O)OCCOC(=O)c1cc([N+](=O)[O-])cc([N+](=O)[O-])c1)C(=O)OCCOC(=O)c1cc([N+](=O)[O-])cc([N+](=O)[O-])c1 CCCCCCCCCCCC(=O)OCCCCCCCCCCCC(=O)OCCCCCCCCCCCC(=O)O',\n",
       " 'CCCCCc1ccc(CCCCCOC(=O)c2ccc(C(=O)OCCCCCc3ccc(CCCCCOC(=O)c4ccc(C(=O)OCCCCCc5ccc(CCCCCOC(=O)c6ccc(C(=O)O)cc6)cc5)cc4)cc3)cc2)cc1 CCOCCOCCOC(=O)CCCCCCC(=O)OCCOCCOCCOC(=O)CCCCCCC(=O)OCCOCCOCCOC(=O)CCCCCCC(=O)O',\n",
       " 'CC(CC(CCC(=O)OCCCOc1ccc(-c2ccc(C#N)cc2)cc1)C(=O)OCCCOc1ccc(-c2ccc(C#N)cc2)cc1)C(=O)OCCCOc1ccc(-c2ccc(C#N)cc2)cc1 CC(CC(CCC(=O)OCC(F)(F)C(F)(F)OC(F)(F)C(F)(F)C(F)(F)C(F)(F)F)C(=O)OCC(F)(F)C(F)(F)OC(F)(F)C(F)(F)C(F)(F)C(F)(F)F)C(=O)OCC(F)(F)C(F)(F)OC(F)(F)C(F)(F)C(F)(F)C(F)(F)F',\n",
       " 'CCCCCCCCCCOc1ccc(OCCCCCCCCCC)c(-c2ccc(-c3cc(OCCCCCCCCCC)c(-c4ccc(-c5cc(OCCCCCCCCCC)c(-c6ccccc6)cc5OCCCCCCCCCC)cc4)cc3OCCCCCCCCCC)cc2)c1 CCCCCCOC(=O)CCCC(=O)OCCCCCCOC(=O)CCCC(=O)OCCCCCCOC(=O)CCCC(=O)O',\n",
       " 'CCCCOC(=O)CC(=CC(=O)OCCCCOC(=O)CC(=CC(=O)OCCCCOC(=O)CC(=CC(=O)O)c1ccc(OCC)cc1)c1ccc(OCC)cc1)c1ccc(OCC)cc1 CCC(C)CCOC(=O)CCCCC(=O)OCCC(C)CCOC(=O)CCCCC(=O)OCCC(C)CCOC(=O)CCCCC(=O)O',\n",
       " 'CCCCCCOc1ccc(C(=O)N(C(=O)c2ccc(OCCCCCCOc3ccc(C(=O)N(C(=O)c4ccc(OCCCCCCOc5ccc(C(=O)N(C(=O)c6ccc(O)cc6)c6ccccc6)cc5)cc4)c4ccccc4)cc3)cc2)c2ccccc2)cc1 CCCCCOC(=O)OCCCCCOC(=O)OCCCCCOC(=O)O',\n",
       " 'CCCCOC(=O)SSSC(=O)OCCCCOC(=O)SSSC(=O)OCCCCOC(=O)SSSC(=O)O CCCCCCCCOC(=O)OCCCCCCCCOC(=O)OCCCCCCCCOC(=O)O',\n",
       " 'CCCCCCOc1ccc(-c2csc(-c3sc(-c4sccc4-c4ccc(OCCCCCC)cc4)cc3-c3ccc(OCCCCCC)cc3)c2)cc1 CCCCCCCCCCCCCCCCCCOCOCCCCCCCCCCCCCCCCCCOCOCCCCCCCCCCCCCCCCCCOCO',\n",
       " 'CCCCCCCCCCCCOc1ccc(C=NN=Cc2ccc(OCCCCCCCCCCCCOc3ccc(C=NN=Cc4ccc(OCCCCCCCCCCCCOc5ccc(C=NN=Cc6ccc(O)cc6O)c(O)c5)cc4O)c(O)c3)cc2O)c(O)c1 CCCCCCOC(=O)CCCC(=O)OCCCCCCOC(=O)CCCC(=O)OCCCCCCOC(=O)CCCC(=O)O',\n",
       " 'CCOC(=O)c1ccc2ccc(C(=O)OCCOC(=O)c3ccc4ccc(C(=O)OCCOC(=O)c5ccc6ccc(C(=O)O)cc6c5)cc4c3)cc2c1 CCCOC(=O)CC(=O)OCCCOC(=O)CC(=O)OCCCOC(=O)CC(=O)O',\n",
       " 'CCCCCOc1csc(-c2cc(OCCCCC)c(-c3sc(-c4cc(OCCCCC)c(-c5sc(-c6cc(OCCCCC)cs6)cc5OCCCCC)s4)cc3OCCCCC)s2)c1 CCCCCCCCCCOC(=O)CCCCS(=O)(=O)CCCCC(=O)OCCCCCCCCCCOC(=O)CCCCS(=O)(=O)CCCCC(=O)OCCCCCCCCCCOC(=O)CCCCS(=O)(=O)CCCCC(=O)O',\n",
       " 'CCN(CCCC(=O)Nc1ccc(N=Nc2ccccc2)cc1)CCOC(=O)NCC1CCCC(CNC(=O)OCCN(CCCC(=O)Nc2ccc(N=Nc3ccccc3)cc2)CCOC(=O)NCC2CCCC(CNC(=O)OCCN(CCCC(=O)Nc3ccc(N=Nc4ccccc4)cc3)CCOC(=O)NCC3CCCC(CNC(=O)O)C3)C2)C1 CCCCCOC(=O)NC1CC1NC(=O)OCCCCCOC(=O)NC1CC1NC(=O)OCCCCCOC(=O)NC1CC1NC(=O)O',\n",
       " 'CC(CC(CCC(=O)OCCCOc1ccc(-c2ccc(C#N)cc2)cc1)C(=O)OCCCOc1ccc(-c2ccc(C#N)cc2)cc1)C(=O)OCCCOc1ccc(-c2ccc(C#N)cc2)cc1 CCOC(=O)CCCCC(=O)OCCOC(=O)CCCCC(=O)OCCOC(=O)CCCCC(=O)O',\n",
       " 'CC(=O)C(=S)OCC(=O)C(=S)OCC(=O)C(O)=S CCCCCOC(=O)OCCCCCOC(=O)OCCCCCOC(=O)O',\n",
       " 'CCCCCc1ccc(CCCCCOC(=O)c2ccc(C(=O)OCCCCCc3ccc(CCCCCOC(=O)c4ccc(C(=O)OCCCCCc5ccc(CCCCCOC(=O)c6ccc(C(=O)O)cc6)cc5)cc4)cc3)cc2)cc1 CC#CCOC(=O)NCCCCCCNC(=O)OCC#CCOC(=O)NCCCCCCNC(=O)OCC#CCOC(=O)NCCCCCCNC(=O)O',\n",
       " 'CCCCCCCCCCCCOC(=O)c1csc(-c2ccc(-c3sc(-c4ccc(-c5sc(-c6cccs6)cc5C(=O)OCCCCCCCCCCCC)s4)cc3C(=O)OCCCCCCCCCCCC)s2)c1 CCCCCCCCOC(=O)OCCCCCCCCOC(=O)OCCCCCCCCOC(=O)O',\n",
       " 'CCCCCCCCCCCCCCCCOc1csc(-c2sc(-c3scc(C)c3OCCCCCCCCCCCCCCCC)c(C)c2OCCCCCCCCCCCCCCCC)c1C CCCCCCOC(=O)OCCCCCCOC(=O)OCCCCCCOC(=O)O',\n",
       " 'CCCCCCCCOC(=O)Cc1c[nH]c(-c2[nH]c(-c3[nH]ccc3CC(=O)OCCCCCCCC)cc2CC(=O)OCCCCCCCC)c1 CCOCCOC(=O)CCCCCCCCCCCCCCCCC(=O)OCCOCCOC(=O)CCCCCCCCCCCCCCCCC(=O)OCCOCCOC(=O)CCCCCCCCCCCCCCCCC(=O)O',\n",
       " 'CCOC(=O)c1ccc2ccc(C(=O)OCCOC(=O)c3ccc4ccc(C(=O)OCCOC(=O)c5ccc6ccc(C(=O)O)cc6c5)cc4c3)cc2c1 CCCCCCCCCCOC(=O)CCCC(=O)OCCCCCCCCCCOC(=O)CCCC(=O)OCCCCCCCCCCOC(=O)CCCC(=O)O',\n",
       " 'O=CC(=S)C(=O)OC(=O)C(=S)C(=O)OC(=O)C(=S)C(=O)O O=CCCCCCCC(=O)OC(=O)CCCCCCC(=O)OC(=O)CCCCCCC(=O)O',\n",
       " 'CC(CC(CCC(=O)OCCOC(=O)c1cc([N+](=O)[O-])cc([N+](=O)[O-])c1)C(=O)OCCOC(=O)c1cc([N+](=O)[O-])cc([N+](=O)[O-])c1)C(=O)OCCOC(=O)c1cc([N+](=O)[O-])cc([N+](=O)[O-])c1 CCCCCCCCCC(=O)OCCCCCCCCCC(=O)OCCCCCCCCCC(=O)O',\n",
       " 'CC(CC(CCC(=O)OCCCOc1ccc(-c2ccc(C#N)cc2)cc1)C(=O)OCCCOc1ccc(-c2ccc(C#N)cc2)cc1)C(=O)OCCCOc1ccc(-c2ccc(C#N)cc2)cc1 CCOCCOCCOC(=O)CCCCCC(=O)OCCOCCOCCOC(=O)CCCCCC(=O)OCCOCCOCCOC(=O)CCCCCC(=O)O',\n",
       " 'CCCCCOCCCCCCOc1cc(C(=O)Oc2ccc(OC(=O)c3cc(OCCCCCCOCCCCC)c(C(=O)Oc4ccc(OC(=O)c5cc(OCCCCCCOCCCCC)c(C(=O)Oc6ccc(O)cc6)cc5OCCCCCCOCCCCC)cc4)cc3OCCCCCCOCCCCC)cc2)c(OCCCCCCOCCCCC)cc1C=O CCCCCOC(=O)CCCCCOC(=O)CCCCCOC(=O)CCCCCOC(=O)CCCCCOC(=O)CCCCCOC=O',\n",
       " 'CC(CC(CCC(=O)OCCCOc1ccc(-c2ccc(C#N)cc2)cc1)C(=O)OCCCOc1ccc(-c2ccc(C#N)cc2)cc1)C(=O)OCCCOc1ccc(-c2ccc(C#N)cc2)cc1 CCCCCCCCCCOC(=O)CCCCC(=O)OCCCCCCCCCCOC(=O)CCCCC(=O)OCCCCCCCCCCOC(=O)CCCCC(=O)O',\n",
       " 'CCOC(=O)c1ccc2ccc(C(=O)OCCOC(=O)c3ccc4ccc(C(=O)OCCOC(=O)c5ccc6ccc(C(=O)O)cc6c5)cc4c3)cc2c1 CCCCOC(=O)OCCCCOC(=O)OCCCCOC(=O)O',\n",
       " 'CCCCCCCc1cc(OC(=O)c2ccc(C(=O)Oc3ccc(OC(=O)c4ccc(C(=O)Oc5ccc(OC(=O)c6ccc(C=O)cc6)cc5CCCCCCC)cc4)cc3CCCCCCC)cc2)ccc1O CCCCCCCCCCOC(=O)CC(=O)OCCCCCCCCCCOC(=O)CC(=O)OCCCCCCCCCCOC(=O)CC(=O)O',\n",
       " 'CCCCCCCCCCCCOC(=O)c1cc(-c2cc(C(=O)CCCCCCCCCCCC)cs2)sc1-c1ccc(-c2ccc(-c3sc(-c4cc(C(=O)OCCCCCCCCCCCC)c(-c5ccc(-c6ccc(-c7sc(-c8cc(C(=O)OCCCCCCCCCCCC)c(-c9ccc(-c%10cccs%10)s9)s8)cc7C(=O)CCCCCCCCCCCC)s6)s5)s4)cc3C(=O)CCCCCCCCCCCC)s2)s1 CCCCCCCCOC(=O)OCCCCCCCCOC(=O)OCCCCCCCCOC(=O)O',\n",
       " 'CCCCCOCCCCCCOc1cc(C(=O)Oc2ccc(OC(=O)c3cc(OCCCCCCOCCCCC)c(C(=O)Oc4ccc(OC(=O)c5cc(OCCCCCCOCCCCC)c(C(=O)Oc6ccc(O)cc6)cc5OCCCCCCOCCCCC)cc4)cc3OCCCCCCOCCCCC)cc2)c(OCCCCCCOCCCCC)cc1C=O CCCCCCCCCCCCOC(=O)CCCCCCCCCCCCC(=O)OCCCCCCCCCCCCOC(=O)CCCCCCCCCCCCC(=O)OCCCCCCCCCCCCOC(=O)CCCCCCCCCCCCC(=O)O',\n",
       " 'CCCCCCCCOc1ccc(-c2csc(-c3sc(-c4sccc4-c4ccc(OCCCCCCCC)cc4)cc3-c3ccc(OCCCCCCCC)cc3)c2)cc1 CCCCCCCCOCCCCCCCCOCCCCCCCCO',\n",
       " 'CCCCOC(=O)CC(=CC(=O)OCCCCOC(=O)CC(=CC(=O)OCCCCOC(=O)CC(=CC(=O)O)c1ccc(OCC)cc1)c1ccc(OCC)cc1)c1ccc(OCC)cc1 CCCCOC(=O)NCCCCCCNC(=O)OCCCCOC(=O)NCCCCCCNC(=O)OCCCCOC(=O)NCCCCCCNC(=O)O',\n",
       " 'CCCCCCCCOC(=O)Cc1c[nH]c(-c2[nH]c(-c3[nH]ccc3CC(=O)OCCCCCCCC)cc2CC(=O)OCCCCCCCC)c1 CCCCCCCCOC(=O)CC=CCC(=O)OCCCCCCCCOC(=O)CC=CCC(=O)OCCCCCCCCOC(=O)CC=CCC(=O)O',\n",
       " 'CCCCCCOC(=O)C(CCCCCCOc1ccc(-c2ccc(OCc3ccc([N+](=O)[O-])cc3)cc2)cc1)C(=O)OCCCCCCOC(=O)C(CCCCCCOc1ccc(-c2ccc(OCc3ccc([N+](=O)[O-])cc3)cc2)cc1)C(=O)OCCCCCCOC(=O)C(CCCCCCOc1ccc(-c2ccc(OCc3ccc([N+](=O)[O-])cc3)cc2)cc1)C(=O)O CCCCCCC(=O)OCCCCCCC(=O)OCCCCCCC(=O)O',\n",
       " 'CCCCCCCCOc1cc(C#Cc2ccc(-c3nnc(-c4ccc(C#Cc5cc(OCCCCCCCC)c(C#Cc6ccc(-c7nnc(-c8ccc(C#Cc9cc(OCCCCCCCC)c(C#Cc%10ccc(-c%11nnco%11)cc%10)cc9OCCCCCCCC)cc8)o7)cc6)cc5OCCCCCCCC)cc4)o3)cc2)c(OCCCCCCCC)cc1C#Cc1ccccc1 CCCCCOC(=O)CC(=O)OCCCCCOC(=O)CC(=O)OCCCCCOC(=O)CC(=O)O',\n",
       " 'CCOC(=O)c1ccc2ccc(C(=O)OCCOC(=O)c3ccc4ccc(C(=O)OCCOC(=O)c5ccc6ccc(C(=O)O)cc6c5)cc4c3)cc2c1 CCOC(=O)NCCC(C)NC(=O)OCCOC(=O)NCCC(C)NC(=O)OCCOC(=O)NCCC(C)NC(=O)O',\n",
       " 'CCCCOC(=O)CC(=CC(=O)OCCCCOC(=O)CC(=CC(=O)OCCCCOC(=O)CC(=CC(=O)O)c1ccc(OCC)cc1)c1ccc(OCC)cc1)c1ccc(OCC)cc1 CCCCCOC(=O)CCCCC(=O)OCCCCCOC(=O)CCCCC(=O)OCCCCCOC(=O)CCCCC(=O)O',\n",
       " 'O=C(COc1ccccc1)OCCCCCCc1csc(-c2sc(-c3sccc3CCCCCCOC(=O)COc3ccccc3)cc2CCCCCCOC(=O)COc2ccccc2)c1 CCCCCCCCOC(=O)CC=CCC(=O)OCCCCCCCCOC(=O)CC=CCC(=O)OCCCCCCCCOC(=O)CC=CCC(=O)O',\n",
       " 'CC(=O)C(=S)OCC(=O)C(=S)OCC(=O)C(O)=S CC(=O)OCC(=O)OCC(=O)O',\n",
       " 'CCCCCCCCCCCCOC(=O)c1cc(-c2cc(C(=O)CCCCCCCCCCCC)cs2)sc1-c1ccc(-c2ccc(-c3sc(-c4cc(C(=O)OCCCCCCCCCCCC)c(-c5ccc(-c6ccc(-c7sc(-c8cc(C(=O)OCCCCCCCCCCCC)c(-c9ccc(-c%10cccs%10)s9)s8)cc7C(=O)CCCCCCCCCCCC)s6)s5)s4)cc3C(=O)CCCCCCCCCCCC)s2)s1 CCCCCCCCCCCCOC(=O)NCCCCCCNC(=O)OCCCCCCCCCCCCOC(=O)NCCCCCCNC(=O)OCCCCCCCCCCCCOC(=O)NCCCCCCNC(=O)O',\n",
       " 'CCCCCOc1csc(-c2cc(OCCCCC)c(-c3sc(-c4cc(OCCCCC)c(-c5sc(-c6cc(OCCCCC)cs6)cc5OCCCCC)s4)cc3OCCCCC)s2)c1 CCCCCCCCCCOC(=O)CCCCCCCC(=O)OCCCCCCCCCCOC(=O)CCCCCCCC(=O)OCCCCCCCCCCOC(=O)CCCCCCCC(=O)O',\n",
       " 'CCCCCCCCCCOc1cccc(OC(=O)c2ccc(C(=O)Oc3cccc(OCCCCCCCCCCOc4cccc(OC(=O)c5ccc(C(=O)Oc6cccc(OCCCCCCCCCCOc7cccc(OC(=O)c8ccc(C(=O)Oc9cccc(O)c9)cc8)c7)c6)cc5)c4)c3)cc2)c1 CCCCCCCCCCOCCCCCCCCCCOCCCCOCCCCCCCCCCOCCCCCCCCCCOCCCCOCCCCCCCCCCOCCCCCCCCCCOCCCCO',\n",
       " 'CC(CC(C)(CC(C)(C)C(=O)Oc1ccccc1[N+](=O)[O-])C(=O)Oc1ccccc1[N+](=O)[O-])C(=O)Oc1ccccc1[N+](=O)[O-] CC(CC(C)(CC(C)(C)C(=O)OCCC1CCCCC1)C(=O)OCCC1CCCCC1)C(=O)OCCC1CCCCC1',\n",
       " 'CCCCCCCCCCCCOc1cc(Nc2ccc(Nc3ccccc3OCCCCCCCCCCCC)cc2OCCCCCCCCCCCC)ccc1N CCCCCCOCCCCCCOCCCCCCO',\n",
       " 'CCCCCCCCCCCCOc1cc(C(=O)Oc2ccc(OC(=O)c3cc(OCCCCCCCCCCCC)c(C(=O)Oc4ccc(OC(=O)c5cc(OCCCCCCCCCCCC)c(C(=O)Oc6ccc(O)cc6)cc5OCCCCCCCCCCCC)cc4)cc3OCCCCCCCCCCCC)cc2)c(OCCCCCCCCCCCC)cc1C=O CCCCCCCCCCOC(=O)CCCCC(=O)OCCCCCCCCCCOC(=O)CCCCC(=O)OCCCCCCCCCCOC(=O)CCCCC(=O)O',\n",
       " 'CCOC(=O)C(C)OC(=O)CCn1cccc1-c1ccc(-c2cccn2CCC(=O)OC(C)C(=O)OCC)n1CCC(=O)OC(C)C(=O)OCC CC(O)COC(=O)CCC(=O)OC(C)COC(=O)CCC(=O)OC(C)COC(=O)CCC=O',\n",
       " 'CC(CC(CCC(=O)n1sc2ccccc2c1=O)C(=O)n1sc2ccccc2c1=O)C(=O)n1sc2ccccc2c1=O CCC(CC)OC(=O)CCC(CC(C)C(=O)OC(CC)CC)C(=O)OC(CC)CC',\n",
       " 'CCCCCC[N+](C)(C)CCCCCC[N+](C)(C)CCCCCC[N+](C)C CCCCCCCCCC(=O)OCCCCCCCCCC(=O)OCCCCCCCCCC(=O)O',\n",
       " 'CCCCCCCCCCCCOc1cc(Nc2ccc(Nc3ccccc3OCCCCCCCCCCCC)cc2OCCCCCCCCCCCC)ccc1N CCCCCOC(=O)NC1CC1NC(=O)OCCCCCOC(=O)NC1CC1NC(=O)OCCCCCOC(=O)NC1CC1NC(=O)O',\n",
       " 'CCCCCCOC(=O)C(CCCCCCOc1ccc(-c2ccc(OCc3ccc([N+](=O)[O-])cc3)cc2)cc1)C(=O)OCCCCCCOC(=O)C(CCCCCCOc1ccc(-c2ccc(OCc3ccc([N+](=O)[O-])cc3)cc2)cc1)C(=O)OCCCCCCOC(=O)C(CCCCCCOc1ccc(-c2ccc(OCc3ccc([N+](=O)[O-])cc3)cc2)cc1)C(=O)O CCCCOC(=O)OCCCCOC(=O)OCCCCOC(=O)O',\n",
       " 'CC(CC(CCC(=O)OCCOC(=O)c1cc([N+](=O)[O-])cc([N+](=O)[O-])c1)C(=O)OCCOC(=O)c1cc([N+](=O)[O-])cc([N+](=O)[O-])c1)C(=O)OCCOC(=O)c1cc([N+](=O)[O-])cc([N+](=O)[O-])c1 CCCCCCCC(=O)OCCCCCCCC(=O)OCCCCCCCC(=O)O',\n",
       " 'CC(CC(CCC(=O)OCCCOc1ccc(-c2ccc(C#N)cc2)cc1)C(=O)OCCCOc1ccc(-c2ccc(C#N)cc2)cc1)C(=O)OCCCOc1ccc(-c2ccc(C#N)cc2)cc1 CCOC(=O)CCC(C)CC(=O)OCCOC(=O)CCC(C)CC(=O)OCCOC(=O)CCC(C)CC(=O)O',\n",
       " 'CCCCCCCCOc1cc(N2C(=O)c3ccccc3C2=O)cc(N2C(=O)c3ccc(C(=O)c4ccc5c(c4)C(=O)N(c4cc(OCCCCCCCC)cc(N6C(=O)c7ccc(C(=O)c8ccc9c(c8)C(=O)N(c8cc(OCCCCCCCC)cc(N%10C(=O)c%11ccc(C=O)cc%11C%10=O)c8)C9=O)cc7C6=O)c4)C5=O)cc3C2=O)c1 CCCCCCCCCCOC(=O)CCCCCCCCC(=O)OCCCCCCCCCCOC(=O)CCCCCCCCC(=O)OCCCCCCCCCCOC(=O)CCCCCCCCC(=O)O',\n",
       " 'CCCCCc1ccc(CCCCCOC(=O)c2ccc(C(=O)OCCCCCc3ccc(CCCCCOC(=O)c4ccc(C(=O)OCCCCCc5ccc(CCCCCOC(=O)c6ccc(C(=O)O)cc6)cc5)cc4)cc3)cc2)cc1 CCCCCCCCCCCC(=O)OCCCCCCCCCCCC(=O)OCCCCCCCCCCCC(=O)O',\n",
       " 'CCCCOC(=O)CC(=CC(=O)OCCCCOC(=O)CC(=CC(=O)OCCCCOC(=O)CC(=CC(=O)O)c1ccc(OCC)cc1)c1ccc(OCC)cc1)c1ccc(OCC)cc1 CCOCCOC(=O)CCCCCCC(=O)OCCOCCOC(=O)CCCCCCC(=O)OCCOCCOC(=O)CCCCCCC(=O)O',\n",
       " 'CCOCCOCCOCCOCCOc1ccc(C(=O)Nc2cc(NC(=O)c3ccc(OCCOCCOCCOCCOCCOc4ccc(C(=O)Nc5cc(NC(=O)c6ccc(OCCOCCOCCOCCOCCOc7ccc(C(=O)Nc8cc(NC(=O)c9ccc(O)cc9)cc(-c9nc%10ccccc%10[nH]9)c8)cc7)cc6)cc(-c6nc7ccccc7[nH]6)c5)cc4)cc3)cc(-c3nc4ccccc4[nH]3)c2)cc1 CCOCCOC(=O)CCCCCCCCC(=O)OCCOCCOC(=O)CCCCCCCCC(=O)OCCOCCOC(=O)CCCCCCCCC(=O)O',\n",
       " 'CCCCOC(=O)SSSC(=O)OCCCCOC(=O)SSSC(=O)OCCCCOC(=O)SSSC(=O)O CCCCOC(=O)OCC1CCC(COC(=O)OCCCCOC(=O)OCC2CCC(COC(=O)OCCCCOC(=O)OCC3CCC(COC(=O)O)CC3)CC2)CC1',\n",
       " 'CCCCOC(=O)SSSC(=O)OCCCCOC(=O)SSSC(=O)OCCCCOC(=O)SSSC(=O)O CCCCCCNC(=O)CCCCCCCCC(=O)NCCCCCCNC(=O)CCCCCCCCC(=O)NCCCCCCNC(=O)CCCCCCCCC(N)=O',\n",
       " 'CCCCCCCCCCCCOC(=O)c1cc(-c2cc(C(=O)CCCCCCCCCCCC)cs2)sc1-c1ccc(-c2ccc(-c3sc(-c4cc(C(=O)OCCCCCCCCCCCC)c(-c5ccc(-c6ccc(-c7sc(-c8cc(C(=O)OCCCCCCCCCCCC)c(-c9ccc(-c%10cccs%10)s9)s8)cc7C(=O)CCCCCCCCCCCC)s6)s5)s4)cc3C(=O)CCCCCCCCCCCC)s2)s1 CCCCCCCCCCCC(=O)OCCCCCCCCCCCC(=O)OCCCCCCCCCCCC(=O)O',\n",
       " 'CCCCCCCc1cc(OC(=O)c2ccc(C(=O)Oc3ccc(OC(=O)c4ccc(C(=O)Oc5ccc(OC(=O)c6ccc(C=O)cc6)cc5CCCCCCC)cc4)cc3CCCCCCC)cc2)ccc1O CCCCCCCCCCOC(=O)CCCCCCCC(=O)OCCCCCCCCCCOC(=O)CCCCCCCC(=O)OCCCCCCCCCCOC(=O)CCCCCCCC(=O)O',\n",
       " 'CCCCCC[N+](C)(C)CCCCC[N+](C)(C)CCCCCC[N+](C)(C)CCCCC[N+](C)(C)CCCCCC[N+](C)(C)CCCCC[N+](C)C CCCCCCCC(=O)OCCCCCCCC(=O)OCCCCCCCC(=O)O',\n",
       " 'C#Cc1cc(OCCCCCCCC)c(C#Cc2ccc(C#Cc3cc(OCCCCCCCC)c(C#Cc4ccc(C#Cc5cc(OCCCCCCCC)c(C#Cc6cccs6)cc5OCCCCCCCC)s4)cc3OCCCCCCCC)s2)cc1OCCCCCCCC CCCCCCOC(=O)CC(=O)OCCCCCCOC(=O)CC(=O)OCCCCCCOC(=O)CC(=O)O',\n",
       " 'CCCCCC[N+](C)(C)CCCCCC[N+](C)(C)CCCCCC[N+](C)C CCCCCCCCCCOC(=O)CCCCC(=O)OCCCCCCCCCCOC(=O)CCCCC(=O)OCCCCCCCCCCOC(=O)CCCCC(=O)O',\n",
       " 'CCCCOc1cc(N2C(=O)c3ccccc3C2=O)cc(N2C(=O)c3ccc(C(=O)c4ccc5c(c4)C(=O)N(c4cc(OCCCC)cc(N6C(=O)c7ccc(C(=O)c8ccc9c(c8)C(=O)N(c8cc(OCCCC)cc(N%10C(=O)c%11ccc(C=O)cc%11C%10=O)c8)C9=O)cc7C6=O)c4)C5=O)cc3C2=O)c1 CCCCOC(=O)OCCCCOC(=O)OCCCCOC(=O)O',\n",
       " 'CCCCCC[N+](C)(C)CCCCC[N+](C)(C)CCCCCC[N+](C)(C)CCCCC[N+](C)(C)CCCCCC[N+](C)(C)CCCCC[N+](C)C CCCCCOC(=O)CCCCC(=O)OCCCCCOC(=O)CCCCC(=O)OCCCCCOC(=O)CCCCC(=O)O',\n",
       " 'CCCCCCCCCCOc1ccc(OCCCCCCCCCC)c(-c2ccc(-c3cc(OCCCCCCCCCC)c(-c4ccc(-c5cc(OCCCCCCCCCC)c(-c6ccccc6)cc5OCCCCCCCCCC)cc4)cc3OCCCCCCCCCC)cc2)c1 CCCCCOC(=O)NCC(F)(F)C(F)(F)C(F)(F)C(F)(F)CNC(=O)OCCCCCOC(=O)NCC(F)(F)C(F)(F)C(F)(F)C(F)(F)CNC(=O)OCCCCCOC(=O)NCC(F)(F)C(F)(F)C(F)(F)C(F)(F)CNC(=O)O',\n",
       " 'CCCCCc1ccc(CCCCCOC(=O)c2ccc(C(=O)OCCCCCc3ccc(CCCCCOC(=O)c4ccc(C(=O)OCCCCCc5ccc(CCCCCOC(=O)c6ccc(C(=O)O)cc6)cc5)cc4)cc3)cc2)cc1 CCCCOC(=O)NCCCCCCNC(=O)OCCCCOC(=O)NCCCCCCNC(=O)OCCCCOC(=O)NCCCCCCNC(=O)O',\n",
       " 'CC(CC(CCC(=O)n1sc2ccccc2c1=O)C(=O)n1sc2ccccc2c1=O)C(=O)n1sc2ccccc2c1=O CC(CC(CCC(=O)OCC(F)(F)C(F)(F)C(F)(F)C(F)(F)C(F)(F)C(F)(F)C(F)(F)F)C(=O)OCC(F)(F)C(F)(F)C(F)(F)C(F)(F)C(F)(F)C(F)(F)C(F)(F)F)C(=O)OCC(F)(F)C(F)(F)C(F)(F)C(F)(F)C(F)(F)C(F)(F)C(F)(F)F',\n",
       " 'CCCCCCCCCCCCOc1cc(Nc2ccc(Nc3ccccc3OCCCCCCCCCCCC)cc2OCCCCCCCCCCCC)ccc1N CCCCCCCCCCCC(=O)OCCCCCCCCCCCC(=O)OCCCCCCCCCCCC(=O)O',\n",
       " 'CCCCOc1ccc(C=C2CCC(=Cc3ccc(OCCCCOc4ccc(C=C5CCC(=Cc6ccc(OCCCCOc7ccc(C=C8CCC(=Cc9ccc(O)cc9)C8=O)cc7)cc6)C5=O)cc4)cc3)C2=O)cc1 CCCCCCOC(=O)NCCCCCCNC(=O)OCCCCCCOC(=O)NCCCCCCNC(=O)OCCCCCCOC(=O)NCCCCCCNC(=O)O',\n",
       " 'CCCCOC(=O)SSSC(=O)OCCCCOC(=O)SSSC(=O)OCCCCOC(=O)SSSC(=O)O CCCCCCCCOC(=O)CCCCC(=O)OCCCCCCCCOC(=O)CCCCC(=O)OCCCCCCCCOC(=O)CCCCC(=O)O',\n",
       " 'CCCCCCCCCCCCOc1cc(Nc2ccc(Nc3ccccc3OCCCCCCCCCCCC)cc2OCCCCCCCCCCCC)ccc1N CCCCCCCCOC(=O)CC=CCC(=O)OCCCCCCCCOC(=O)CC=CCC(=O)OCCCCCCCCOC(=O)CC=CCC(=O)O',\n",
       " 'CCCCCCCCCCCCCCCCOc1csc(-c2sc(-c3scc(C)c3OCCCCCCCCCCCCCCCC)c(C)c2OCCCCCCCCCCCCCCCC)c1C CCCCOCOCCCCCOCOCCCCCOCOC',\n",
       " 'CCCCCCCCCCCCOc1cc(Nc2ccc(Nc3ccccc3OCCCCCCCCCCCC)cc2OCCCCCCCCCCCC)ccc1N CCCCCCCCCCOC(=O)CCCCC(=O)OCCCCCCCCCCOC(=O)CCCCC(=O)OCCCCCCCCCCOC(=O)CCCCC(=O)O',\n",
       " 'NC(=O)C(=S)C(=O)NC(=O)C(=S)C(=O)NC(=O)C(=S)C=O NCNC(=O)OC(=O)NC(=O)NCNC(=O)OC(=O)NC(=O)NCNC(=O)OC(=O)NC=O',\n",
       " 'CCCCCCCCOc1cc(N2C(=O)c3ccccc3C2=O)cc(N2C(=O)c3ccc(C(=O)c4ccc5c(c4)C(=O)N(c4cc(OCCCCCCCC)cc(N6C(=O)c7ccc(C(=O)c8ccc9c(c8)C(=O)N(c8cc(OCCCCCCCC)cc(N%10C(=O)c%11ccc(C=O)cc%11C%10=O)c8)C9=O)cc7C6=O)c4)C5=O)cc3C2=O)c1 CCCCCCCOC(=O)CCCCCCCCC(=O)OCCCCCCCOC(=O)CCCCCCCCC(=O)OCCCCCCCOC(=O)CCCCCCCCC(=O)O',\n",
       " 'CCCCCCCCNc1ccc(C(=O)N(CCCCCCCC)c2ccc(C(=O)N(CCCCCCCC)c3ccc(C=O)cc3)cc2)cc1 CCCCCCCOC(=O)NCCCCCCNC(=O)OCCCCCCCOC(=O)NCCCCCCNC(=O)OCCCCCCCOC(=O)NCCCCCCNC(=O)O',\n",
       " 'CCCCCOCCCCCCOc1cc(C(=O)Oc2ccc(OC(=O)c3cc(OCCCCCCOCCCCC)c(C(=O)Oc4ccc(OC(=O)c5cc(OCCCCCCOCCCCC)c(C(=O)Oc6ccc(O)cc6)cc5OCCCCCCOCCCCC)cc4)cc3OCCCCCCOCCCCC)cc2)c(OCCCCCCOCCCCC)cc1C=O CCCCCCOCOCCCCCCOCOCCCCCCOCO',\n",
       " 'CCCCCCCCCCCCOc1cc(Nc2ccc(Nc3ccccc3OCCCCCCCCCCCC)cc2OCCCCCCCCCCCC)ccc1N CCCCCCOC(=O)CCCC(=O)OCCCCCCOC(=O)CCCC(=O)OCCCCCCOC(=O)CCCC(=O)O',\n",
       " 'CCCCCCCCCCOc1cccc(OC(=O)c2ccc(C(=O)Oc3cccc(OCCCCCCCCCCOc4cccc(OC(=O)c5ccc(C(=O)Oc6cccc(OCCCCCCCCCCOc7cccc(OC(=O)c8ccc(C(=O)Oc9cccc(O)c9)cc8)c7)c6)cc5)c4)c3)cc2)c1 CCCOC(=O)CCCCCCCCCCC(=O)OCCCOC(=O)CCCCCCCCCCC(=O)OCCCOC(=O)CCCCCCCCCCC(=O)O',\n",
       " 'CCCCCCCCCCOc1cccc(OC(=O)c2ccc(C(=O)Oc3cccc(OCCCCCCCCCCOc4cccc(OC(=O)c5ccc(C(=O)Oc6cccc(OCCCCCCCCCCOc7cccc(OC(=O)c8ccc(C(=O)Oc9cccc(O)c9)cc8)c7)c6)cc5)c4)c3)cc2)c1 CCCCCCCCOC(=O)CCCCCCC(=O)OCCCCCCCCOC(=O)CCCCCCC(=O)OCCCCCCCCOC(=O)CCCCCCC(=O)O',\n",
       " 'CCCCCCCCCCOc1ccc(OCCCCCCCCCC)c(-c2ccc(-c3cc(OCCCCCCCCCC)c(-c4ccc(-c5cc(OCCCCCCCCCC)c(-c6ccccc6)cc5OCCCCCCCCCC)cc4)cc3OCCCCCCCCCC)cc2)c1 CCCCC(=O)OCCCCC(=O)OCCCCC(=O)O',\n",
       " 'CCCCCCCCCCCCOc1ccc(C=NN=Cc2ccc(OCCCCCCCCCCCCOc3ccc(C=NN=Cc4ccc(OCCCCCCCCCCCCOc5ccc(C=NN=Cc6ccc(O)cc6O)c(O)c5)cc4O)c(O)c3)cc2O)c(O)c1 CCCCCCCCCCOCCCCCCCCCCOCCCCCCOCCCCCCCCCCOCCCCCCCCCCOCCCCCCOCCCCCCCCCCOCCCCCCCCCCOCCCCCCO',\n",
       " 'CC(CC(CCC(=O)OCCCOc1ccc(-c2ccc(C#N)cc2)cc1)C(=O)OCCCOc1ccc(-c2ccc(C#N)cc2)cc1)C(=O)OCCCOc1ccc(-c2ccc(C#N)cc2)cc1 CCCCCOC(=O)CCCCCOC(=O)CCCCCOC(=O)CCCCCOC(=O)CCCCCOC(=O)CCCCCOC=O',\n",
       " 'CCCCCCCCOC(=O)Cc1c[nH]c(-c2[nH]c(-c3[nH]ccc3CC(=O)OCCCCCCCC)cc2CC(=O)OCCCCCCCC)c1 CCCCCCCCCCOC(=O)C1CCC(C(=O)OCCCCCCCCCCOC(=O)C2CCC(C(=O)OCCCCCCCCCCOC(=O)C3CCC(C(=O)O)CC3)CC2)CC1',\n",
       " 'CCOC(=O)c1ccc2ccc(C(=O)OCCOC(=O)c3ccc4ccc(C(=O)OCCOC(=O)c5ccc6ccc(C(=O)O)cc6c5)cc4c3)cc2c1 CCCCCCCCCCOC(=O)OCCCCCCCCCCOC(=O)OCCCCCCCCCCOC(=O)O',\n",
       " 'O=COCCCCCCCCOC(=O)c1ccc(NC(=O)c2ccc(N3C(=O)c4ccc(C(=O)OCCCCCCCCOC(=O)c5ccc(NC(=O)c6ccc(N7C(=O)c8ccc(C(=O)OCCCCCCCCOC(=O)c9ccc(NC(=O)c%10ccc(N%11C(=O)c%12ccccc%12C%11=O)cc%10)cc9)cc8C7=O)cc6)cc5)cc4C3=O)cc2)cc1 O=COCCCCCOC(=O)OC1CCC(OC(=O)OCCCCCOC(=O)OC2CCC(OC(=O)OCCCCCOC(=O)OC3CCC(O)CC3)CC2)CC1',\n",
       " 'CC(CC(CCC(=O)OCCOC(=O)c1cc([N+](=O)[O-])cc([N+](=O)[O-])c1)C(=O)OCCOC(=O)c1cc([N+](=O)[O-])cc([N+](=O)[O-])c1)C(=O)OCCOC(=O)c1cc([N+](=O)[O-])cc([N+](=O)[O-])c1 CC(O)CCOC(=O)CCCCCCCC(=O)OC(C)CCOC(=O)CCCCCCCC(=O)OC(C)CCOC(=O)CCCCCCCC=O',\n",
       " 'CCCCCC[N+](C)(C)CCCCCC[N+](C)(C)CCCCCC[N+](C)C CCCCCCCCCOCOCCCCCCCCCOCOCCCCCCCCCOCO',\n",
       " 'CCCCCC[N+](C)(C)CCCCC[N+](C)(C)CCCCCC[N+](C)(C)CCCCC[N+](C)(C)CCCCCC[N+](C)(C)CCCCC[N+](C)C CCCCCCCCC(=O)OCCCCCCCCC(=O)OCCCCCCCCC(=O)O',\n",
       " 'O=C(COc1ccccc1)OCCCCCCc1csc(-c2sc(-c3sccc3CCCCCCOC(=O)COc3ccccc3)cc2CCCCCCOC(=O)COc2ccccc2)c1 CCCOC(=O)COCC(=O)OCCCOC(=O)COCC(=O)OCCCOC(=O)COCC(=O)O',\n",
       " 'CCCCCCCCCCCCOc1cc(C(=O)Oc2ccc(OC(=O)c3cc(OCCCCCCCCCCCC)c(C(=O)Oc4ccc(OC(=O)c5cc(OCCCCCCCCCCCC)c(C(=O)Oc6ccc(O)cc6)cc5OCCCCCCCCCCCC)cc4)cc3OCCCCCCCCCCCC)cc2)c(OCCCCCCCCCCCC)cc1C=O CCCCCCCCCCOC(=O)CCCCCCCCCCCCCCCCC(=O)OCCCCCCCCCCOC(=O)CCCCCCCCCCCCCCCCC(=O)OCCCCCCCCCCOC(=O)CCCCCCCCCCCCCCCCC(=O)O',\n",
       " 'CC(=NN=C(C)c1ccc(OC(=O)CCCCCCCCC(=O)Oc2ccc(C(C)=NN=C(C)c3ccc(OC(=O)CCCCCCCCC(=O)Oc4ccc(C(C)=NN=C(C)c5ccc(OC(=O)CCCCCCCCC=O)cc5)cc4)cc3)cc2)cc1)c1ccc(O)cc1 O=CCCCCCCCCC(=O)OC1CCC(C2CCC(OC(=O)CCCCCCCCC(=O)OC3CCC(C4CCC(OC(=O)CCCCCCCCC(=O)OC5CCC(C6CCC(O)CC6)CC5)CC4)CC3)CC2)CC1',\n",
       " 'CCCCCCCCOc1cc(N2C(=O)c3ccccc3C2=O)cc(N2C(=O)c3ccc(C(=O)c4ccc5c(c4)C(=O)N(c4cc(OCCCCCCCC)cc(N6C(=O)c7ccc(C(=O)c8ccc9c(c8)C(=O)N(c8cc(OCCCCCCCC)cc(N%10C(=O)c%11ccc(C=O)cc%11C%10=O)c8)C9=O)cc7C6=O)c4)C5=O)cc3C2=O)c1 CCCCCOC(=O)OCCCCCOC(=O)OCCCCCOC(=O)O',\n",
       " 'C=Cc1cc(OCCCCCC)c(C=Cc2cc(OCCCCCC)c(C=Cc3cc(OCCCCCC)ccc3OC)cc2OC)cc1OC CCCCCOCOCCCCCOCOCCCCCOCO',\n",
       " 'CCCCOC(=O)SSSC(=O)OCCCCOC(=O)SSSC(=O)OCCCCOC(=O)SSSC(=O)O CCC(C)(C)C(=O)OCC(C)(CC)C(=O)OCC(C)(CC)C(=O)O',\n",
       " 'CCCCCOCCCCCCOc1cc(C(=O)Oc2ccc(OC(=O)c3cc(OCCCCCCOCCCCC)c(C(=O)Oc4ccc(OC(=O)c5cc(OCCCCCCOCCCCC)c(C(=O)Oc6ccc(O)cc6)cc5OCCCCCCOCCCCC)cc4)cc3OCCCCCCOCCCCC)cc2)c(OCCCCCCOCCCCC)cc1C=O CCCCCCOC(=O)NCCCCCCNC(=O)OCCCCCCOC(=O)NCCCCCCNC(=O)OCCCCCCOC(=O)NCCCCCCNC(=O)O',\n",
       " 'CC(CC(CCC(=O)Oc1ccc([N+](=O)[O-])cc1)C(=O)Oc1ccc([N+](=O)[O-])cc1)C(=O)Oc1ccc([N+](=O)[O-])cc1 CCOC(=O)CCC(C)CC(=O)OCCOC(=O)CCC(C)CC(=O)OCCOC(=O)CCC(C)CC(=O)O',\n",
       " 'CCCCCCCCCCOc1ccc(OCCCCCCCCCC)c(-c2ccc(-c3cc(OCCCCCCCCCC)c(-c4ccc(-c5cc(OCCCCCCCCCC)c(-c6ccccc6)cc5OCCCCCCCCCC)cc4)cc3OCCCCCCCCCC)cc2)c1 CCCCCOC(=O)NC1CC1NC(=O)OCCCCCOC(=O)NC1CC1NC(=O)OCCCCCOC(=O)NC1CC1NC(=O)O',\n",
       " 'CCCCOC(=O)SSSC(=O)OCCCCOC(=O)SSSC(=O)OCCCCOC(=O)SSSC(=O)O CCCCCCOC(=O)CCCCCC(=O)OCCCCCCOC(=O)CCCCCC(=O)OCCCCCCOC(=O)CCCCCC(=O)O',\n",
       " 'CCCCCc1ccc(CCCCCOC(=O)c2ccc(C(=O)OCCCCCc3ccc(CCCCCOC(=O)c4ccc(C(=O)OCCCCCc5ccc(CCCCCOC(=O)c6ccc(C(=O)O)cc6)cc5)cc4)cc3)cc2)cc1 CCCOC(=O)CCCCCCCC(=O)OCCCOC(=O)CCCCCCCC(=O)OCCCOC(=O)CCCCCCCC(=O)O',\n",
       " 'Nc1ccc(NC(=O)NC(=O)NC(=O)Nc2ccc(NC(=O)NC(=O)NC(=O)Nc3ccc(NC(=O)NC(=O)NC=O)s3)s2)s1 NCCCNC(=O)NC(=O)NCCCNC(=O)NC(=O)NCCCNC(=O)NC=O',\n",
       " 'CCCCCOc1csc(-c2cc(OCCCCC)c(-c3sc(-c4cc(OCCCCC)c(-c5sc(-c6cc(OCCCCC)cs6)cc5OCCCCC)s4)cc3OCCCCC)s2)c1 CCCCCOC(=O)OCCCCCOC(=O)OCCCCCOC(=O)O',\n",
       " 'CCCCCOCCCCCCOc1cc(C(=O)Oc2ccc(OC(=O)c3cc(OCCCCCCOCCCCC)c(C(=O)Oc4ccc(OC(=O)c5cc(OCCCCCCOCCCCC)c(C(=O)Oc6ccc(O)cc6)cc5OCCCCCCOCCCCC)cc4)cc3OCCCCCCOCCCCC)cc2)c(OCCCCCCOCCCCC)cc1C=O CCCCCCCCCOCOCCCCCCCCCOCOCCCCCCCCCOCO',\n",
       " 'CCCCCc1ccc(CCCCCOC(=O)c2ccc(C(=O)OCCCCCc3ccc(CCCCCOC(=O)c4ccc(C(=O)OCCCCCc5ccc(CCCCCOC(=O)c6ccc(C(=O)O)cc6)cc5)cc4)cc3)cc2)cc1 CCOC(=O)CCCCC(=O)OCCOC(=O)CCCCC(=O)OCCOC(=O)CCCCC(=O)O',\n",
       " 'CCCCCCCCCCCCCCCc1csc(-c2sc(-c3sccc3CCCCCCCCCCCCCCC)cc2CCCCCCCCCCCCCCC)c1 CCCCCCCCCCCCc1nnc(CCCCCCCCCCCCc2nnc(CCCCCCCCCCCCc3nnco3)o2)o1',\n",
       " 'CC(CC(CCC(=O)OCCOC(=O)c1cc([N+](=O)[O-])cc([N+](=O)[O-])c1)C(=O)OCCOC(=O)c1cc([N+](=O)[O-])cc([N+](=O)[O-])c1)C(=O)OCCOC(=O)c1cc([N+](=O)[O-])cc([N+](=O)[O-])c1 CCCCCCCOC(=O)CCCCCCCCC(=O)OCCCCCCCOC(=O)CCCCCCCCC(=O)OCCCCCCCOC(=O)CCCCCCCCC(=O)O',\n",
       " 'CCCCCCOc1ccc(C(=O)N(C(=O)c2ccc(OCCCCCCOc3ccc(C(=O)N(C(=O)c4ccc(OCCCCCCOc5ccc(C(=O)N(C(=O)c6ccc(O)cc6)c6ccccc6)cc5)cc4)c4ccccc4)cc3)cc2)c2ccccc2)cc1 CCCCOC(=O)CCCCS(=O)(=O)CCCCC(=O)OCCCCOC(=O)CCCCS(=O)(=O)CCCCC(=O)OCCCCOC(=O)CCCCS(=O)(=O)CCCCC(=O)O',\n",
       " 'CCCCCc1ccc(CCCCCOC(=O)c2ccc(C(=O)OCCCCCc3ccc(CCCCCOC(=O)c4ccc(C(=O)OCCCCCc5ccc(CCCCCOC(=O)c6ccc(C(=O)O)cc6)cc5)cc4)cc3)cc2)cc1 CCCCCCCCCCOC(=O)CC(C)C(=O)OCCCCCCCCCCOC(=O)CC(C)C(=O)OCCCCCCCCCCOC(=O)CC(C)C(=O)O',\n",
       " 'CCCCOc1ccc(C=C2CCC(=Cc3ccc(OCCCCOc4ccc(C=C5CCC(=Cc6ccc(OCCCCOc7ccc(C=C8CCC(=Cc9ccc(O)cc9)C8=O)cc7)cc6)C5=O)cc4)cc3)C2=O)cc1 CCCCCCCCCCOC(=O)CCCCCCC(=O)OCCCCCCCCCCOC(=O)CCCCCCC(=O)OCCCCCCCCCCOC(=O)CCCCCCC(=O)O',\n",
       " 'CCCCCCCCCCCCOC(=O)c1csc(-c2ccc(-c3sc(-c4ccc(-c5sc(-c6cccs6)cc5C(=O)OCCCCCCCCCCCC)s4)cc3C(=O)OCCCCCCCCCCCC)s2)c1 CCCCCCCCCCOC(=O)CCC(=O)OCCCCCCCCCCOC(=O)CCC(=O)OCCCCCCCCCCOC(=O)CCC(=O)O',\n",
       " 'CCCCCCOc1ccc(C(=O)N(C(=O)c2ccc(OCCCCCCOc3ccc(C(=O)N(C(=O)c4ccc(OCCCCCCOc5ccc(C(=O)N(C(=O)c6ccc(O)cc6)c6ccccc6)cc5)cc4)c4ccccc4)cc3)cc2)c2ccccc2)cc1 CCCOC(=O)CCC(=O)OCCCOC(=O)CCC(=O)OCCCOC(=O)CCC(=O)O',\n",
       " 'CCOC(=O)c1ccc2ccc(C(=O)OCCOC(=O)c3ccc4ccc(C(=O)OCCOC(=O)c5ccc6ccc(C(=O)O)cc6c5)cc4c3)cc2c1 CCCCCCOC(=O)CCCCCNC(=O)OCCCCCCOC(=O)CCCCCNC(=O)OCCCCCCOC(=O)CCCCCNC(=O)O',\n",
       " 'C#Cc1cc(OCCCCCCCC)c(C#Cc2ccc(C#Cc3cc(OCCCCCCCC)c(C#Cc4ccc(C#Cc5cc(OCCCCCCCC)c(C#Cc6cccs6)cc5OCCCCCCCC)s4)cc3OCCCCCCCC)s2)cc1OCCCCCCCC CCCCCCOCCCCCCOCCCCCCO',\n",
       " 'CCCCOC(=O)CC(=CC(=O)OCCCCOC(=O)CC(=CC(=O)OCCCCOC(=O)CC(=CC(=O)O)c1ccc(OCC)cc1)c1ccc(OCC)cc1)c1ccc(OCC)cc1 CCCCOC(=O)NCC(F)(F)C(F)(F)C(F)(F)C(F)(F)CNC(=O)OCCCCOC(=O)NCC(F)(F)C(F)(F)C(F)(F)C(F)(F)CNC(=O)OCCCCOC(=O)NCC(F)(F)C(F)(F)C(F)(F)C(F)(F)CNC(=O)O',\n",
       " 'CCC(C)CCc1cc(OC(=O)c2ccc(C(=O)Oc3ccc(OC(=O)c4ccc(C(=O)Oc5ccc(OC(=O)c6ccc(C=O)cc6)cc5CCC(C)CC)cc4)cc3CCC(C)CC)cc2)ccc1O CCC(C)CC(=O)OCCC(C)CC(=O)OCCC(C)CC(=O)O',\n",
       " 'Nc1ccc(-c2ccc(NC(=O)CCCCCCCCC(=O)Nc3ccc(-c4ccc(NC(=O)CCCCCCCCC(=O)Nc5ccc(-c6ccc(NC(=O)CCCCCCCCC=O)c(O)c6)cc5O)c(O)c4)cc3O)c(O)c2)cc1O O=CCCCCC(=O)OC(=O)CCCCC(=O)OC(=O)CCCCC(=O)O',\n",
       " 'CCCCCCCCCCOc1cccc(OC(=O)c2ccc(C(=O)Oc3cccc(OCCCCCCCCCCOc4cccc(OC(=O)c5ccc(C(=O)Oc6cccc(OCCCCCCCCCCOc7cccc(OC(=O)c8ccc(C(=O)Oc9cccc(O)c9)cc8)c7)c6)cc5)c4)c3)cc2)c1 CCCCOC(=O)NC1CC1NC(=O)OCCCCOC(=O)NC1CC1NC(=O)OCCCCOC(=O)NC1CC1NC(=O)O',\n",
       " 'CCCCCCCCCCOc1ccc(OCCCCCCCCCC)c(-c2ccc(-c3cc(OCCCCCCCCCC)c(-c4ccc(-c5cc(OCCCCCCCCCC)c(-c6ccccc6)cc5OCCCCCCCCCC)cc4)cc3OCCCCCCCCCC)cc2)c1 CCCCCOC(=O)CCCCCOC(=O)CCCCCOC(=O)CCCCCOC(=O)CCCCCOC(=O)CCCCCOC=O',\n",
       " 'CCCCCCOc1cc(-c2ccc(Oc3ccc(-c4nnc(-c5ccc(Oc6ccc(-c7cc(OCCCCCC)c(-c8ccc(Oc9ccc(-c%10nnc(-c%11ccc(Oc%12ccc(-c%13cc(OCCCCCC)c(-c%14ccc(Oc%15ccc(-c%16nnco%16)cc%15)cc%14)cc%13OCCCCCC)cc%12)cc%11)o%10)cc9)cc8)cc7OCCCCCC)cc6)cc5)o4)cc3)cc2)c(OCCCCCC)cc1-c1ccc(Oc2ccccc2)cc1 CCCCCCCCCCCCCCCCCCOCOCCCCCCCCCCCCCCCCCCOCOCCCCCCCCCCCCCCCCCCOCO',\n",
       " 'CCCCCCOc1csc(-c2sc(-c3scc(C)c3OCCCCCC)c(C)c2OCCCCCC)c1C CCCCCCOCOCCCCCCOCOCCCCCCOCO',\n",
       " 'CCCCOC(=O)CC(=CC(=O)OCCCCOC(=O)CC(=CC(=O)OCCCCOC(=O)CC(=CC(=O)O)c1ccc(OCC)cc1)c1ccc(OCC)cc1)c1ccc(OCC)cc1 CCCCCCCCCCCCOC(=O)NCCCCCCNC(=O)OCCCCCCCCCCCCOC(=O)NCCCCCCNC(=O)OCCCCCCCCCCCCOC(=O)NCCCCCCNC(=O)O',\n",
       " 'CCOC(=O)c1ccc2ccc(C(=O)OCCOC(=O)c3ccc4ccc(C(=O)OCCOC(=O)c5ccc6ccc(C(=O)O)cc6c5)cc4c3)cc2c1 CCOCCOC(=O)CC(=O)OCCOCCOC(=O)CC(=O)OCCOCCOC(=O)CC(=O)O',\n",
       " 'CCCCCCOc1csc(-c2sc(-c3scc(C)c3OCCCCCC)c(C)c2OCCCCCC)c1C CCCCOCOCCCCCOCOCCCCCOCOC',\n",
       " 'CC(=S)C(=O)OCC(=S)C(=O)OCC(=S)C(=O)O CCCCOC(=O)CC(=O)OCCCCOC(=O)CC(=O)OCCCCOC(=O)CC(=O)O',\n",
       " 'CCCCCCCCCCCCOc1cc(C(=O)Oc2ccc(OC(=O)c3cc(OCCCCCCCCCCCC)c(C(=O)Oc4ccc(OC(=O)c5cc(OCCCCCCCCCCCC)c(C(=O)Oc6ccc(O)cc6)cc5OCCCCCCCCCCCC)cc4)cc3OCCCCCCCCCCCC)cc2)c(OCCCCCCCCCCCC)cc1C=O CCCCC(=O)OCCCCC(=O)OCCCCC(=O)O',\n",
       " 'OC(=S)C(F)(F)C(F)(F)OC(=S)C(F)(F)C(F)(F)OC(=S)C(F)(F)C(F)F OC(F)(F)C(F)(F)OC(F)(F)C(F)(F)OC(F)(F)C(F)F',\n",
       " 'CCCCCCCCCCCCOc1ccc(C=NN=Cc2ccc(OCCCCCCCCCCCCOc3ccc(C=NN=Cc4ccc(OCCCCCCCCCCCCOc5ccc(C=NN=Cc6ccc(O)cc6O)c(O)c5)cc4O)c(O)c3)cc2O)c(O)c1 CCCCOC(=O)NCC(F)(F)C(F)(F)C(F)(F)C(F)(F)CNC(=O)OCCCCOC(=O)NCC(F)(F)C(F)(F)C(F)(F)C(F)(F)CNC(=O)OCCCCOC(=O)NCC(F)(F)C(F)(F)C(F)(F)C(F)(F)CNC(=O)O',\n",
       " 'CCOC(=O)c1ccc2ccc(C(=O)OCCOC(=O)c3ccc4ccc(C(=O)OCCOC(=O)c5ccc6ccc(C(=O)O)cc6c5)cc4c3)cc2c1 CCCCCCCCCCOC(=O)CCCCS(=O)(=O)CCCCC(=O)OCCCCCCCCCCOC(=O)CCCCS(=O)(=O)CCCCC(=O)OCCCCCCCCCCOC(=O)CCCCS(=O)(=O)CCCCC(=O)O',\n",
       " 'CCCCCCCCCCOc1cccc(OC(=O)c2ccc(C(=O)Oc3cccc(OCCCCCCCCCCOc4cccc(OC(=O)c5ccc(C(=O)Oc6cccc(OCCCCCCCCCCOc7cccc(OC(=O)c8ccc(C(=O)Oc9cccc(O)c9)cc8)c7)c6)cc5)c4)c3)cc2)c1 CCCCCCCCCCOC(=O)CCCCS(=O)(=O)CCCCC(=O)OCCCCCCCCCCOC(=O)CCCCS(=O)(=O)CCCCC(=O)OCCCCCCCCCCOC(=O)CCCCS(=O)(=O)CCCCC(=O)O',\n",
       " 'CCCCCc1ccc(CCCCCOC(=O)c2ccc(C(=O)OCCCCCc3ccc(CCCCCOC(=O)c4ccc(C(=O)OCCCCCc5ccc(CCCCCOC(=O)c6ccc(C(=O)O)cc6)cc5)cc4)cc3)cc2)cc1 CCCCCCCCOC(=O)CCCCCCC(=O)OCCCCCCCCOC(=O)CCCCCCC(=O)OCCCCCCCCOC(=O)CCCCCCC(=O)O',\n",
       " 'CCCCCCCCNc1ccc(C(=O)N(CCCCCCCC)c2ccc(C(=O)N(CCCCCCCC)c3ccc(C=O)cc3)cc2)cc1 CCCCCOC(=O)CCCCCOC(=O)CCCCCOC(=O)CCCCCOC(=O)CCCCCOC(=O)CCCCCOC=O',\n",
       " 'CC(CC(CCC(=O)OCCCOc1ccc(-c2ccc(C#N)cc2)cc1)C(=O)OCCCOc1ccc(-c2ccc(C#N)cc2)cc1)C(=O)OCCCOc1ccc(-c2ccc(C#N)cc2)cc1 CCOC(=O)CCC(=O)OCCOC(=O)CCC(=O)OCCOC(=O)CCC(=O)O',\n",
       " 'CCCCCCOc1cc(-c2ccc(Oc3ccc(-c4nnc(-c5ccc(Oc6ccc(-c7cc(OCCCCCC)c(-c8ccc(Oc9ccc(-c%10nnc(-c%11ccc(Oc%12ccc(-c%13cc(OCCCCCC)c(-c%14ccc(Oc%15ccc(-c%16nnco%16)cc%15)cc%14)cc%13OCCCCCC)cc%12)cc%11)o%10)cc9)cc8)cc7OCCCCCC)cc6)cc5)o4)cc3)cc2)c(OCCCCCC)cc1-c1ccc(Oc2ccccc2)cc1 CCCCCCOCCCCCCOCCCCCCO',\n",
       " 'CCOC(=O)c1ccc2ccc(C(=O)OCCOC(=O)c3ccc4ccc(C(=O)OCCOC(=O)c5ccc6ccc(C(=O)O)cc6c5)cc4c3)cc2c1 CCCCCOC(=O)OCCCCCOC(=O)OCCCCCOC(=O)O',\n",
       " 'CCCCCCOc1ccc(C(=O)N(C(=O)c2ccc(OCCCCCCOc3ccc(C(=O)N(C(=O)c4ccc(OCCCCCCOc5ccc(C(=O)N(C(=O)c6ccc(O)cc6)c6ccccc6)cc5)cc4)c4ccccc4)cc3)cc2)c2ccccc2)cc1 CCCCCCCCCCCCCCCCOC(=O)CCCCCCC(=O)OCCCCCCCCCCCCCCCCOC(=O)CCCCCCC(=O)OCCCCCCCCCCCCCCCCOC(=O)CCCCCCC(=O)O',\n",
       " 'CCCCCCOc1ccc(C(=O)N(C(=O)c2ccc(OCCCCCCOc3ccc(C(=O)N(C(=O)c4ccc(OCCCCCCOc5ccc(C(=O)N(C(=O)c6ccc(O)cc6)c6ccccc6)cc5)cc4)c4ccccc4)cc3)cc2)c2ccccc2)cc1 CCCCOC(=O)NCCCCCCNC(=O)OCCCCOC(=O)NCCCCCCNC(=O)OCCCCOC(=O)NCCCCCCNC(=O)O',\n",
       " 'CCCCCCCCCCCCOc1cc(C(=O)Oc2ccc(OC(=O)c3cc(OCCCCCCCCCCCC)c(C(=O)Oc4ccc(OC(=O)c5cc(OCCCCCCCCCCCC)c(C(=O)Oc6ccc(O)cc6)cc5OCCCCCCCCCCCC)cc4)cc3OCCCCCCCCCCCC)cc2)c(OCCCCCCCCCCCC)cc1C=O CCCCOCOCCCCOCOCCCCOCO',\n",
       " 'CCCCCCOc1csc(-c2sc(-c3scc(C)c3OCCCCCC)c(C)c2OCCCCCC)c1C CCCCCOCOCCCCCOCOCCCCCOCO',\n",
       " 'CCOC(=O)c1ccc2ccc(C(=O)OCCOC(=O)c3ccc4ccc(C(=O)OCCOC(=O)c5ccc6ccc(C(=O)O)cc6c5)cc4c3)cc2c1 CCOCCOC(=O)C(C)C(=O)OCCOCCOC(=O)C(C)C(=O)OCCOCCOC(=O)C(C)C(=O)O',\n",
       " 'CC(=O)C(=S)OCC(=O)C(=S)OCC(=O)C(O)=S CCCOC(=O)CC(=O)OCCCOC(=O)CC(=O)OCCCOC(=O)CC(=O)O',\n",
       " 'O=C(COc1ccccc1)OCCCCCCc1csc(-c2sc(-c3sccc3CCCCCCOC(=O)COc3ccccc3)cc2CCCCCCOC(=O)COc2ccccc2)c1 CCCCCCCCCCC(=O)OCCCCCCCCCCC(=O)OCCCCCCCCCCC(=O)O',\n",
       " 'CCCCCCOc1ccc(C(=O)N(C(=O)c2ccc(OCCCCCCOc3ccc(C(=O)N(C(=O)c4ccc(OCCCCCCOc5ccc(C(=O)N(C(=O)c6ccc(O)cc6)c6ccccc6)cc5)cc4)c4ccccc4)cc3)cc2)c2ccccc2)cc1 CCCCNC(=O)OCCCCNC(=O)OCCCCNC(=O)O',\n",
       " 'CCCCCCCc1cc(OC(=O)c2ccc(C(=O)Oc3ccc(OC(=O)c4ccc(C(=O)Oc5ccc(OC(=O)c6ccc(C=O)cc6)cc5CCCCCCC)cc4)cc3CCCCCCC)cc2)ccc1O CCCCCOC(=O)CCCCCOC(=O)CCCCCOC(=O)CCCCCOC(=O)CCCCCOC(=O)CCCCCOC=O',\n",
       " 'CCCCCc1ccc(CCCCCOC(=O)c2ccc(C(=O)OCCCCCc3ccc(CCCCCOC(=O)c4ccc(C(=O)OCCCCCc5ccc(CCCCCOC(=O)c6ccc(C(=O)O)cc6)cc5)cc4)cc3)cc2)cc1 CCCCCCNC(=O)CCCCCCCCC(=O)NCCCCCCNC(=O)CCCCCCCCC(=O)NCCCCCCNC(=O)CCCCCCCCC(N)=O',\n",
       " 'CCCCCCCc1cc(OC(=O)c2ccc(C(=O)Oc3ccc(OC(=O)c4ccc(C(=O)Oc5ccc(OC(=O)c6ccc(C=O)cc6)cc5CCCCCCC)cc4)cc3CCCCCCC)cc2)ccc1O CCCCCCCCCCOC(=O)CCCCCCC(=O)OCCCCCCCCCCOC(=O)CCCCCCC(=O)OCCCCCCCCCCOC(=O)CCCCCCC(=O)O',\n",
       " 'CCCCCCOc1csc(-c2sc(-c3scc(C)c3OCCCCCC)c(C)c2OCCCCCC)c1C CCCCCCCCCCCCCCCCOC(=O)CCCCC(=O)OCCCCCCCCCCCCCCCCOC(=O)CCCCC(=O)OCCCCCCCCCCCCCCCCOC(=O)CCCCC(=O)O',\n",
       " 'CCCCCC[N+](C)(C)CCCCC[N+](C)(C)CCCCCC[N+](C)(C)CCCCC[N+](C)(C)CCCCCC[N+](C)(C)CCCCC[N+](C)C CCCCCCCCC(CC)CCCCCC(CC)CCCCC',\n",
       " 'CCCCOC(=O)CC(=CC(=O)OCCCCOC(=O)CC(=CC(=O)OCCCCOC(=O)CC(=CC(=O)O)c1ccc(OCC)cc1)c1ccc(OCC)cc1)c1ccc(OCC)cc1 CCCCCCCCCCOC(=O)CCCCCCCCCCCCCCCCC(=O)OCCCCCCCCCCOC(=O)CCCCCCCCCCCCCCCCC(=O)OCCCCCCCCCCOC(=O)CCCCCCCCCCCCCCCCC(=O)O',\n",
       " 'CCCCCCCCOC(=O)Cc1c[nH]c(-c2[nH]c(-c3[nH]ccc3CC(=O)OCCCCCCCC)cc2CC(=O)OCCCCCCCC)c1 CCCCCCOC(=O)CCC(C)CC(=O)OCCCCCCOC(=O)CCC(C)CC(=O)OCCCCCCOC(=O)CCC(C)CC(=O)O',\n",
       " 'CCCCCCCCCCOc1cccc(OC(=O)c2ccc(C(=O)Oc3cccc(OCCCCCCCCCCOc4cccc(OC(=O)c5ccc(C(=O)Oc6cccc(OCCCCCCCCCCOc7cccc(OC(=O)c8ccc(C(=O)Oc9cccc(O)c9)cc8)c7)c6)cc5)c4)c3)cc2)c1 CCOC(=O)CCCCCC(=O)OCCOC(=O)CCCCCC(=O)OCCOC(=O)CCCCCC(=O)O',\n",
       " 'CCCCCCOC(=O)C(CCCCCCOc1ccc(-c2ccc(OCc3ccc([N+](=O)[O-])cc3)cc2)cc1)C(=O)OCCCCCCOC(=O)C(CCCCCCOc1ccc(-c2ccc(OCc3ccc([N+](=O)[O-])cc3)cc2)cc1)C(=O)OCCCCCCOC(=O)C(CCCCCCOc1ccc(-c2ccc(OCc3ccc([N+](=O)[O-])cc3)cc2)cc1)C(=O)O CCCCCCCCOCCCCCCCCOCCCCCCCCO',\n",
       " 'CCCCOC(=O)CC(=CC(=O)OCCCCOC(=O)CC(=CC(=O)OCCCCOC(=O)CC(=CC(=O)O)c1ccc(OCC)cc1)c1ccc(OCC)cc1)c1ccc(OCC)cc1 CCCCCC(O)CC(=O)OC(CCCCC)CC(=O)OC(CC=O)CCCCC',\n",
       " 'CCCCCCCCCCCCOc1ccc(C=NN=Cc2ccc(OCCCCCCCCCCCCOc3ccc(C=NN=Cc4ccc(OCCCCCCCCCCCCOc5ccc(C=NN=Cc6ccc(O)cc6O)c(O)c5)cc4O)c(O)c3)cc2O)c(O)c1 CCCCC(=O)OCCCCC(=O)OCCCCC(=O)O',\n",
       " 'CCCCOC(=O)CC(=CC(=O)OCCCCOC(=O)CC(=CC(=O)OCCCCOC(=O)CC(=CC(=O)O)c1ccc(OCC)cc1)c1ccc(OCC)cc1)c1ccc(OCC)cc1 CCCCOC(=O)CCC(C)CC(=O)OCCCCOC(=O)CCC(C)CC(=O)OCCCCOC(=O)CCC(C)CC(=O)O',\n",
       " 'CC(CC(CCC(=O)OCCOC(=O)c1cc([N+](=O)[O-])cc([N+](=O)[O-])c1)C(=O)OCCOC(=O)c1cc([N+](=O)[O-])cc([N+](=O)[O-])c1)C(=O)OCCOC(=O)c1cc([N+](=O)[O-])cc([N+](=O)[O-])c1 CCCOC(=O)CCCC(=O)OCCCOC(=O)CCCC(=O)OCCCOC(=O)CCCC(=O)O',\n",
       " 'CCCCCCCCCCCCOc1ccc(C=NN=Cc2ccc(OCCCCCCCCCCCCOc3ccc(C=NN=Cc4ccc(OCCCCCCCCCCCCOc5ccc(C=NN=Cc6ccc(O)cc6O)c(O)c5)cc4O)c(O)c3)cc2O)c(O)c1 CCCCCCCCCCOC(=O)CC(C)(C)CC(=O)OCCCCCCCCCCOC(=O)CC(C)(C)CC(=O)OCCCCCCCCCCOC(=O)CC(C)(C)CC(=O)O',\n",
       " 'CCCCCCOc1ccc(C(=O)N(C(=O)c2ccc(OCCCCCCOc3ccc(C(=O)N(C(=O)c4ccc(OCCCCCCOc5ccc(C(=O)N(C(=O)c6ccc(O)cc6)c6ccccc6)cc5)cc4)c4ccccc4)cc3)cc2)c2ccccc2)cc1 CCCCCCCCCCOC(=O)CCCCCCCCC(=O)OCCCCCCCCCCOC(=O)CCCCCCCCC(=O)OCCCCCCCCCCOC(=O)CCCCCCCCC(=O)O',\n",
       " 'CCCCOC(=O)CC(=CC(=O)OCCCCOC(=O)CC(=CC(=O)OCCCCOC(=O)CC(=CC(=O)O)c1ccc(OCC)cc1)c1ccc(OCC)cc1)c1ccc(OCC)cc1 CCCCCCOC(=O)C1CCC(C(=O)OCCCCCCOC(=O)C2CCC(C(=O)OCCCCCCOC(=O)C3CCC(C(=O)O)CC3)CC2)CC1',\n",
       " 'CC(CC(CCC(=O)OCCCOc1ccc(-c2ccc(C#N)cc2)cc1)C(=O)OCCCOc1ccc(-c2ccc(C#N)cc2)cc1)C(=O)OCCCOc1ccc(-c2ccc(C#N)cc2)cc1 CCCOC(=O)CCC(C)CC(=O)OCCCOC(=O)CCC(C)CC(=O)OCCCOC(=O)CCC(C)CC(=O)O',\n",
       " 'CC(=O)OC(=S)CC(=O)OC(=S)CC(=O)OC=S CC(=O)NCC(=O)OCC(=O)NCC(=O)OCC(=O)NCC(=O)O',\n",
       " 'CCCCCCCCOC(=O)Cc1c[nH]c(-c2[nH]c(-c3[nH]ccc3CC(=O)OCCCCCCCC)cc2CC(=O)OCCCCCCCC)c1 CCCOC(=O)CCCCCCCCC(=O)OCCCOC(=O)CCCCCCCCC(=O)OCCCOC(=O)CCCCCCCCC(=O)O',\n",
       " 'CCCCCCCCCCCCOc1cc(C(=O)Oc2ccc(OC(=O)c3cc(OCCCCCCCCCCCC)c(C(=O)Oc4ccc(OC(=O)c5cc(OCCCCCCCCCCCC)c(C(=O)Oc6ccc(O)cc6)cc5OCCCCCCCCCCCC)cc4)cc3OCCCCCCCCCCCC)cc2)c(OCCCCCCCCCCCC)cc1C=O CCCCCCCCCCOC(=O)CCC(=O)OCCCCCCCCCCOC(=O)CCC(=O)OCCCCCCCCCCOC(=O)CCC(=O)O',\n",
       " 'CCCCCCCCOc1cc(C#Cc2ccc(-c3nnc(-c4ccc(C#Cc5cc(OCCCCCCCC)c(C#Cc6ccc(-c7nnc(-c8ccc(C#Cc9cc(OCCCCCCCC)c(C#Cc%10ccc(-c%11nnco%11)cc%10)cc9OCCCCCCCC)cc8)o7)cc6)cc5OCCCCCCCC)cc4)o3)cc2)c(OCCCCCCCC)cc1C#Cc1ccccc1 CCCCCCOC(=O)CCCCCCCC(=O)OCCCCCCOC(=O)CCCCCCCC(=O)OCCCCCCOC(=O)CCCCCCCC(=O)O',\n",
       " 'CCOC(=O)c1ccc2ccc(C(=O)OCCOC(=O)c3ccc4ccc(C(=O)OCCOC(=O)c5ccc6ccc(C(=O)O)cc6c5)cc4c3)cc2c1 CCCC(C(=O)O)C(=O)OCCOCCOC(=O)C(CCC)C(=O)OCCOCCOC(=O)C(CCC)C(=O)OCCOCC',\n",
       " 'CCCCOc1ccc(C=C2CCC(=Cc3ccc(OCCCCOc4ccc(C=C5CCC(=Cc6ccc(OCCCCOc7ccc(C=C8CCC(=Cc9ccc(O)cc9)C8=O)cc7)cc6)C5=O)cc4)cc3)C2=O)cc1 CCCCCCCC(=O)OCCCCCCCC(=O)OCCCCCCCC(=O)O',\n",
       " 'CCCCCCOc1ccc(C(=O)N(C(=O)c2ccc(OCCCCCCOc3ccc(C(=O)N(C(=O)c4ccc(OCCCCCCOc5ccc(C(=O)N(C(=O)c6ccc(O)cc6)c6ccccc6)cc5)cc4)c4ccccc4)cc3)cc2)c2ccccc2)cc1 CCCCCCCCCOCOCCCCCCCCCOCOCCCCCCCCCOCO',\n",
       " 'CCCCCc1ccc(CCCCCOC(=O)c2ccc(C(=O)OCCCCCc3ccc(CCCCCOC(=O)c4ccc(C(=O)OCCCCCc5ccc(CCCCCOC(=O)c6ccc(C(=O)O)cc6)cc5)cc4)cc3)cc2)cc1 CCCCCCCCCCCCc1nnc(CCCCCCCCCCCCc2nnc(CCCCCCCCCCCCc3nnco3)o2)o1',\n",
       " 'CCOC(=O)C(C)OC(=O)CCn1cccc1-c1ccc(-c2cccn2CCC(=O)OC(C)C(=O)OCC)n1CCC(=O)OC(C)C(=O)OCC CCOC(=O)CCC(CC(C)C(=O)OCC)C(=O)OCC',\n",
       " 'CCCCOC(=O)CC(=CC(=O)OCCCCOC(=O)CC(=CC(=O)OCCCCOC(=O)CC(=CC(=O)O)c1ccc(OCC)cc1)c1ccc(OCC)cc1)c1ccc(OCC)cc1 CCCCCCCCCCOC(=O)CCCCCCCCC(=O)OCCCCCCCCCCOC(=O)CCCCCCCCC(=O)OCCCCCCCCCCOC(=O)CCCCCCCCC(=O)O',\n",
       " 'CCCCCCOc1ccc(C(=O)N(C(=O)c2ccc(OCCCCCCOc3ccc(C(=O)N(C(=O)c4ccc(OCCCCCCOc5ccc(C(=O)N(C(=O)c6ccc(O)cc6)c6ccccc6)cc5)cc4)c4ccccc4)cc3)cc2)c2ccccc2)cc1 CCCCCCCCCCOC(=O)CC(C)C(=O)OCCCCCCCCCCOC(=O)CC(C)C(=O)OCCCCCCCCCCOC(=O)CC(C)C(=O)O',\n",
       " 'CCCCCCCCC1(CCCCCCCC)c2ccsc2-c2sc(-c3cc4c(s3)-c3sc(-c5cc6c(s5)-c5sccc5C6(CCCCCCCC)CCCCCCCC)cc3C4(CCCCCCCC)CCCCCCCC)cc21 CCCCCCCCCCCC',\n",
       " 'CCCCCc1ccc(CCCCCOC(=O)c2ccc(C(=O)OCCCCCc3ccc(CCCCCOC(=O)c4ccc(C(=O)OCCCCCc5ccc(CCCCCOC(=O)c6ccc(C(=O)O)cc6)cc5)cc4)cc3)cc2)cc1 CCCOC(=O)CCC(C)CC(=O)OCCCOC(=O)CCC(C)CC(=O)OCCCOC(=O)CCC(C)CC(=O)O',\n",
       " 'CCCCCCCCOc1cc(N2C(=O)c3ccccc3C2=O)cc(N2C(=O)c3ccc(C(=O)c4ccc5c(c4)C(=O)N(c4cc(OCCCCCCCC)cc(N6C(=O)c7ccc(C(=O)c8ccc9c(c8)C(=O)N(c8cc(OCCCCCCCC)cc(N%10C(=O)c%11ccc(C=O)cc%11C%10=O)c8)C9=O)cc7C6=O)c4)C5=O)cc3C2=O)c1 CCCCCCCCCCCC(=O)OCCCCCCCCCCCC(=O)OCCCCCCCCCCCC(=O)O',\n",
       " 'CCCCCCOc1ccc(C(=O)N(C(=O)c2ccc(OCCCCCCOc3ccc(C(=O)N(C(=O)c4ccc(OCCCCCCOc5ccc(C(=O)N(C(=O)c6ccc(O)cc6)c6ccccc6)cc5)cc4)c4ccccc4)cc3)cc2)c2ccccc2)cc1 CCOCCOC(=O)CCCCCCCCC(=O)OCCOCCOC(=O)CCCCCCCCC(=O)OCCOCCOC(=O)CCCCCCCCC(=O)O',\n",
       " 'CCCCCCOC(=O)C(CCCCCCOc1ccc(-c2ccc(OCc3ccc([N+](=O)[O-])cc3)cc2)cc1)C(=O)OCCCCCCOC(=O)C(CCCCCCOc1ccc(-c2ccc(OCc3ccc([N+](=O)[O-])cc3)cc2)cc1)C(=O)OCCCCCCOC(=O)C(CCCCCCOc1ccc(-c2ccc(OCc3ccc([N+](=O)[O-])cc3)cc2)cc1)C(=O)O CCCCCCCCCCOC(=O)CCCCS(=O)(=O)CCCCC(=O)OCCCCCCCCCCOC(=O)CCCCS(=O)(=O)CCCCC(=O)OCCCCCCCCCCOC(=O)CCCCS(=O)(=O)CCCCC(=O)O',\n",
       " 'CCCCCCCCCCCCOc1csc(-c2ccc(-c3ccc(-c4sc(-c5ccc(-c6ccc(-c7sc(-c8ccc(-c9cccs9)s8)cc7OCCCCCCCCCCCC)s6)s5)cc4OCCCCCCCCCCCC)s3)s2)c1 CCCCCCCCCCOC(=O)CCCCCCC(=O)OCCCCCCCCCCOC(=O)CCCCCCC(=O)OCCCCCCCCCCOC(=O)CCCCCCC(=O)O',\n",
       " 'CCCCOC(=O)CC(=CC(=O)OCCCCOC(=O)CC(=CC(=O)OCCCCOC(=O)CC(=CC(=O)O)c1ccc(OCC)cc1)c1ccc(OCC)cc1)c1ccc(OCC)cc1 CCCCCCCCCCC(=O)OCCCCCCCCCCC(=O)OCCCCCCCCCCC(=O)O',\n",
       " 'CCCCCOc1csc(-c2cc(OCCCCC)c(-c3sc(-c4cc(OCCCCC)c(-c5sc(-c6cc(OCCCCC)cs6)cc5OCCCCC)s4)cc3OCCCCC)s2)c1 CCCCCCCCCCCCCC(=O)OCCCCCCCCCCCCCC(=O)OCCCCCCCCCCCCCC(=O)O',\n",
       " 'O=CC(=S)C(=O)OC(=O)C(=S)C(=O)OC(=O)C(=S)C(=O)O O=CCCCCCCCCCC(=O)OC(=O)CCCCCCCCCC(=O)OC(=O)CCCCCCCCCC(=O)O',\n",
       " 'CCCCCCCCOc1cc(C#Cc2ccc(-c3nnc(-c4ccc(C#Cc5cc(OCCCCCCCC)c(C#Cc6ccc(-c7nnc(-c8ccc(C#Cc9cc(OCCCCCCCC)c(C#Cc%10ccc(-c%11nnco%11)cc%10)cc9OCCCCCCCC)cc8)o7)cc6)cc5OCCCCCCCC)cc4)o3)cc2)c(OCCCCCCCC)cc1C#Cc1ccccc1 CCCCCOC(=O)NC1CC1NC(=O)OCCCCCOC(=O)NC1CC1NC(=O)OCCCCCOC(=O)NC1CC1NC(=O)O',\n",
       " 'CC(CC(CCC(=O)OCCOC(=O)c1cc([N+](=O)[O-])cc([N+](=O)[O-])c1)C(=O)OCCOC(=O)c1cc([N+](=O)[O-])cc([N+](=O)[O-])c1)C(=O)OCCOC(=O)c1cc([N+](=O)[O-])cc([N+](=O)[O-])c1 CC(O)CCOC(=O)CCCCCCCCC(=O)OC(C)CCOC(=O)CCCCCCCCC(=O)OC(C)CCOC(=O)CCCCCCCCC=O',\n",
       " 'CC(=O)C(=S)OCC(=O)C(=S)OCC(=O)C(O)=S CCCCOC(=O)CC(=O)OCCCCOC(=O)CC(=O)OCCCCOC(=O)CC(=O)O',\n",
       " 'C=CCOC(=O)c1cc(C(=O)Oc2ccc(OCCCCOc3ccc(OC(=O)c4ccc(C(=O)Oc5ccc(OCCCCOc6ccc(OC(=O)c7ccc(C(=O)Oc8ccc(OCCCC)cc8)cc7C(=O)OCC=C)cc6)cc5)cc4C(=O)OCC=C)cc3)cc2)ccc1C(=O)Oc1ccc(O)cc1 CCCCCCCCCCCCOC(=O)NCCCCCCNC(=O)OCCCCCCCCCCCCOC(=O)NCCCCCCNC(=O)OCCCCCCCCCCCCOC(=O)NCCCCCCNC(=O)O',\n",
       " 'CCCCOC(=O)SSSC(=O)OCCCCOC(=O)SSSC(=O)OCCCCOC(=O)SSSC(=O)O CCCCCCCCCCOC(=O)CC(=O)OCCCCCCCCCCOC(=O)CC(=O)OCCCCCCCCCCOC(=O)CC(=O)O',\n",
       " 'CCCCCCCCCCOc1cccc(OC(=O)c2ccc(C(=O)Oc3cccc(OCCCCCCCCCCOc4cccc(OC(=O)c5ccc(C(=O)Oc6cccc(OCCCCCCCCCCOc7cccc(OC(=O)c8ccc(C(=O)Oc9cccc(O)c9)cc8)c7)c6)cc5)c4)c3)cc2)c1 CCCCCCCCNC(=O)CC(=O)NCCCCCCCCNC(=O)CC(=O)NCCCCCCCCNC(=O)CC(N)=O',\n",
       " 'CC(CC(CCC(=O)OCCCOc1ccc(-c2ccc(C#N)cc2)cc1)C(=O)OCCCOc1ccc(-c2ccc(C#N)cc2)cc1)C(=O)OCCCOc1ccc(-c2ccc(C#N)cc2)cc1 CC(O)CCOC(=O)CCCCCCCCC(=O)OC(C)CCOC(=O)CCCCCCCCC(=O)OC(C)CCOC(=O)CCCCCCCCC=O',\n",
       " 'CC(CC(C)(CC(C)(C)C(=O)Oc1ccccc1[N+](=O)[O-])C(=O)Oc1ccccc1[N+](=O)[O-])C(=O)Oc1ccccc1[N+](=O)[O-] CC(CC(C)(CC(C)(C)C(=O)OCCC#N)C(=O)OCCC#N)C(=O)OCCC#N',\n",
       " 'CCCCOC(=O)CC(=CC(=O)OCCCCOC(=O)CC(=CC(=O)OCCCCOC(=O)CC(=CC(=O)O)c1ccc(OCC)cc1)c1ccc(OCC)cc1)c1ccc(OCC)cc1 CCCNC(=O)OCCCNC(=O)OCCCNC(=O)O',\n",
       " 'CCCCOc1ccc(C=C2CCC(=Cc3ccc(OCCCCOc4ccc(C=C5CCC(=Cc6ccc(OCCCCOc7ccc(C=C8CCC(=Cc9ccc(O)cc9)C8=O)cc7)cc6)C5=O)cc4)cc3)C2=O)cc1 CCCCCCCCCCCCCCCCOC(=O)CCCCCCC(=O)OCCCCCCCCCCCCCCCCOC(=O)CCCCCCC(=O)OCCCCCCCCCCCCCCCCOC(=O)CCCCCCC(=O)O',\n",
       " 'CCCCCCCCCCOc1ccc(OCCCCCCCCCC)c(-c2ccc(-c3cc(OCCCCCCCCCC)c(-c4ccc(-c5cc(OCCCCCCCCCC)c(-c6ccccc6)cc5OCCCCCCCCCC)cc4)cc3OCCCCCCCCCC)cc2)c1 CCCCCOC(=O)CC(=O)OCCCCCOC(=O)CC(=O)OCCCCCOC(=O)CC(=O)O',\n",
       " 'CCCCCCCCOc1cc(N2C(=O)c3ccccc3C2=O)cc(N2C(=O)c3ccc(C(=O)c4ccc5c(c4)C(=O)N(c4cc(OCCCCCCCC)cc(N6C(=O)c7ccc(C(=O)c8ccc9c(c8)C(=O)N(c8cc(OCCCCCCCC)cc(N%10C(=O)c%11ccc(C=O)cc%11C%10=O)c8)C9=O)cc7C6=O)c4)C5=O)cc3C2=O)c1 CCCCCCOC(=O)CCCC(=O)OCCCCCCOC(=O)CCCC(=O)OCCCCCCOC(=O)CCCC(=O)O',\n",
       " 'CCCCCC[N+](C)(C)CCCCC[N+](C)(C)CCCCCC[N+](C)(C)CCCCC[N+](C)(C)CCCCCC[N+](C)(C)CCCCC[N+](C)C CCCCCCOC(=O)CCCCCC(=O)OCCCCCCOC(=O)CCCCCC(=O)OCCCCCCOC(=O)CCCCCC(=O)O',\n",
       " 'C=Cc1cc(OCCCCCC)c(C=Cc2cc(OCCCCCC)c(C=Cc3cc(OCCCCCC)ccc3OC)cc2OC)cc1OC CCCCCCCCOCCCCCCCCOCCCCCCCCO',\n",
       " 'CCCCCCCCOc1ccc(-c2csc(-c3sc(-c4sccc4-c4ccc(OCCCCCCCC)cc4)cc3-c3ccc(OCCCCCCCC)cc3)c2)cc1 CCCCCCCCCCOC(=O)CCC(=O)OCCCCCCCCCCOC(=O)CCC(=O)OCCCCCCCCCCOC(=O)CCC(=O)O',\n",
       " 'CCCCCCCCCCOc1ccc(OCCCCCCCCCC)c(-c2ccc(-c3cc(OCCCCCCCCCC)c(-c4ccc(-c5cc(OCCCCCCCCCC)c(-c6ccccc6)cc5OCCCCCCCCCC)cc4)cc3OCCCCCCCCCC)cc2)c1 CCCCCOC(=O)NCCCCCCNC(=O)OCCCCCOC(=O)NCCCCCCNC(=O)OCCCCCOC(=O)NCCCCCCNC(=O)O',\n",
       " 'CCCCOC(=O)CC(=CC(=O)OCCCCOC(=O)CC(=CC(=O)OCCCCOC(=O)CC(=CC(=O)O)c1ccc(OCC)cc1)c1ccc(OCC)cc1)c1ccc(OCC)cc1 CCCCCCC(=O)OCCCCCCC(=O)OCCCCCCC(=O)O',\n",
       " 'CCCCCCOc1csc(-c2sc(-c3scc(C)c3OCCCCCC)c(C)c2OCCCCCC)c1C CCCCCOC(CCCC)OC(O)CCCC',\n",
       " 'CCOC(=O)c1ccc2ccc(C(=O)OCCOC(=O)c3ccc4ccc(C(=O)OCCOC(=O)c5ccc6ccc(C(=O)O)cc6c5)cc4c3)cc2c1 CCCOC(=O)CCCC(=O)OCCCOC(=O)CCCC(=O)OCCCOC(=O)CCCC(=O)O',\n",
       " 'CCCCCCOc1cc(-c2ccc(Oc3ccc(-c4nnc(-c5ccc(Oc6ccc(-c7cc(OCCCCCC)c(-c8ccc(Oc9ccc(-c%10nnc(-c%11ccc(Oc%12ccc(-c%13cc(OCCCCCC)c(-c%14ccc(Oc%15ccc(-c%16nnco%16)cc%15)cc%14)cc%13OCCCCCC)cc%12)cc%11)o%10)cc9)cc8)cc7OCCCCCC)cc6)cc5)o4)cc3)cc2)c(OCCCCCC)cc1-c1ccc(Oc2ccccc2)cc1 CCCCCCOCOCCCCCCOCOCCCCCCOCO',\n",
       " 'CCCCOC(=O)SSSC(=O)OCCCCOC(=O)SSSC(=O)OCCCCOC(=O)SSSC(=O)O CCCOC(=O)CCCCCCCCCC(=O)OCCCOC(=O)CCCCCCCCCC(=O)OCCCOC(=O)CCCCCCCCCC(=O)O',\n",
       " 'CC(=NN=C(C)c1ccc(OC(=O)CCCCCCCCC(=O)Oc2ccc(C(C)=NN=C(C)c3ccc(OC(=O)CCCCCCCCC(=O)Oc4ccc(C(C)=NN=C(C)c5ccc(OC(=O)CCCCCCCCC=O)cc5)cc4)cc3)cc2)cc1)c1ccc(O)cc1 O=CCCCCCCCCC(=O)OC1CCC(OC(=O)CCCCCCCCC(=O)OC2CCC(OC(=O)CCCCCCCCC(=O)OC3CCC(O)CC3)CC2)CC1',\n",
       " 'CCCCCCCCNc1ccc(C(=O)N(CCCCCCCC)c2ccc(C(=O)N(CCCCCCCC)c3ccc(C=O)cc3)cc2)cc1 CCCCCOC(=O)NC(=O)C1CC1C(=O)NC(=O)OCCCCCOC(=O)NC(=O)C1CC1C(=O)NC(=O)OCCCCCOC(=O)NC(=O)C1CC1C(=O)NC(=O)O',\n",
       " 'CCCCCCOC(=O)C(CCCCCCOc1ccc(-c2ccc(OCc3ccc([N+](=O)[O-])cc3)cc2)cc1)C(=O)OCCCCCCOC(=O)C(CCCCCCOc1ccc(-c2ccc(OCc3ccc([N+](=O)[O-])cc3)cc2)cc1)C(=O)OCCCCCCOC(=O)C(CCCCCCOc1ccc(-c2ccc(OCc3ccc([N+](=O)[O-])cc3)cc2)cc1)C(=O)O CCCCCCOC(=O)CC(=O)OCCCCCCOC(=O)CC(=O)OCCCCCCOC(=O)CC(=O)O',\n",
       " 'CCOC(=O)n1cccc1-c1ccc(-c2cccn2C(=O)OCC)n1C(=O)OCC CCOC(=O)COCC(=O)OCCOC(=O)COCC(=O)OCCOC(=O)COCC(=O)O',\n",
       " 'CCCCCCCCCCCCOc1cc(C(=O)Oc2ccc(OC(=O)c3cc(OCCCCCCCCCCCC)c(C(=O)Oc4ccc(OC(=O)c5cc(OCCCCCCCCCCCC)c(C(=O)Oc6ccc(O)cc6)cc5OCCCCCCCCCCCC)cc4)cc3OCCCCCCCCCCCC)cc2)c(OCCCCCCCCCCCC)cc1C=O CCCCCOC(=O)OCCCCCOC(=O)OCCCCCOC(=O)O',\n",
       " 'CCCCOc1ccc(C=C2CCC(=Cc3ccc(OCCCCOc4ccc(C=C5CCC(=Cc6ccc(OCCCCOc7ccc(C=C8CCC(=Cc9ccc(O)cc9)C8=O)cc7)cc6)C5=O)cc4)cc3)C2=O)cc1 CCCCCCCCCCOC(=O)CCCC(=O)OCCCCCCCCCCOC(=O)CCCC(=O)OCCCCCCCCCCOC(=O)CCCC(=O)O',\n",
       " 'CC(CC(CCC(=O)OCCOC(=O)c1cc([N+](=O)[O-])cc([N+](=O)[O-])c1)C(=O)OCCOC(=O)c1cc([N+](=O)[O-])cc([N+](=O)[O-])c1)C(=O)OCCOC(=O)c1cc([N+](=O)[O-])cc([N+](=O)[O-])c1 CC(O)CCOC(=O)CCCCS(=O)(=O)CCCCC(=O)OC(C)CCOC(=O)CCCCS(=O)(=O)CCCCC(=O)OC(C)CCOC(=O)CCCCS(=O)(=O)CCCCC=O',\n",
       " 'CCCCCCCCOc1cc(N2C(=O)c3ccccc3C2=O)cc(N2C(=O)c3ccc(C(=O)c4ccc5c(c4)C(=O)N(c4cc(OCCCCCCCC)cc(N6C(=O)c7ccc(C(=O)c8ccc9c(c8)C(=O)N(c8cc(OCCCCCCCC)cc(N%10C(=O)c%11ccc(C=O)cc%11C%10=O)c8)C9=O)cc7C6=O)c4)C5=O)cc3C2=O)c1 CCCCCCCCCCCCOCCCCCCCCCCCCOCCCCCCCCCCCCO',\n",
       " 'CCCCCCOC(=O)C(CCCCCCOc1ccc(-c2ccc(OCc3ccc([N+](=O)[O-])cc3)cc2)cc1)C(=O)OCCCCCCOC(=O)C(CCCCCCOc1ccc(-c2ccc(OCc3ccc([N+](=O)[O-])cc3)cc2)cc1)C(=O)OCCCCCCOC(=O)C(CCCCCCOc1ccc(-c2ccc(OCc3ccc([N+](=O)[O-])cc3)cc2)cc1)C(=O)O CCCCCCCCCCCCOC(=O)NCCCCCCNC(=O)OCCCCCCCCCCCCOC(=O)NCCCCCCNC(=O)OCCCCCCCCCCCCOC(=O)NCCCCCCNC(=O)O',\n",
       " 'CCCCCCCCCCCCCCCCOc1csc(-c2sc(-c3scc(C)c3OCCCCCCCCCCCCCCCC)c(C)c2OCCCCCCCCCCCCCCCC)c1C CCCCCCCCCCOC(=O)C(O)C(O)C(=O)OCCCCCCCCCCOC(=O)C(O)C(O)C(=O)OCCCCCCCCCCOC(=O)C(O)C(O)C(=O)O',\n",
       " 'CC(CC(CCC(=O)OCCOC(=O)c1cc([N+](=O)[O-])cc([N+](=O)[O-])c1)C(=O)OCCOC(=O)c1cc([N+](=O)[O-])cc([N+](=O)[O-])c1)C(=O)OCCOC(=O)c1cc([N+](=O)[O-])cc([N+](=O)[O-])c1 CCCCOC(=O)CCC(C)CC(=O)OCCCCOC(=O)CCC(C)CC(=O)OCCCCOC(=O)CCC(C)CC(=O)O',\n",
       " 'CCCCCCCCCCOc1cccc(OC(=O)c2ccc(C(=O)Oc3cccc(OCCCCCCCCCCOc4cccc(OC(=O)c5ccc(C(=O)Oc6cccc(OCCCCCCCCCCOc7cccc(OC(=O)c8ccc(C(=O)Oc9cccc(O)c9)cc8)c7)c6)cc5)c4)c3)cc2)c1 CCCCCCOC(=O)OCCCCCCOC(=O)OCCCCCCOC(=O)O',\n",
       " 'CCCCCCOc1ccc(C(=O)N(C(=O)c2ccc(OCCCCCCOc3ccc(C(=O)N(C(=O)c4ccc(OCCCCCCOc5ccc(C(=O)N(C(=O)c6ccc(O)cc6)c6ccccc6)cc5)cc4)c4ccccc4)cc3)cc2)c2ccccc2)cc1 CCCCOC(=O)NCC(F)(F)C(F)(F)C(F)(F)C(F)(F)CNC(=O)OCCCCOC(=O)NCC(F)(F)C(F)(F)C(F)(F)C(F)(F)CNC(=O)OCCCCOC(=O)NCC(F)(F)C(F)(F)C(F)(F)C(F)(F)CNC(=O)O',\n",
       " 'CCCCOC(=O)CC(=CC(=O)OCCCCOC(=O)CC(=CC(=O)OCCCCOC(=O)CC(=CC(=O)O)c1ccc(OCC)cc1)c1ccc(OCC)cc1)c1ccc(OCC)cc1 CCCOC(=O)CCC(C)CC(=O)OCCCOC(=O)CCC(C)CC(=O)OCCCOC(=O)CCC(C)CC(=O)O',\n",
       " 'CCCCCOCCCCCCOc1cc(C(=O)Oc2ccc(OC(=O)c3cc(OCCCCCCOCCCCC)c(C(=O)Oc4ccc(OC(=O)c5cc(OCCCCCCOCCCCC)c(C(=O)Oc6ccc(O)cc6)cc5OCCCCCCOCCCCC)cc4)cc3OCCCCCCOCCCCC)cc2)c(OCCCCCCOCCCCC)cc1C=O CCCCC(=O)OCCCCC(=O)OCCCCC(=O)O',\n",
       " 'CCCCCCCCCCOc1cccc(OC(=O)c2ccc(C(=O)Oc3cccc(OCCCCCCCCCCOc4cccc(OC(=O)c5ccc(C(=O)Oc6cccc(OCCCCCCCCCCOc7cccc(OC(=O)c8ccc(C(=O)Oc9cccc(O)c9)cc8)c7)c6)cc5)c4)c3)cc2)c1 CCCCCCCCCCCC(=O)OCCCCCCCCCCCC(=O)OCCCCCCCCCCCC(=O)O',\n",
       " 'CCCCOC(=O)SSSC(=O)OCCCCOC(=O)SSSC(=O)OCCCCOC(=O)SSSC(=O)O CCCCCCCCCCOC(=O)C1CCC(C(=O)OCCCCCCCCCCOC(=O)C2CCC(C(=O)OCCCCCCCCCCOC(=O)C3CCC(C(=O)O)CC3)CC2)CC1',\n",
       " 'CCCCCCCCCCCCOc1cc(Nc2ccc(Nc3ccccc3OCCCCCCCCCCCC)cc2OCCCCCCCCCCCC)ccc1N CCCCCCCCCCOC(=O)CCCCCCCCCCCCCCCCC(=O)OCCCCCCCCCCOC(=O)CCCCCCCCCCCCCCCCC(=O)OCCCCCCCCCCOC(=O)CCCCCCCCCCCCCCCCC(=O)O',\n",
       " 'O=C(COc1ccccc1)OCCCCCCc1csc(-c2sc(-c3sccc3CCCCCCOC(=O)COc3ccccc3)cc2CCCCCCOC(=O)COc2ccccc2)c1 CCCCCCOC(=O)CC(=O)OCCCCCCOC(=O)CC(=O)OCCCCCCOC(=O)CC(=O)O',\n",
       " 'CCCCOC(=O)SSSC(=O)OCCCCOC(=O)SSSC(=O)OCCCCOC(=O)SSSC(=O)O CCCC(C)(C)C(=O)OCC(C)(CCC)C(=O)OCC(C)(CCC)C(=O)O',\n",
       " 'CCN(CCOC(=O)Nc1ccc(C)c(NC(=O)OCCN(CCOC(=O)Nc2ccc(C)c(NC(=O)OCCN(CCOC(=O)Nc3ccc(C)c(NC(=O)O)c3)c3ccc(-c4c(NCCCO)c(=O)c4=O)cc3)c2)c2ccc(-c3c(NCCCO)c(=O)c3=O)cc2)c1)c1ccc(-c2c(NCCCO)c(=O)c2=O)cc1 CCCCCCCCCCCCOC(=O)NCCCCCCNC(=O)OCCCCCCCCCCCCOC(=O)NCCCCCCNC(=O)OCCCCCCCCCCCCOC(=O)NCCCCCCNC(=O)O',\n",
       " 'CCCCOc1ccc(C=C2CCC(=Cc3ccc(OCCCCOc4ccc(C=C5CCC(=Cc6ccc(OCCCCOc7ccc(C=C8CCC(=Cc9ccc(O)cc9)C8=O)cc7)cc6)C5=O)cc4)cc3)C2=O)cc1 CCCCCCCCCCCC(=O)OCCCCCCCCCCCC(=O)OCCCCCCCCCCCC(=O)O',\n",
       " 'CCCCOC(=O)SSSC(=O)OCCCCOC(=O)SSSC(=O)OCCCCOC(=O)SSSC(=O)O CCCCCCCOC(=O)CCCCCCCCC(=O)OCCCCCCCOC(=O)CCCCCCCCC(=O)OCCCCCCCOC(=O)CCCCCCCCC(=O)O',\n",
       " 'CCCCCCCCCCCCOc1cc(C(=O)Oc2ccc(OC(=O)c3cc(OCCCCCCCCCCCC)c(C(=O)Oc4ccc(OC(=O)c5cc(OCCCCCCCCCCCC)c(C(=O)Oc6ccc(O)cc6)cc5OCCCCCCCCCCCC)cc4)cc3OCCCCCCCCCCCC)cc2)c(OCCCCCCCCCCCC)cc1C=O CCCCCCCCOC(=O)CC=CCC(=O)OCCCCCCCCOC(=O)CC=CCC(=O)OCCCCCCCCOC(=O)CC=CCC(=O)O',\n",
       " 'CCCCOC(=O)CC(=CC(=O)OCCCCOC(=O)CC(=CC(=O)OCCCCOC(=O)CC(=CC(=O)O)c1ccc(OCC)cc1)c1ccc(OCC)cc1)c1ccc(OCC)cc1 CCOC(=O)NCCCCCCNC(=O)OCCOC(=O)NCCCCCCNC(=O)OCCOC(=O)NCCCCCCNC(=O)O',\n",
       " 'CCOC(=O)c1ccc2ccc(C(=O)OCCOC(=O)c3ccc4ccc(C(=O)OCCOC(=O)c5ccc6ccc(C(=O)O)cc6c5)cc4c3)cc2c1 CCOCCOCCOC(=O)CCCCCCCC(=O)OCCOCCOCCOC(=O)CCCCCCCC(=O)OCCOCCOCCOC(=O)CCCCCCCC(=O)O',\n",
       " 'CC(=S)C(=O)OCC(=S)C(=O)OCC(=S)C(=O)O CC(=O)OC(C)C(COC(=O)OCC(OC(C)=O)C(COC(=O)OCC(OC(C)=O)C(COC(=O)O)OC(C)=O)OC(C)=O)OC(C)=O',\n",
       " 'CCOC(=O)c1ccc2ccc(C(=O)OCCOC(=O)c3ccc4ccc(C(=O)OCCOC(=O)c5ccc6ccc(C(=O)O)cc6c5)cc4c3)cc2c1 CCCCOC(=O)CCCCC(=O)OCCCCOC(=O)CCCCC(=O)OCCCCOC(=O)CCCCC(=O)O',\n",
       " 'O=CNCCNC(=O)c1ccc(N2C(=O)c3ccc(C(=O)NCCNC(=O)c4ccc(N5C(=O)c6ccc(C(=O)NCCNC(=O)c7ccc(N8C(=O)c9ccccc9C8=O)cc7)cc6C5=O)cc4)cc3C2=O)cc1 O=CNCCNC(=O)OC1CCC(OC(=O)NCCNC(=O)OC2CCC(OC(=O)NCCNC(=O)OC3CCC(O)CC3)CC2)CC1',\n",
       " 'CCCCCCOC(=O)C(CCCCCCOc1ccc(-c2ccc(OCc3ccc([N+](=O)[O-])cc3)cc2)cc1)C(=O)OCCCCCCOC(=O)C(CCCCCCOc1ccc(-c2ccc(OCc3ccc([N+](=O)[O-])cc3)cc2)cc1)C(=O)OCCCCCCOC(=O)C(CCCCCCOc1ccc(-c2ccc(OCc3ccc([N+](=O)[O-])cc3)cc2)cc1)C(=O)O CCCOC(=O)CCCCCCCCCC(=O)OCCCOC(=O)CCCCCCCCCC(=O)OCCCOC(=O)CCCCCCCCCC(=O)O',\n",
       " 'CCCCCC[N+](C)(C)CCCCCC[N+](C)(C)CCCCCC[N+](C)C CCCCOCOCCCCCOCOCCCCCOCOC',\n",
       " 'CCCCCOc1csc(-c2cc(OCCCCC)c(-c3sc(-c4cc(OCCCCC)c(-c5sc(-c6cc(OCCCCC)cs6)cc5OCCCCC)s4)cc3OCCCCC)s2)c1 CCCCCOC(=O)CC(=O)OCCCCCOC(=O)CC(=O)OCCCCCOC(=O)CC(=O)O',\n",
       " 'CCCCCOCCCCCCOc1cc(C(=O)Oc2ccc(OC(=O)c3cc(OCCCCCCOCCCCC)c(C(=O)Oc4ccc(OC(=O)c5cc(OCCCCCCOCCCCC)c(C(=O)Oc6ccc(O)cc6)cc5OCCCCCCOCCCCC)cc4)cc3OCCCCCCOCCCCC)cc2)c(OCCCCCCOCCCCC)cc1C=O CCCCOC(=O)OCCCCOC(=O)OCCCCOC(=O)O',\n",
       " 'CCCCCCCCCCOc1ccc(OCCCCCCCCCC)c(-c2ccc(-c3cc(OCCCCCCCCCC)c(-c4ccc(-c5cc(OCCCCCCCCCC)c(-c6ccccc6)cc5OCCCCCCCCCC)cc4)cc3OCCCCCCCCCC)cc2)c1 CCCCCCOC(=O)CCCCCCCC(=O)OCCCCCCOC(=O)CCCCCCCC(=O)OCCCCCCOC(=O)CCCCCCCC(=O)O',\n",
       " 'CCCCCCCCCCCCOC(=O)c1csc(-c2ccc(-c3sc(-c4ccc(-c5sc(-c6cccs6)cc5C(=O)OCCCCCCCCCCCC)s4)cc3C(=O)OCCCCCCCCCCCC)s2)c1 CCCCCCCOC(=O)NCCCCCCNC(=O)OCCCCCCCOC(=O)NCCCCCCNC(=O)OCCCCCCCOC(=O)NCCCCCCNC(=O)O',\n",
       " 'CCCCCCCCCCCCOc1csc(-c2ccc(-c3ccc(-c4sc(-c5ccc(-c6ccc(-c7sc(-c8ccc(-c9cccs9)s8)cc7OCCCCCCCCCCCC)s6)s5)cc4OCCCCCCCCCCCC)s3)s2)c1 CCCCCCCCCCOC(=O)CC(=O)OCCCCCCCCCCOC(=O)CC(=O)OCCCCCCCCCCOC(=O)CC(=O)O',\n",
       " 'C=CCOC(=O)c1cc(C(=O)Oc2ccc(OCCCCOc3ccc(OC(=O)c4ccc(C(=O)Oc5ccc(OCCCCOc6ccc(OC(=O)c7ccc(C(=O)Oc8ccc(OCCCC)cc8)cc7C(=O)OCC=C)cc6)cc5)cc4C(=O)OCC=C)cc3)cc2)ccc1C(=O)Oc1ccc(O)cc1 CCCCCCCCCCOC(=O)CCC(=O)OCCCCCCCCCCOC(=O)CCC(=O)OCCCCCCCCCCOC(=O)CCC(=O)O',\n",
       " 'CC(CC(CCC(=O)OCCCOc1ccc(-c2ccc(C#N)cc2)cc1)C(=O)OCCCOc1ccc(-c2ccc(C#N)cc2)cc1)C(=O)OCCCOc1ccc(-c2ccc(C#N)cc2)cc1 CCOC(=O)CCCCCC(=O)OCCOC(=O)CCCCCC(=O)OCCOC(=O)CCCCCC(=O)O',\n",
       " 'C=CCOC(=O)c1cc(C(=O)Oc2ccc(OCCCCOc3ccc(OC(=O)c4ccc(C(=O)Oc5ccc(OCCCCOc6ccc(OC(=O)c7ccc(C(=O)Oc8ccc(OCCCC)cc8)cc7C(=O)OCC=C)cc6)cc5)cc4C(=O)OCC=C)cc3)cc2)ccc1C(=O)Oc1ccc(O)cc1 CCCCCCCCCCOC(=O)CC(C)(C)CC(=O)OCCCCCCCCCCOC(=O)CC(C)(C)CC(=O)OCCCCCCCCCCOC(=O)CC(C)(C)CC(=O)O',\n",
       " 'C=CCOC(=O)c1cc(C(=O)Oc2ccc(OCCCCOc3ccc(OC(=O)c4ccc(C(=O)Oc5ccc(OCCCCOc6ccc(OC(=O)c7ccc(C(=O)Oc8ccc(OCCCC)cc8)cc7C(=O)OCC=C)cc6)cc5)cc4C(=O)OCC=C)cc3)cc2)ccc1C(=O)Oc1ccc(O)cc1 CCCCOC(=O)CC(=O)OCCCCOC(=O)CC(=O)OCCCCOC(=O)CC(=O)O',\n",
       " 'CCN(CCOC(=O)Nc1ccc(C)c(NC(=O)OCCN(CCOC(=O)Nc2ccc(C)c(NC(=O)OCCN(CCOC(=O)Nc3ccc(C)c(NC(=O)O)c3)c3ccc(-c4c(NCCCO)c(=O)c4=O)cc3)c2)c2ccc(-c3c(NCCCO)c(=O)c3=O)cc2)c1)c1ccc(-c2c(NCCCO)c(=O)c2=O)cc1 CCCNC(=O)OCCCNC(=O)OCCCNC(=O)O',\n",
       " 'CC(CNc1ccc([N+](=O)[O-])cn1)CC(CCCNc1ccc([N+](=O)[O-])cn1)CNc1ccc([N+](=O)[O-])cn1 CCCCC(CC)CC(C)CC',\n",
       " 'CCN(CCCC(=O)Nc1ccc(N=Nc2ccccc2)cc1)CCOC(=O)NCC1CCCC(CNC(=O)OCCN(CCCC(=O)Nc2ccc(N=Nc3ccccc3)cc2)CCOC(=O)NCC2CCCC(CNC(=O)OCCN(CCCC(=O)Nc3ccc(N=Nc4ccccc4)cc3)CCOC(=O)NCC3CCCC(CNC(=O)O)C3)C2)C1 CCOC(=O)NCCNC(=O)OCCOC(=O)NCCNC(=O)OCCOC(=O)NCCNC(=O)O',\n",
       " 'CCCCCc1ccc(CCCCCOC(=O)c2ccc(C(=O)OCCCCCc3ccc(CCCCCOC(=O)c4ccc(C(=O)OCCCCCc5ccc(CCCCCOC(=O)c6ccc(C(=O)O)cc6)cc5)cc4)cc3)cc2)cc1 CCCCCCCCCCCCCCCCC(=O)NCCCCCCCCCCCCCCCCC(=O)NCCCCCCCCCCCCCCCCC(N)=O',\n",
       " 'CCCCCCCCCCOc1ccc(OCCCCCCCCCC)c(-c2ccc(-c3cc(OCCCCCCCCCC)c(-c4ccc(-c5cc(OCCCCCCCCCC)c(-c6ccccc6)cc5OCCCCCCCCCC)cc4)cc3OCCCCCCCCCC)cc2)c1 CCCCCCOC(=O)CCC(=O)OCCCCCCOC(=O)CCC(=O)OCCCCCCOC(=O)CCC(=O)O',\n",
       " 'CCCCCCCCOC(=O)Cc1c[nH]c(-c2[nH]c(-c3[nH]ccc3CC(=O)OCCCCCCCC)cc2CC(=O)OCCCCCCCC)c1 CCCOC(=O)CCCCCCC(=O)OCCCOC(=O)CCCCCCC(=O)OCCCOC(=O)CCCCCCC(=O)O',\n",
       " 'CCCCCCCCCCOc1ccc(OCCCCCCCCCC)c(-c2ccc(-c3cc(OCCCCCCCCCC)c(-c4ccc(-c5cc(OCCCCCCCCCC)c(-c6ccccc6)cc5OCCCCCCCCCC)cc4)cc3OCCCCCCCCCC)cc2)c1 CCCCCCOCOCCCCCCOCOCCCCCCOCO',\n",
       " 'C=Cc1cc(OCCCCCC)c(C=Cc2cc(OCCCCCC)c(C=Cc3cc(OCCCCCC)ccc3OC)cc2OC)cc1OC CCCCCCCCCCOC(=O)CCCCCCCCCCCCCCCCC(=O)OCCCCCCCCCCOC(=O)CCCCCCCCCCCCCCCCC(=O)OCCCCCCCCCCOC(=O)CCCCCCCCCCCCCCCCC(=O)O',\n",
       " 'CCCCCCCCCCCCOc1ccc(C=NN=Cc2ccc(OCCCCCCCCCCCCOc3ccc(C=NN=Cc4ccc(OCCCCCCCCCCCCOc5ccc(C=NN=Cc6ccc(O)cc6O)c(O)c5)cc4O)c(O)c3)cc2O)c(O)c1 CCCCCCOC(=O)CCCCCNC(=O)OCCCCCCOC(=O)CCCCCNC(=O)OCCCCCCOC(=O)CCCCCNC(=O)O',\n",
       " 'CC(=O)C(=S)OCC(=O)C(=S)OCC(=O)C(O)=S CC(=O)NCC(=O)OCC(=O)NCC(=O)OCC(=O)NCC(=O)O',\n",
       " 'CCCCCc1ccc(CCCCCOC(=O)c2ccc(C(=O)OCCCCCc3ccc(CCCCCOC(=O)c4ccc(C(=O)OCCCCCc5ccc(CCCCCOC(=O)c6ccc(C(=O)O)cc6)cc5)cc4)cc3)cc2)cc1 CCCCCCCCCCCCCCCCOC(=O)CCCCC(=O)OCCCCCCCCCCCCCCCCOC(=O)CCCCC(=O)OCCCCCCCCCCCCCCCCOC(=O)CCCCC(=O)O',\n",
       " 'CCCCCCCCOc1cc(C#Cc2ccc(-c3nnc(-c4ccc(C#Cc5cc(OCCCCCCCC)c(C#Cc6ccc(-c7nnc(-c8ccc(C#Cc9cc(OCCCCCCCC)c(C#Cc%10ccc(-c%11nnco%11)cc%10)cc9OCCCCCCCC)cc8)o7)cc6)cc5OCCCCCCCC)cc4)o3)cc2)c(OCCCCCCCC)cc1C#Cc1ccccc1 CCCCCCCC(=O)OCCCCCCCC(=O)OCCCCCCCC(=O)O',\n",
       " 'C=Cc1cc(OCCCCCC)c(C=Cc2cc(OCCCCCC)c(C=Cc3cc(OCCCCCC)ccc3OC)cc2OC)cc1OC CCCCCCOC(=O)CCCCCC(=O)OCCCCCCOC(=O)CCCCCC(=O)OCCCCCCOC(=O)CCCCCC(=O)O',\n",
       " 'CCCCCCOc1ccc(C(=O)N(C(=O)c2ccc(OCCCCCCOc3ccc(C(=O)N(C(=O)c4ccc(OCCCCCCOc5ccc(C(=O)N(C(=O)c6ccc(O)cc6)c6ccccc6)cc5)cc4)c4ccccc4)cc3)cc2)c2ccccc2)cc1 CCCCOC(=O)NC1CC1NC(=O)OCCCCOC(=O)NC1CC1NC(=O)OCCCCOC(=O)NC1CC1NC(=O)O',\n",
       " 'CCN(CCCC(=O)Nc1ccc(N=Nc2ccccc2)cc1)CCOC(=O)NCC1CCCC(CNC(=O)OCCN(CCCC(=O)Nc2ccc(N=Nc3ccccc3)cc2)CCOC(=O)NCC2CCCC(CNC(=O)OCCN(CCCC(=O)Nc3ccc(N=Nc4ccccc4)cc3)CCOC(=O)NCC3CCCC(CNC(=O)O)C3)C2)C1 CCOC(=O)NC1CCC(NC(=O)OCCOC(=O)NC2CCC(NC(=O)OCCOC(=O)NC3CCC(NC(=O)O)CC3)CC2)CC1',\n",
       " 'CC(=O)C(=S)OCC(=O)C(=S)OCC(=O)C(O)=S CCCOC(=O)CCC(=O)OCCCOC(=O)CCC(=O)OCCCOC(=O)CCC(=O)O',\n",
       " 'CCCCCCCCOc1cc(N2C(=O)c3ccccc3C2=O)cc(N2C(=O)c3ccc(C(=O)c4ccc5c(c4)C(=O)N(c4cc(OCCCCCCCC)cc(N6C(=O)c7ccc(C(=O)c8ccc9c(c8)C(=O)N(c8cc(OCCCCCCCC)cc(N%10C(=O)c%11ccc(C=O)cc%11C%10=O)c8)C9=O)cc7C6=O)c4)C5=O)cc3C2=O)c1 CCCCCCCCCCOC(=O)C1CCC(C(=O)OCCCCCCCCCCOC(=O)C2CCC(C(=O)OCCCCCCCCCCOC(=O)C3CCC(C(=O)O)CC3)CC2)CC1',\n",
       " 'CCCCOC(=O)CC(=CC(=O)OCCCCOC(=O)CC(=CC(=O)OCCCCOC(=O)CC(=CC(=O)O)c1ccc(OCC)cc1)c1ccc(OCC)cc1)c1ccc(OCC)cc1 CCCCCCCCCCOC(=O)OCCCCCCCCCCOC(=O)OCCCCCCCCCCOC(=O)O',\n",
       " 'CCCCCCCCCCCCOC(=O)c1csc(-c2ccc(-c3sc(-c4ccc(-c5sc(-c6cccs6)cc5C(=O)OCCCCCCCCCCCC)s4)cc3C(=O)OCCCCCCCCCCCC)s2)c1 CCCCCCCCCCOC(=O)OCCCCCCCCCCOC(=O)OCCCCCCCCCCOC(=O)O',\n",
       " 'CCCCCOCCCCCCOc1cc(C(=O)Oc2ccc(OC(=O)c3cc(OCCCCCCOCCCCC)c(C(=O)Oc4ccc(OC(=O)c5cc(OCCCCCCOCCCCC)c(C(=O)Oc6ccc(O)cc6)cc5OCCCCCCOCCCCC)cc4)cc3OCCCCCCOCCCCC)cc2)c(OCCCCCCOCCCCC)cc1C=O CCCCOC(=O)CCCCC(=O)OCCCCOC(=O)CCCCC(=O)OCCCCOC(=O)CCCCC(=O)O',\n",
       " 'CC(CC(CCC(=O)OCCOC(=O)c1cc([N+](=O)[O-])cc([N+](=O)[O-])c1)C(=O)OCCOC(=O)c1cc([N+](=O)[O-])cc([N+](=O)[O-])c1)C(=O)OCCOC(=O)c1cc([N+](=O)[O-])cc([N+](=O)[O-])c1 CCCCCCCCCCOC(=O)CCCCC(=O)OCCCCCCCCCCOC(=O)CCCCC(=O)OCCCCCCCCCCOC(=O)CCCCC(=O)O',\n",
       " 'CC(CC(CCC(=O)OCCOC(=O)c1cc([N+](=O)[O-])cc([N+](=O)[O-])c1)C(=O)OCCOC(=O)c1cc([N+](=O)[O-])cc([N+](=O)[O-])c1)C(=O)OCCOC(=O)c1cc([N+](=O)[O-])cc([N+](=O)[O-])c1 CCOCCOC(=O)C(C)CC(C)(CC(C)(C)C(=O)OCCOCC)C(=O)OCCOCC',\n",
       " 'CC(CC(CCC(=O)Oc1ccc([N+](=O)[O-])cc1)C(=O)Oc1ccc([N+](=O)[O-])cc1)C(=O)Oc1ccc([N+](=O)[O-])cc1 CC(C)CC(C)OC(=O)CCC(CC(C)C(=O)OC(C)CC(C)C)C(=O)OC(C)CC(C)C',\n",
       " 'CCCCCCCCCCCCOC(=O)c1csc(-c2ccc(-c3sc(-c4ccc(-c5sc(-c6cccs6)cc5C(=O)OCCCCCCCCCCCC)s4)cc3C(=O)OCCCCCCCCCCCC)s2)c1 CCCCOC(=O)NC1CC1NC(=O)OCCCCOC(=O)NC1CC1NC(=O)OCCCCOC(=O)NC1CC1NC(=O)O',\n",
       " 'CCCCCOCCCCCCOc1cc(C(=O)Oc2ccc(OC(=O)c3cc(OCCCCCCOCCCCC)c(C(=O)Oc4ccc(OC(=O)c5cc(OCCCCCCOCCCCC)c(C(=O)Oc6ccc(O)cc6)cc5OCCCCCCOCCCCC)cc4)cc3OCCCCCCOCCCCC)cc2)c(OCCCCCCOCCCCC)cc1C=O CCCCCOC(=O)CCCCS(=O)(=O)CCCCC(=O)OCCCCCOC(=O)CCCCS(=O)(=O)CCCCC(=O)OCCCCCOC(=O)CCCCS(=O)(=O)CCCCC(=O)O',\n",
       " 'C#Cc1cc(OCCCCCCCC)c(C#Cc2ccc(C#Cc3cc(OCCCCCCCC)c(C#Cc4ccc(C#Cc5cc(OCCCCCCCC)c(C#Cc6cccs6)cc5OCCCCCCCC)s4)cc3OCCCCCCCC)s2)cc1OCCCCCCCC CCCCCCCCCCOCCCCCCCCCCOCCCCCCCCCCO',\n",
       " 'CCCCCCCCCCCCOc1ccc(C=NN=Cc2ccc(OCCCCCCCCCCCCOc3ccc(C=NN=Cc4ccc(OCCCCCCCCCCCCOc5ccc(C=NN=Cc6ccc(O)cc6O)c(O)c5)cc4O)c(O)c3)cc2O)c(O)c1 CCCCCCCOC(=O)NCCCCCCNC(=O)OCCCCCCCOC(=O)NCCCCCCNC(=O)OCCCCCCCOC(=O)NCCCCCCNC(=O)O',\n",
       " 'CCCCCCCCCCCCOC(=O)c1cc(-c2cc(C(=O)CCCCCCCCCCCC)cs2)sc1-c1ccc(-c2ccc(-c3sc(-c4cc(C(=O)OCCCCCCCCCCCC)c(-c5ccc(-c6ccc(-c7sc(-c8cc(C(=O)OCCCCCCCCCCCC)c(-c9ccc(-c%10cccs%10)s9)s8)cc7C(=O)CCCCCCCCCCCC)s6)s5)s4)cc3C(=O)CCCCCCCCCCCC)s2)s1 CCCCCCOC(=O)CCCC(=O)OCCCCCCOC(=O)CCCC(=O)OCCCCCCOC(=O)CCCC(=O)O',\n",
       " 'CCN(CCCC(=O)Nc1ccc(N=Nc2ccccc2)cc1)CCOC(=O)NCC1CCCC(CNC(=O)OCCN(CCCC(=O)Nc2ccc(N=Nc3ccccc3)cc2)CCOC(=O)NCC2CCCC(CNC(=O)OCCN(CCCC(=O)Nc3ccc(N=Nc4ccccc4)cc3)CCOC(=O)NCC3CCCC(CNC(=O)O)C3)C2)C1 CCOC(=O)NCCCCCCNC(=O)OCCOC(=O)NCCCCCCNC(=O)OCCOC(=O)NCCCCCCNC(=O)O',\n",
       " 'CCCCOC(=O)CC(=CC(=O)OCCCCOC(=O)CC(=CC(=O)OCCCCOC(=O)CC(=CC(=O)O)c1ccc(OCC)cc1)c1ccc(OCC)cc1)c1ccc(OCC)cc1 CCCCCCCCCCCC(=O)OCCCCCCCCCCCC(=O)OCCCCCCCCCCCC(=O)O',\n",
       " 'CCCCCCc1ncsc1-c1sc(-c2nc(CCCCCC)c(-c3sc(-c4nc(CCCCCC)c(-c5scnc5CCCCCC)s4)nc3CCCCCC)s2)nc1CCCCCC CCCCCCCCCCCCCCCCCCCCC(Cl)CCCCCCCCCCCCCCCCCCCCC(Cl)CCCCCCCCCCCCCCCCCCCCCCl',\n",
       " 'CCCCCOCCCCCCOc1cc(C(=O)Oc2ccc(OC(=O)c3cc(OCCCCCCOCCCCC)c(C(=O)Oc4ccc(OC(=O)c5cc(OCCCCCCOCCCCC)c(C(=O)Oc6ccc(O)cc6)cc5OCCCCCCOCCCCC)cc4)cc3OCCCCCCOCCCCC)cc2)c(OCCCCCCOCCCCC)cc1C=O CCCOCCCOC(=O)CCCCCCCCC(=O)OCCCOCCCOC(=O)CCCCCCCCC(=O)OCCCOCCCOC(=O)CCCCCCCCC(=O)O',\n",
       " 'CCCCCCCCCCCCOC(=O)c1csc(-c2ccc(-c3sc(-c4ccc(-c5sc(-c6cccs6)cc5C(=O)OCCCCCCCCCCCC)s4)cc3C(=O)OCCCCCCCCCCCC)s2)c1 CCCCCNC(=O)OCCCCCNC(=O)OCCCCCNC(=O)O',\n",
       " 'CCCCCCCCCCCCOC(=O)c1cc(-c2cc(C(=O)CCCCCCCCCCCC)cs2)sc1-c1ccc(-c2ccc(-c3sc(-c4cc(C(=O)OCCCCCCCCCCCC)c(-c5ccc(-c6ccc(-c7sc(-c8cc(C(=O)OCCCCCCCCCCCC)c(-c9ccc(-c%10cccs%10)s9)s8)cc7C(=O)CCCCCCCCCCCC)s6)s5)s4)cc3C(=O)CCCCCCCCCCCC)s2)s1 CCCCCOC(=O)NCC(F)(F)C(F)(F)C(F)(F)C(F)(F)CNC(=O)OCCCCCOC(=O)NCC(F)(F)C(F)(F)C(F)(F)C(F)(F)CNC(=O)OCCCCCOC(=O)NCC(F)(F)C(F)(F)C(F)(F)C(F)(F)CNC(=O)O',\n",
       " 'CCCCOC(=O)CC(=CC(=O)OCCCCOC(=O)CC(=CC(=O)OCCCCOC(=O)CC(=CC(=O)O)c1ccc(OCC)cc1)c1ccc(OCC)cc1)c1ccc(OCC)cc1 CCOC(=O)NC1CCC(NC(=O)OCCOC(=O)NC2CCC(NC(=O)OCCOC(=O)NC3CCC(NC(=O)O)CC3)CC2)CC1',\n",
       " 'CC(CC(CCC(=O)OCCOC(=O)c1cc([N+](=O)[O-])cc([N+](=O)[O-])c1)C(=O)OCCOC(=O)c1cc([N+](=O)[O-])cc([N+](=O)[O-])c1)C(=O)OCCOC(=O)c1cc([N+](=O)[O-])cc([N+](=O)[O-])c1 CCCCCCCCCCOC(=O)CCCCCCCCCCCCCCCCC(=O)OCCCCCCCCCCOC(=O)CCCCCCCCCCCCCCCCC(=O)OCCCCCCCCCCOC(=O)CCCCCCCCCCCCCCCCC(=O)O',\n",
       " 'CCCCCCOc1ccc(C(=O)N(C(=O)c2ccc(OCCCCCCOc3ccc(C(=O)N(C(=O)c4ccc(OCCCCCCOc5ccc(C(=O)N(C(=O)c6ccc(O)cc6)c6ccccc6)cc5)cc4)c4ccccc4)cc3)cc2)c2ccccc2)cc1 CCCCCOC(CCCC)OC(O)CCCC',\n",
       " 'CCCCOC(=O)CC(=CC(=O)OCCCCOC(=O)CC(=CC(=O)OCCCCOC(=O)CC(=CC(=O)O)c1ccc(OCC)cc1)c1ccc(OCC)cc1)c1ccc(OCC)cc1 CCCCCCOC(=O)CCCCCNC(=O)OCCCCCCOC(=O)CCCCCNC(=O)OCCCCCCOC(=O)CCCCCNC(=O)O',\n",
       " 'CCCCOC(=O)CC(=CC(=O)OCCCCOC(=O)CC(=CC(=O)OCCCCOC(=O)CC(=CC(=O)O)c1ccc(OCC)cc1)c1ccc(OCC)cc1)c1ccc(OCC)cc1 CCCCCNC(=O)OCCCCCNC(=O)OCCCCCNC(=O)O',\n",
       " 'CC(CC(CCC(=O)OCCOC(=O)c1cc([N+](=O)[O-])cc([N+](=O)[O-])c1)C(=O)OCCOC(=O)c1cc([N+](=O)[O-])cc([N+](=O)[O-])c1)C(=O)OCCOC(=O)c1cc([N+](=O)[O-])cc([N+](=O)[O-])c1 CCCOC(=O)CCCCC(=O)OCCCOC(=O)CCCCC(=O)OCCCOC(=O)CCCCC(=O)O',\n",
       " 'CCOC(=O)C(C)OC(=O)CCn1cccc1-c1ccc(-c2cccn2CCC(=O)OC(C)C(=O)OCC)n1CCC(=O)OC(C)C(=O)OCC CCOC(=O)COCC(=O)OCCOC(=O)COCC(=O)OCCOC(=O)COCC(=O)O',\n",
       " 'CCCCCc1ccc(CCCCCOC(=O)c2ccc(C(=O)OCCCCCc3ccc(CCCCCOC(=O)c4ccc(C(=O)OCCCCCc5ccc(CCCCCOC(=O)c6ccc(C(=O)O)cc6)cc5)cc4)cc3)cc2)cc1 CCCCCCOC(=O)CCC(=O)OCCCCCCOC(=O)CCC(=O)OCCCCCCOC(=O)CCC(=O)O',\n",
       " 'CCCCCCOC(=O)C(CCCCCCOc1ccc(-c2ccc(OCc3ccc([N+](=O)[O-])cc3)cc2)cc1)C(=O)OCCCCCCOC(=O)C(CCCCCCOc1ccc(-c2ccc(OCc3ccc([N+](=O)[O-])cc3)cc2)cc1)C(=O)OCCCCCCOC(=O)C(CCCCCCOc1ccc(-c2ccc(OCc3ccc([N+](=O)[O-])cc3)cc2)cc1)C(=O)O CCOC(=O)CCCCCC(=O)OCCOC(=O)CCCCCC(=O)OCCOC(=O)CCCCCC(=O)O',\n",
       " 'CCOC(=O)c1ccc2ccc(C(=O)OCCOC(=O)c3ccc4ccc(C(=O)OCCOC(=O)c5ccc6ccc(C(=O)O)cc6c5)cc4c3)cc2c1 CCOC(=O)NCCCCCCNC(=O)OCCOC(=O)NCCCCCCNC(=O)OCCOC(=O)NCCCCCCNC(=O)O',\n",
       " 'CCCCCc1ccc(CCCCCOC(=O)c2ccc(C(=O)OCCCCCc3ccc(CCCCCOC(=O)c4ccc(C(=O)OCCCCCc5ccc(CCCCCOC(=O)c6ccc(C(=O)O)cc6)cc5)cc4)cc3)cc2)cc1 CCOCCOC(=O)CCCCCCCCC(=O)OCCOCCOC(=O)CCCCCCCCC(=O)OCCOCCOC(=O)CCCCCCCCC(=O)O',\n",
       " 'CCCCOC(=O)SSSC(=O)OCCCCOC(=O)SSSC(=O)OCCCCOC(=O)SSSC(=O)O CCOC(=O)CCCCC(=O)OCCOC(=O)CCCCC(=O)OCCOC(=O)CCCCC(=O)O',\n",
       " 'CCCCCCCCOc1ccc(-c2csc(-c3sc(-c4sccc4-c4ccc(OCCCCCCCC)cc4)cc3-c3ccc(OCCCCCCCC)cc3)c2)cc1 CCCCCCCCCCOCCCCCCCCCCOCCCCOCCCCCCCCCCOCCCCCCCCCCOCCCCOCCCCCCCCCCOCCCCCCCCCCOCCCCO',\n",
       " 'CCCCCCCCCCCCOc1cc(C(=O)Oc2ccc(OC(=O)c3cc(OCCCCCCCCCCCC)c(C(=O)Oc4ccc(OC(=O)c5cc(OCCCCCCCCCCCC)c(C(=O)Oc6ccc(O)cc6)cc5OCCCCCCCCCCCC)cc4)cc3OCCCCCCCCCCCC)cc2)c(OCCCCCCCCCCCC)cc1C=O CCCCCCOC(=O)CCC(C)CC(=O)OCCCCCCOC(=O)CCC(C)CC(=O)OCCCCCCOC(=O)CCC(C)CC(=O)O',\n",
       " 'CCCCCCCCCCOc1cccc(OC(=O)c2ccc(C(=O)Oc3cccc(OCCCCCCCCCCOc4cccc(OC(=O)c5ccc(C(=O)Oc6cccc(OCCCCCCCCCCOc7cccc(OC(=O)c8ccc(C(=O)Oc9cccc(O)c9)cc8)c7)c6)cc5)c4)c3)cc2)c1 CCCCCCC(=O)OCCCCCCC(=O)OCCCCCCC(=O)O',\n",
       " 'CCCCCCCc1cc(OC(=O)c2ccc(C(=O)Oc3ccc(OC(=O)c4ccc(C(=O)Oc5ccc(OC(=O)c6ccc(C=O)cc6)cc5CCCCCCC)cc4)cc3CCCCCCC)cc2)ccc1O CCCCCCCCCCCC(=O)OCCCCCCCCCCCC(=O)OCCCCCCCCCCCC(=O)O',\n",
       " 'CCCCCCCCCCCCCCCCOc1csc(-c2sc(-c3scc(C)c3OCCCCCCCCCCCCCCCC)c(C)c2OCCCCCCCCCCCCCCCC)c1C CCCCCCOC(=O)CCCCCCCCC(=O)OCCCCCCOC(=O)CCCCCCCCC(=O)OCCCCCCOC(=O)CCCCCCCCC(=O)O',\n",
       " 'CCCCOC(=O)SSSC(=O)OCCCCOC(=O)SSSC(=O)OCCCCOC(=O)SSSC(=O)O CCOCCOC(=O)CCCCCCC(=O)OCCOCCOC(=O)CCCCCCC(=O)OCCOCCOC(=O)CCCCCCC(=O)O',\n",
       " 'CC(=S)C(=O)OCC(=S)C(=O)OCC(=S)C(=O)O CCCCOC(=O)OCCCCOC(=O)OCCCCOC(=O)O',\n",
       " 'CCOC(=O)C(C)OC(=O)CCn1cccc1-c1ccc(-c2cccn2CCC(=O)OC(C)C(=O)OCC)n1CCC(=O)OC(C)C(=O)OCC CC(C)CC(C)OC(=O)CCC(CC(C)C(=O)OC(C)CC(C)C)C(=O)OC(C)CC(C)C',\n",
       " 'CC(CC(CCC(=O)OCCCOc1ccc(-c2ccc(C#N)cc2)cc1)C(=O)OCCCOc1ccc(-c2ccc(C#N)cc2)cc1)C(=O)OCCCOc1ccc(-c2ccc(C#N)cc2)cc1 CC(O)CCOC(=O)CCCC(=O)OC(C)CCOC(=O)CCCC(=O)OC(C)CCOC(=O)CCCC=O',\n",
       " 'CCCCCCOc1ccc(C(=O)N(C(=O)c2ccc(OCCCCCCOc3ccc(C(=O)N(C(=O)c4ccc(OCCCCCCOc5ccc(C(=O)N(C(=O)c6ccc(O)cc6)c6ccccc6)cc5)cc4)c4ccccc4)cc3)cc2)c2ccccc2)cc1 CCCCCCOC(=O)OCCCCCCOC(=O)OCCCCCCOC(=O)O',\n",
       " 'CCCCOc1cc(N2C(=O)c3ccccc3C2=O)cc(N2C(=O)c3ccc(C(=O)c4ccc5c(c4)C(=O)N(c4cc(OCCCC)cc(N6C(=O)c7ccc(C(=O)c8ccc9c(c8)C(=O)N(c8cc(OCCCC)cc(N%10C(=O)c%11ccc(C=O)cc%11C%10=O)c8)C9=O)cc7C6=O)c4)C5=O)cc3C2=O)c1 CCCCOC(=O)C(OC)C(OC)C(=O)OCCCCOC(=O)C(OC)C(OC)C(=O)OCCCCOC(=O)C(OC)C(OC)C(=O)O',\n",
       " 'CCCCCCOc1ccc(C(=O)N(C(=O)c2ccc(OCCCCCCOc3ccc(C(=O)N(C(=O)c4ccc(OCCCCCCOc5ccc(C(=O)N(C(=O)c6ccc(O)cc6)c6ccccc6)cc5)cc4)c4ccccc4)cc3)cc2)c2ccccc2)cc1 CCCCOC(=O)CCCCC(=O)OCCCCOC(=O)CCCCC(=O)OCCCCOC(=O)CCCCC(=O)O',\n",
       " 'CCOC(=O)c1ccc2ccc(C(=O)OCCOC(=O)c3ccc4ccc(C(=O)OCCOC(=O)c5ccc6ccc(C(=O)O)cc6c5)cc4c3)cc2c1 CCOC(=O)NC1CCC(NC(=O)OCCOC(=O)NC2CCC(NC(=O)OCCOC(=O)NC3CCC(NC(=O)O)CC3)CC2)CC1',\n",
       " 'CCCCCCCCCCCCOC(=O)c1csc(-c2ccc(-c3sc(-c4ccc(-c5sc(-c6cccs6)cc5C(=O)OCCCCCCCCCCCC)s4)cc3C(=O)OCCCCCCCCCCCC)s2)c1 CCCCCCOC(=O)NCCCNC(=O)OCCCCCCOC(=O)NCCCNC(=O)OCCCCCCOC(=O)NCCCNC(=O)O',\n",
       " 'CCCCOC(=O)SSSC(=O)OCCCCOC(=O)SSSC(=O)OCCCCOC(=O)SSSC(=O)O CCOC(=O)COCC(=O)OCCOC(=O)COCC(=O)OCCOC(=O)COCC(=O)O',\n",
       " 'CC(=NN=C(C)c1ccc(OC(=O)CCCCCCCCC(=O)Oc2ccc(C(C)=NN=C(C)c3ccc(OC(=O)CCCCCCCCC(=O)Oc4ccc(C(C)=NN=C(C)c5ccc(OC(=O)CCCCCCCCC=O)cc5)cc4)cc3)cc2)cc1)c1ccc(O)cc1 CCOCCOC(=O)CCCCCCCCC(=O)OCCOCCOC(=O)CCCCCCCCC(=O)OCCOCCOC(=O)CCCCCCCCC(=O)O',\n",
       " 'CCC(C)CCc1cc(OC(=O)c2ccc(C(=O)Oc3ccc(OC(=O)c4ccc(C(=O)Oc5ccc(OC(=O)c6ccc(C=O)cc6)cc5CCC(C)CC)cc4)cc3CCC(C)CC)cc2)ccc1O CCC(C)CCOC(=O)CCCCC(=O)OCCC(C)CCOC(=O)CCCCC(=O)OCCC(C)CCOC(=O)CCCCC(=O)O',\n",
       " 'CC(=NN=C(C)c1ccc(OC(=O)CCCCCCCCC(=O)Oc2ccc(C(C)=NN=C(C)c3ccc(OC(=O)CCCCCCCCC(=O)Oc4ccc(C(C)=NN=C(C)c5ccc(OC(=O)CCCCCCCCC=O)cc5)cc4)cc3)cc2)cc1)c1ccc(O)cc1 CC(O)CCCCC(=O)OC(C)CCCCC(=O)OC(C)CCCCC=O',\n",
       " 'CCCCOC(=O)CC(=CC(=O)OCCCCOC(=O)CC(=CC(=O)OCCCCOC(=O)CC(=CC(=O)O)c1ccc(OCC)cc1)c1ccc(OCC)cc1)c1ccc(OCC)cc1 CCCCCCCCCCOC(=O)CCCCS(=O)(=O)CCCCC(=O)OCCCCCCCCCCOC(=O)CCCCS(=O)(=O)CCCCC(=O)OCCCCCCCCCCOC(=O)CCCCS(=O)(=O)CCCCC(=O)O',\n",
       " 'CCCCCCCc1cc(OC(=O)c2ccc(C(=O)Oc3ccc(OC(=O)c4ccc(C(=O)Oc5ccc(OC(=O)c6ccc(C=O)cc6)cc5CCCCCCC)cc4)cc3CCCCCCC)cc2)ccc1O CCCCCCOC(=O)CCCCCCCC(=O)OCCCCCCOC(=O)CCCCCCCC(=O)OCCCCCCOC(=O)CCCCCCCC(=O)O',\n",
       " 'CCCCCCCCCCOc1cccc(OC(=O)c2ccc(C(=O)Oc3cccc(OCCCCCCCCCCOc4cccc(OC(=O)c5ccc(C(=O)Oc6cccc(OCCCCCCCCCCOc7cccc(OC(=O)c8ccc(C(=O)Oc9cccc(O)c9)cc8)c7)c6)cc5)c4)c3)cc2)c1 CCCCCCCCCCCCCCCCCCCCOC(=O)CCC(C)CC(=O)OCCCCCCCCCCCCCCCCCCCCOC(=O)CCC(C)CC(=O)OCCCCCCCCCCCCCCCCCCCCOC(=O)CCC(C)CC(=O)O',\n",
       " 'CCCCCCCCNc1ccc(C(=O)N(CCCCCCCC)c2ccc(C(=O)N(CCCCCCCC)c3ccc(C=O)cc3)cc2)cc1 CCCCCCCCCCCCOC(=O)NCCCCCCNC(=O)OCCCCCCCCCCCCOC(=O)NCCCCCCNC(=O)OCCCCCCCCCCCCOC(=O)NCCCCCCNC(=O)O',\n",
       " 'CCCCCCCCCCCCOc1ccc(C=NN=Cc2ccc(OCCCCCCCCCCCCOc3ccc(C=NN=Cc4ccc(OCCCCCCCCCCCCOc5ccc(C=NN=Cc6ccc(O)cc6O)c(O)c5)cc4O)c(O)c3)cc2O)c(O)c1 CCCCCCCCCCCCOC(=O)NCCCCCCNC(=O)OCCCCCCCCCCCCOC(=O)NCCCCCCNC(=O)OCCCCCCCCCCCCOC(=O)NCCCCCCNC(=O)O',\n",
       " 'CCCCCC[N+](C)(C)CCCCCC[N+](C)(C)CCCCCC[N+](C)C CCCCCOC(=O)CCCCC(=O)OCCCCCOC(=O)CCCCC(=O)OCCCCCOC(=O)CCCCC(=O)O',\n",
       " 'CCCCCCCCCCCCCCCCOc1csc(-c2sc(-c3scc(C)c3OCCCCCCCCCCCCCCCC)c(C)c2OCCCCCCCCCCCCCCCC)c1C CCCCCCCCCCOCCCCCCCCCCOCCCCCCOCCCCCCCCCCOCCCCCCCCCCOCCCCCCOCCCCCCCCCCOCCCCCCCCCCOCCCCCCO',\n",
       " 'CCCCCCOc1ccc(C(=O)N(C(=O)c2ccc(OCCCCCCOc3ccc(C(=O)N(C(=O)c4ccc(OCCCCCCOc5ccc(C(=O)N(C(=O)c6ccc(O)cc6)c6ccccc6)cc5)cc4)c4ccccc4)cc3)cc2)c2ccccc2)cc1 CCCOC(=O)CCCCC(=O)OCCCOC(=O)CCCCC(=O)OCCCOC(=O)CCCCC(=O)O',\n",
       " 'CCCCCCCCCCCCCCCc1cc(Nc2ccc(Nc3ccccc3CCCCCCCCCCCCCCC)cc2CCCCCCCCCCCCCCC)ccc1N CCCCCCCCCCCCc1nnc(CCCCCCCCCCCCc2nnc(CCCCCCCCCCCCc3nnco3)o2)o1',\n",
       " 'CC(CC(CCC(=O)Oc1ccc([N+](=O)[O-])cc1)C(=O)Oc1ccc([N+](=O)[O-])cc1)C(=O)Oc1ccc([N+](=O)[O-])cc1 CC(CC(CCOC(=O)C(F)(F)F)OC(=O)C(F)(F)F)OC(=O)C(F)(F)F',\n",
       " 'CC(=NN=C(C)c1ccc(OC(=O)CCCCCCCCC(=O)Oc2ccc(C(C)=NN=C(C)c3ccc(OC(=O)CCCCCCCCC(=O)Oc4ccc(C(C)=NN=C(C)c5ccc(OC(=O)CCCCCCCCC=O)cc5)cc4)cc3)cc2)cc1)c1ccc(O)cc1 CC(O)COC(=O)CCCCCCC(=O)OC(C)COC(=O)CCCCCCC(=O)OC(C)COC(=O)CCCCCCC=O',\n",
       " 'CCCCCCCCCCCCOc1cc(Nc2ccc(Nc3ccccc3OCCCCCCCCCCCC)cc2OCCCCCCCCCCCC)ccc1N CCCCCCCCCCOCCCCCCCCCCOCCCCCCOCCCCCCCCCCOCCCCCCCCCCOCCCCCCOCCCCCCCCCCOCCCCCCCCCCOCCCCCCO',\n",
       " 'CCCCCCCc1cc(OC(=O)c2ccc(C(=O)Oc3ccc(OC(=O)c4ccc(C(=O)Oc5ccc(OC(=O)c6ccc(C=O)cc6)cc5CCCCCCC)cc4)cc3CCCCCCC)cc2)ccc1O CCCCCCOC(=O)CCCCCC(=O)OCCCCCCOC(=O)CCCCCC(=O)OCCCCCCOC(=O)CCCCCC(=O)O',\n",
       " 'CCCCCCCCOC(=O)Cc1c[nH]c(-c2[nH]c(-c3[nH]ccc3CC(=O)OCCCCCCCC)cc2CC(=O)OCCCCCCCC)c1 CCCCCCCCCCCCCCCCOC(=O)CCCCCCC(=O)OCCCCCCCCCCCCCCCCOC(=O)CCCCCCC(=O)OCCCCCCCCCCCCCCCCOC(=O)CCCCCCC(=O)O',\n",
       " 'CCCCCCn1cccc1-c1ccc(-c2cccn2CCCCCC)n1CCCCCC CCCCCCOCCCCCCOCCCCCCO',\n",
       " 'CC(=O)OC(=S)CC(=O)OC(=S)CC(=O)OC=S CC(C)(C)COC(=O)CC(=O)OCC(C)(C)COC(=O)CC(=O)OCC(C)(C)COC(=O)CC(=O)O',\n",
       " 'CCCCCCOc1csc(-c2sc(-c3scc(C)c3OCCCCCC)c(C)c2OCCCCCC)c1C CCCCCCOCCCCCCOCCCCCCO',\n",
       " 'CCCCCCCCCCCCCCCCOc1csc(-c2sc(-c3scc(C)c3OCCCCCCCCCCCCCCCC)c(C)c2OCCCCCCCCCCCCCCCC)c1C CCCCCCCCCCCCCCCCOC(=O)CCCCCCC(=O)OCCCCCCCCCCCCCCCCOC(=O)CCCCCCC(=O)OCCCCCCCCCCCCCCCCOC(=O)CCCCCCC(=O)O',\n",
       " 'C=CCOC(=O)c1cc(C(=O)Oc2ccc(OCCCCOc3ccc(OC(=O)c4ccc(C(=O)Oc5ccc(OCCCCOc6ccc(OC(=O)c7ccc(C(=O)Oc8ccc(OCCCC)cc8)cc7C(=O)OCC=C)cc6)cc5)cc4C(=O)OCC=C)cc3)cc2)ccc1C(=O)Oc1ccc(O)cc1 CCCCCCOC(=O)CC(=O)OCCCCCCOC(=O)CC(=O)OCCCCCCOC(=O)CC(=O)O',\n",
       " 'O=C(COc1ccccc1)OCCCCCCc1csc(-c2sc(-c3sccc3CCCCCCOC(=O)COc3ccccc3)cc2CCCCCCOC(=O)COc2ccccc2)c1 CCCCCOC(=O)CCCCC(=O)OCCCCCOC(=O)CCCCC(=O)OCCCCCOC(=O)CCCCC(=O)O',\n",
       " 'CC(CC(CCC(=O)OCCCOc1ccc(-c2ccc(C#N)cc2)cc1)C(=O)OCCCOc1ccc(-c2ccc(C#N)cc2)cc1)C(=O)OCCCOc1ccc(-c2ccc(C#N)cc2)cc1 CCCCCCCCOC(=O)CCCCC(=O)OCCCCCCCCOC(=O)CCCCC(=O)OCCCCCCCCOC(=O)CCCCC(=O)O',\n",
       " 'CCCCCCCCCCCCCCCCOc1csc(-c2sc(-c3scc(C)c3OCCCCCCCCCCCCCCCC)c(C)c2OCCCCCCCCCCCCCCCC)c1C CCCCCCCCCCOC(=O)CCCCCCCCC(=O)OCCCCCCCCCCOC(=O)CCCCCCCCC(=O)OCCCCCCCCCCOC(=O)CCCCCCCCC(=O)O',\n",
       " 'CCCCCCCCOC(=O)Cc1c[nH]c(-c2[nH]c(-c3[nH]ccc3CC(=O)OCCCCCCCC)cc2CC(=O)OCCCCCCCC)c1 CCCCCCCCCCOC(=O)CCCCS(=O)(=O)CCCCC(=O)OCCCCCCCCCCOC(=O)CCCCS(=O)(=O)CCCCC(=O)OCCCCCCCCCCOC(=O)CCCCS(=O)(=O)CCCCC(=O)O',\n",
       " 'CCCCCCOC(=O)C(CCCCCCOc1ccc(-c2ccc(OCc3ccc([N+](=O)[O-])cc3)cc2)cc1)C(=O)OCCCCCCOC(=O)C(CCCCCCOc1ccc(-c2ccc(OCc3ccc([N+](=O)[O-])cc3)cc2)cc1)C(=O)OCCCCCCOC(=O)C(CCCCCCOc1ccc(-c2ccc(OCc3ccc([N+](=O)[O-])cc3)cc2)cc1)C(=O)O CCCCCCOC(=O)CCCCCNC(=O)OCCCCCCOC(=O)CCCCCNC(=O)OCCCCCCOC(=O)CCCCCNC(=O)O',\n",
       " 'CCOC(=O)c1ccc2ccc(C(=O)OCCOC(=O)c3ccc4ccc(C(=O)OCCOC(=O)c5ccc6ccc(C(=O)O)cc6c5)cc4c3)cc2c1 CCOCCOC(=O)CCCCS(=O)(=O)CCCCC(=O)OCCOCCOC(=O)CCCCS(=O)(=O)CCCCC(=O)OCCOCCOC(=O)CCCCS(=O)(=O)CCCCC(=O)O',\n",
       " 'CCCCOc1ccc(C=C2CCC(=Cc3ccc(OCCCCOc4ccc(C=C5CCC(=Cc6ccc(OCCCCOc7ccc(C=C8CCC(=Cc9ccc(O)cc9)C8=O)cc7)cc6)C5=O)cc4)cc3)C2=O)cc1 CCCCCCOC(=O)CCCCCC(=O)OCCCCCCOC(=O)CCCCCC(=O)OCCCCCCOC(=O)CCCCCC(=O)O',\n",
       " 'CCCCOc1ccc(C=C2CCC(=Cc3ccc(OCCCCOc4ccc(C=C5CCC(=Cc6ccc(OCCCCOc7ccc(C=C8CCC(=Cc9ccc(O)cc9)C8=O)cc7)cc6)C5=O)cc4)cc3)C2=O)cc1 CCCCCCCCCCOC(=O)CCCCCCCC(=O)OCCCCCCCCCCOC(=O)CCCCCCCC(=O)OCCCCCCCCCCOC(=O)CCCCCCCC(=O)O',\n",
       " 'CCCCCCCCOC(=O)Cc1c[nH]c(-c2[nH]c(-c3[nH]ccc3CC(=O)OCCCCCCCC)cc2CC(=O)OCCCCCCCC)c1 CCCCCCCCCCOC(=O)CC(C)(C)CC(=O)OCCCCCCCCCCOC(=O)CC(C)(C)CC(=O)OCCCCCCCCCCOC(=O)CC(C)(C)CC(=O)O',\n",
       " 'CC(CC(CCC(=O)OCCCOc1ccc(-c2ccc(C#N)cc2)cc1)C(=O)OCCCOc1ccc(-c2ccc(C#N)cc2)cc1)C(=O)OCCCOc1ccc(-c2ccc(C#N)cc2)cc1 CCOCCOC(=O)CCCCCCCCC(=O)OCCOCCOC(=O)CCCCCCCCC(=O)OCCOCCOC(=O)CCCCCCCCC(=O)O',\n",
       " 'C=Cc1cc(OCCCCCC)c(C=Cc2cc(OCCCCCC)c(C=Cc3cc(OCCCCCC)ccc3OC)cc2OC)cc1OC CCCCCCOC(=O)CCCC(=O)OCCCCCCOC(=O)CCCC(=O)OCCCCCCOC(=O)CCCC(=O)O',\n",
       " 'CCCCCOc1csc(-c2cc(OCCCCC)c(-c3sc(-c4cc(OCCCCC)c(-c5sc(-c6cc(OCCCCC)cs6)cc5OCCCCC)s4)cc3OCCCCC)s2)c1 CCCCCCC(=O)OCCCCCCC(=O)OCCCCCCC(=O)O',\n",
       " 'CCCCOc1ccc(C=C2CCC(=Cc3ccc(OCCCCOc4ccc(C=C5CCC(=Cc6ccc(OCCCCOc7ccc(C=C8CCC(=Cc9ccc(O)cc9)C8=O)cc7)cc6)C5=O)cc4)cc3)C2=O)cc1 CCCCCCCCCCOC(=O)CC(C)(C)CC(=O)OCCCCCCCCCCOC(=O)CC(C)(C)CC(=O)OCCCCCCCCCCOC(=O)CC(C)(C)CC(=O)O',\n",
       " 'CCCCCCCCCCCCOc1csc(-c2ccc(-c3ccc(-c4sc(-c5ccc(-c6ccc(-c7sc(-c8ccc(-c9cccs9)s8)cc7OCCCCCCCCCCCC)s6)s5)cc4OCCCCCCCCCCCC)s3)s2)c1 CCCCCOC(=O)CC(=O)OCCCCCOC(=O)CC(=O)OCCCCCOC(=O)CC(=O)O',\n",
       " 'CCCCCCOC(=O)C(CCCCCCOc1ccc(-c2ccc(OCc3ccc([N+](=O)[O-])cc3)cc2)cc1)C(=O)OCCCCCCOC(=O)C(CCCCCCOc1ccc(-c2ccc(OCc3ccc([N+](=O)[O-])cc3)cc2)cc1)C(=O)OCCCCCCOC(=O)C(CCCCCCOc1ccc(-c2ccc(OCc3ccc([N+](=O)[O-])cc3)cc2)cc1)C(=O)O CCCCCCOC(=O)CCCCS(=O)(=O)CCCCC(=O)OCCCCCCOC(=O)CCCCS(=O)(=O)CCCCC(=O)OCCCCCCOC(=O)CCCCS(=O)(=O)CCCCC(=O)O',\n",
       " 'CCOC(=O)c1ccc2ccc(C(=O)OCCOC(=O)c3ccc4ccc(C(=O)OCCOC(=O)c5ccc6ccc(C(=O)O)cc6c5)cc4c3)cc2c1 CCCOC(=O)C1CCC(C(=O)OCCCOC(=O)C2CCC(C(=O)OCCCOC(=O)C3CCC(C(=O)O)CC3)CC2)CC1',\n",
       " 'CCOC(=O)c1ccc2ccc(C(=O)OCCOC(=O)c3ccc4ccc(C(=O)OCCOC(=O)c5ccc6ccc(C(=O)O)cc6c5)cc4c3)cc2c1 CCOC(=O)NCCCCCCCCCCNC(=O)OCCOC(=O)NCCCCCCCCCCNC(=O)OCCOC(=O)NCCCCCCCCCCNC(=O)O',\n",
       " 'CCCCCCCCCCOc1ccc(OCCCCCCCCCC)c(-c2ccc(-c3cc(OCCCCCCCCCC)c(-c4ccc(-c5cc(OCCCCCCCCCC)c(-c6ccccc6)cc5OCCCCCCCCCC)cc4)cc3OCCCCCCCCCC)cc2)c1 CCCCCOC(=O)CCCCC(=O)OCCCCCOC(=O)CCCCC(=O)OCCCCCOC(=O)CCCCC(=O)O',\n",
       " 'CCCCCc1ccc(CCCCCOC(=O)c2ccc(C(=O)OCCCCCc3ccc(CCCCCOC(=O)c4ccc(C(=O)OCCCCCc5ccc(CCCCCOC(=O)c6ccc(C(=O)O)cc6)cc5)cc4)cc3)cc2)cc1 CCOC(=O)CCCCCC(=O)OCCOC(=O)CCCCCC(=O)OCCOC(=O)CCCCCC(=O)O',\n",
       " 'CCCCCCCCCCOc1ccc(OCCCCCCCCCC)c(-c2ccc(-c3cc(OCCCCCCCCCC)c(-c4ccc(-c5cc(OCCCCCCCCCC)c(-c6ccccc6)cc5OCCCCCCCCCC)cc4)cc3OCCCCCCCCCC)cc2)c1 CCCCCCCCCCOC(=O)CCCCCCCCCCCCCCCCC(=O)OCCCCCCCCCCOC(=O)CCCCCCCCCCCCCCCCC(=O)OCCCCCCCCCCOC(=O)CCCCCCCCCCCCCCCCC(=O)O',\n",
       " 'CCCCCCOc1ccc(C(=O)N(C(=O)c2ccc(OCCCCCCOc3ccc(C(=O)N(C(=O)c4ccc(OCCCCCCOc5ccc(C(=O)N(C(=O)c6ccc(O)cc6)c6ccccc6)cc5)cc4)c4ccccc4)cc3)cc2)c2ccccc2)cc1 CCCCOC(=O)CCC(C)CC(=O)OCCCCOC(=O)CCC(C)CC(=O)OCCCCOC(=O)CCC(C)CC(=O)O',\n",
       " 'CCCCCCOc1ccc(C(=O)N(C(=O)c2ccc(OCCCCCCOc3ccc(C(=O)N(C(=O)c4ccc(OCCCCCCOc5ccc(C(=O)N(C(=O)c6ccc(O)cc6)c6ccccc6)cc5)cc4)c4ccccc4)cc3)cc2)c2ccccc2)cc1 CCCCCOC(=O)NC(=O)C1CC1C(=O)NC(=O)OCCCCCOC(=O)NC(=O)C1CC1C(=O)NC(=O)OCCCCCOC(=O)NC(=O)C1CC1C(=O)NC(=O)O',\n",
       " 'CCCCCCCCCCCCOc1cc(C(=O)Oc2ccc(OC(=O)c3cc(OCCCCCCCCCCCC)c(C(=O)Oc4ccc(OC(=O)c5cc(OCCCCCCCCCCCC)c(C(=O)Oc6ccc(O)cc6)cc5OCCCCCCCCCCCC)cc4)cc3OCCCCCCCCCCCC)cc2)c(OCCCCCCCCCCCC)cc1C=O CCCCCCCCCCOCCCCCCCCCCOCCCCCCCCCCO',\n",
       " 'CCCCCCOc1cc(-c2ccc(Oc3ccc(-c4nnc(-c5ccc(Oc6ccc(-c7cc(OCCCCCC)c(-c8ccc(Oc9ccc(-c%10nnc(-c%11ccc(Oc%12ccc(-c%13cc(OCCCCCC)c(-c%14ccc(Oc%15ccc(-c%16nnco%16)cc%15)cc%14)cc%13OCCCCCC)cc%12)cc%11)o%10)cc9)cc8)cc7OCCCCCC)cc6)cc5)o4)cc3)cc2)c(OCCCCCC)cc1-c1ccc(Oc2ccccc2)cc1 CCCCCCCCCOCOCCCCCCCCCOCOCCCCCCCCCOCO',\n",
       " 'CCCCCc1ccc(CCCCCOC(=O)c2ccc(C(=O)OCCCCCc3ccc(CCCCCOC(=O)c4ccc(C(=O)OCCCCCc5ccc(CCCCCOC(=O)c6ccc(C(=O)O)cc6)cc5)cc4)cc3)cc2)cc1 CCOCCOC(=O)CCCC(=O)OCCOCCOC(=O)CCCC(=O)OCCOCCOC(=O)CCCC(=O)O',\n",
       " 'CCN(CCOC(=O)Nc1ccc(C)c(NC(=O)OCCN(CCOC(=O)Nc2ccc(C)c(NC(=O)OCCN(CCOC(=O)Nc3ccc(C)c(NC(=O)O)c3)c3ccc(-c4c(NCCCO)c(=O)c4=O)cc3)c2)c2ccc(-c3c(NCCCO)c(=O)c3=O)cc2)c1)c1ccc(-c2c(NCCCO)c(=O)c2=O)cc1 CCOC(=O)NCCOCCOC(=O)NCCOCCOC(=O)NCCO',\n",
       " 'CCCCCCCCCCOc1ccc(OCCCCCCCCCC)c(-c2ccc(-c3cc(OCCCCCCCCCC)c(-c4ccc(-c5cc(OCCCCCCCCCC)c(-c6ccccc6)cc5OCCCCCCCCCC)cc4)cc3OCCCCCCCCCC)cc2)c1 CCCCCCCCCCCCCCCCCCOCOCCCCCCCCCCCCCCCCCCOCOCCCCCCCCCCCCCCCCCCOCO',\n",
       " 'FC(F)NC(F)(F)C(=S)C(F)(F)NC(F)(F)C(=S)C(F)(F)NC(F)(F)C=S NC(F)(F)NC(F)(F)NC(F)(F)NC(F)(F)NC(F)(F)NC(F)F',\n",
       " 'CCCCCc1ccc(CCCCCOC(=O)c2ccc(C(=O)OCCCCCc3ccc(CCCCCOC(=O)c4ccc(C(=O)OCCCCCc5ccc(CCCCCOC(=O)c6ccc(C(=O)O)cc6)cc5)cc4)cc3)cc2)cc1 CCCCCCOCCCCCCOCCCCCCO',\n",
       " 'CCCCCCCCCCCCCCCCOc1csc(-c2sc(-c3scc(C)c3OCCCCCCCCCCCCCCCC)c(C)c2OCCCCCCCCCCCCCCCC)c1C CCCCCCCOC(=O)CCCCCCCCC(=O)OCCCCCCCOC(=O)CCCCCCCCC(=O)OCCCCCCCOC(=O)CCCCCCCCC(=O)O',\n",
       " 'CCCCCc1ccc(CCCCCOC(=O)c2ccc(C(=O)OCCCCCc3ccc(CCCCCOC(=O)c4ccc(C(=O)OCCCCCc5ccc(CCCCCOC(=O)c6ccc(C(=O)O)cc6)cc5)cc4)cc3)cc2)cc1 CCCCCCOC(=O)OCCCCCCOC(=O)OCCCCCCOC(=O)O',\n",
       " 'CCOC(=O)c1ccc2ccc(C(=O)OCCOC(=O)c3ccc4ccc(C(=O)OCCOC(=O)c5ccc6ccc(C(=O)O)cc6c5)cc4c3)cc2c1 CCOC(=O)CC(=O)OCCOC(=O)CC(=O)OCCOC(=O)CC(=O)O',\n",
       " 'CCCCOC(=O)SSSC(=O)OCCCCOC(=O)SSSC(=O)OCCCCOC(=O)SSSC(=O)O CCOCCOC(=O)CCCCS(=O)(=O)CCCCC(=O)OCCOCCOC(=O)CCCCS(=O)(=O)CCCCC(=O)OCCOCCOC(=O)CCCCS(=O)(=O)CCCCC(=O)O',\n",
       " 'CCCCOC(=O)CC(=CC(=O)OCCCCOC(=O)CC(=CC(=O)OCCCCOC(=O)CC(=CC(=O)O)c1ccc(OCC)cc1)c1ccc(OCC)cc1)c1ccc(OCC)cc1 CCCCOC(=O)CC(=O)OCCCCOC(=O)CC(=O)OCCCCOC(=O)CC(=O)O',\n",
       " 'CCCCCCCCOc1cc(N2C(=O)c3ccccc3C2=O)cc(N2C(=O)c3ccc(C(=O)c4ccc5c(c4)C(=O)N(c4cc(OCCCCCCCC)cc(N6C(=O)c7ccc(C(=O)c8ccc9c(c8)C(=O)N(c8cc(OCCCCCCCC)cc(N%10C(=O)c%11ccc(C=O)cc%11C%10=O)c8)C9=O)cc7C6=O)c4)C5=O)cc3C2=O)c1 CCCCCCOC(=O)CCCCCCCC(=O)OCCCCCCOC(=O)CCCCCCCC(=O)OCCCCCCOC(=O)CCCCCCCC(=O)O',\n",
       " 'CCCCCCCCOc1ccc(-c2csc(-c3sc(-c4sccc4-c4ccc(OCCCCCCCC)cc4)cc3-c3ccc(OCCCCCCCC)cc3)c2)cc1 CCCCCCCCCCOCCCCCCCCCCOCCCCCCCCCCO',\n",
       " 'CCCCCC[N+](C)(C)CCCCCC[N+](C)(C)CCCCCC[N+](C)C CCCCCCCCCCOC(=O)CC(=O)OCCCCCCCCCCOC(=O)CC(=O)OCCCCCCCCCCOC(=O)CC(=O)O',\n",
       " 'CCOC(=O)c1ccc2ccc(C(=O)OCCOC(=O)c3ccc4ccc(C(=O)OCCOC(=O)c5ccc6ccc(C(=O)O)cc6c5)cc4c3)cc2c1 CCCCC(=O)OCCCCC(=O)OCCCCC(=O)O',\n",
       " 'CCCCCCOc1ccc(C(=O)N(C(=O)c2ccc(OCCCCCCOc3ccc(C(=O)N(C(=O)c4ccc(OCCCCCCOc5ccc(C(=O)N(C(=O)c6ccc(O)cc6)c6ccccc6)cc5)cc4)c4ccccc4)cc3)cc2)c2ccccc2)cc1 CCCCCNC(=O)OCCCCCNC(=O)OCCCCCNC(=O)O',\n",
       " 'CCCCCCCCCCOc1ccc(OCCCCCCCCCC)c(-c2ccc(-c3cc(OCCCCCCCCCC)c(-c4ccc(-c5cc(OCCCCCCCCCC)c(-c6ccccc6)cc5OCCCCCCCCCC)cc4)cc3OCCCCCCCCCC)cc2)c1 CCCCOC(=O)C(OC)C(OC)C(=O)OCCCCOC(=O)C(OC)C(OC)C(=O)OCCCCOC(=O)C(OC)C(OC)C(=O)O',\n",
       " 'CCOC(=O)c1ccc2ccc(C(=O)OCCOC(=O)c3ccc4ccc(C(=O)OCCOC(=O)c5ccc6ccc(C(=O)O)cc6c5)cc4c3)cc2c1 CCCCCCOC(=O)C1CCC(C(=O)OCCCCCCOC(=O)C2CCC(C(=O)OCCCCCCOC(=O)C3CCC(C(=O)O)CC3)CC2)CC1',\n",
       " 'CCCCCCCCCCCCOc1cc(C(=O)Oc2ccc(OC(=O)c3cc(OCCCCCCCCCCCC)c(C(=O)Oc4ccc(OC(=O)c5cc(OCCCCCCCCCCCC)c(C(=O)Oc6ccc(O)cc6)cc5OCCCCCCCCCCCC)cc4)cc3OCCCCCCCCCCCC)cc2)c(OCCCCCCCCCCCC)cc1C=O CCCCCCCCCCCCCCCCOC(=O)CCCCC(=O)OCCCCCCCCCCCCCCCCOC(=O)CCCCC(=O)OCCCCCCCCCCCCCCCCOC(=O)CCCCC(=O)O',\n",
       " 'CCCCCc1ccc(CCCCCOC(=O)c2ccc(C(=O)OCCCCCc3ccc(CCCCCOC(=O)c4ccc(C(=O)OCCCCCc5ccc(CCCCCOC(=O)c6ccc(C(=O)O)cc6)cc5)cc4)cc3)cc2)cc1 CCCCCCCCCCCC',\n",
       " 'CCCCOC(=O)CC(=CC(=O)OCCCCOC(=O)CC(=CC(=O)OCCCCOC(=O)CC(=CC(=O)O)c1ccc(OCC)cc1)c1ccc(OCC)cc1)c1ccc(OCC)cc1 CCCCCOC(=O)CCCCS(=O)(=O)CCCCC(=O)OCCCCCOC(=O)CCCCS(=O)(=O)CCCCC(=O)OCCCCCOC(=O)CCCCS(=O)(=O)CCCCC(=O)O',\n",
       " 'CC(CC(CCC(=O)OCCCOc1ccc(-c2ccc(C#N)cc2)cc1)C(=O)OCCCOc1ccc(-c2ccc(C#N)cc2)cc1)C(=O)OCCCOc1ccc(-c2ccc(C#N)cc2)cc1 CCCOC(=O)CCCCC(=O)OCCCOC(=O)CCCCC(=O)OCCCOC(=O)CCCCC(=O)O',\n",
       " 'CCCCCCCCCCCCOc1ccc(C=NN=Cc2ccc(OCCCCCCCCCCCCOc3ccc(C=NN=Cc4ccc(OCCCCCCCCCCCCOc5ccc(C=NN=Cc6ccc(O)cc6O)c(O)c5)cc4O)c(O)c3)cc2O)c(O)c1 CCCCCCOC(=O)CCCCCCCC(=O)OCCCCCCOC(=O)CCCCCCCC(=O)OCCCCCCOC(=O)CCCCCCCC(=O)O',\n",
       " 'CCCCCOCCCCCCOc1cc(C(=O)Oc2ccc(OC(=O)c3cc(OCCCCCCOCCCCC)c(C(=O)Oc4ccc(OC(=O)c5cc(OCCCCCCOCCCCC)c(C(=O)Oc6ccc(O)cc6)cc5OCCCCCCOCCCCC)cc4)cc3OCCCCCCOCCCCC)cc2)c(OCCCCCCOCCCCC)cc1C=O CCCCCOC(=O)CCCCC(=O)OCCCCCOC(=O)CCCCC(=O)OCCCCCOC(=O)CCCCC(=O)O',\n",
       " 'CCCCCCCCCCCCOc1cc(C(=O)Oc2ccc(OC(=O)c3cc(OCCCCCCCCCCCC)c(C(=O)Oc4ccc(OC(=O)c5cc(OCCCCCCCCCCCC)c(C(=O)Oc6ccc(O)cc6)cc5OCCCCCCCCCCCC)cc4)cc3OCCCCCCCCCCCC)cc2)c(OCCCCCCCCCCCC)cc1C=O CCCCCCCCCCCCOCCCCCCCCCCCCOCCCCCCCCCCCCO',\n",
       " 'CCCCCCCCCCCCOc1cc(C(=O)Oc2ccc(OC(=O)c3cc(OCCCCCCCCCCCC)c(C(=O)Oc4ccc(OC(=O)c5cc(OCCCCCCCCCCCC)c(C(=O)Oc6ccc(O)cc6)cc5OCCCCCCCCCCCC)cc4)cc3OCCCCCCCCCCCC)cc2)c(OCCCCCCCCCCCC)cc1C=O CCCCCCCCCCCCOC(=O)NCCCCCCNC(=O)OCCCCCCCCCCCCOC(=O)NCCCCCCNC(=O)OCCCCCCCCCCCCOC(=O)NCCCCCCNC(=O)O',\n",
       " 'CCCCCCCCCCCCOc1cc(C(=O)Oc2ccc(OC(=O)c3cc(OCCCCCCCCCCCC)c(C(=O)Oc4ccc(OC(=O)c5cc(OCCCCCCCCCCCC)c(C(=O)Oc6ccc(O)cc6)cc5OCCCCCCCCCCCC)cc4)cc3OCCCCCCCCCCCC)cc2)c(OCCCCCCCCCCCC)cc1C=O CCCCCCCCCCOCCCCCCCCCCOCCCCCCOCCCCCCCCCCOCCCCCCCCCCOCCCCCCOCCCCCCCCCCOCCCCCCCCCCOCCCCCCO',\n",
       " 'CCCCOC(=O)CC(=CC(=O)OCCCCOC(=O)CC(=CC(=O)OCCCCOC(=O)CC(=CC(=O)O)c1ccc(OCC)cc1)c1ccc(OCC)cc1)c1ccc(OCC)cc1 CCCOC(=O)CCCC(=O)OCCCOC(=O)CCCC(=O)OCCCOC(=O)CCCC(=O)O',\n",
       " 'CC(=NN=C(C)c1ccc(OC(=O)CCCCCCCCC(=O)Oc2ccc(C(C)=NN=C(C)c3ccc(OC(=O)CCCCCCCCC(=O)Oc4ccc(C(C)=NN=C(C)c5ccc(OC(=O)CCCCCCCCC=O)cc5)cc4)cc3)cc2)cc1)c1ccc(O)cc1 O=CCCCCCCCCCCCC(=O)OC(=O)CCCCCCCCCCCC(=O)OC(=O)CCCCCCCCCCCC(=O)O',\n",
       " 'CCCCCCCCOC(=O)Cc1c[nH]c(-c2[nH]c(-c3[nH]ccc3CC(=O)OCCCCCCCC)cc2CC(=O)OCCCCCCCC)c1 CCCCCOC(=O)OCCCCCOC(=O)OCCCCCOC(=O)O',\n",
       " 'CCCCCCOc1ccc(C(=O)N(C(=O)c2ccc(OCCCCCCOc3ccc(C(=O)N(C(=O)c4ccc(OCCCCCCOc5ccc(C(=O)N(C(=O)c6ccc(O)cc6)c6ccccc6)cc5)cc4)c4ccccc4)cc3)cc2)c2ccccc2)cc1 CCOC(=O)CCCCCCCCC(=O)OCCOC(=O)CCCCCCCCC(=O)OCCOC(=O)CCCCCCCCC(=O)O',\n",
       " 'CCCCCCOc1ccc(C(=O)N(C(=O)c2ccc(OCCCCCCOc3ccc(C(=O)N(C(=O)c4ccc(OCCCCCCOc5ccc(C(=O)N(C(=O)c6ccc(O)cc6)c6ccccc6)cc5)cc4)c4ccccc4)cc3)cc2)c2ccccc2)cc1 CCCOC(=O)CC(=O)OCCCOC(=O)CC(=O)OCCCOC(=O)CC(=O)O',\n",
       " 'CCOC(=O)c1ccc2ccc(C(=O)OCCOC(=O)c3ccc4ccc(C(=O)OCCOC(=O)c5ccc6ccc(C(=O)O)cc6c5)cc4c3)cc2c1 CCCOC(=O)CCCCCCCCCCC(=O)OCCCOC(=O)CCCCCCCCCCC(=O)OCCCOC(=O)CCCCCCCCCCC(=O)O',\n",
       " 'C=CCOC(=O)c1cc(C(=O)Oc2ccc(OCCCCOc3ccc(OC(=O)c4ccc(C(=O)Oc5ccc(OCCCCOc6ccc(OC(=O)c7ccc(C(=O)Oc8ccc(OCCCC)cc8)cc7C(=O)OCC=C)cc6)cc5)cc4C(=O)OCC=C)cc3)cc2)ccc1C(=O)Oc1ccc(O)cc1 CCCCCOC(=O)NCCCCCCNC(=O)OCCCCCOC(=O)NCCCCCCNC(=O)OCCCCCOC(=O)NCCCCCCNC(=O)O',\n",
       " 'C=Cc1cc(OCCCCCC)c(C=Cc2cc(OCCCCCC)c(C=Cc3cc(OCCCCCC)ccc3OC)cc2OC)cc1OC CCCCCCCCCCOC(=O)CCCCCCCC(=O)OCCCCCCCCCCOC(=O)CCCCCCCC(=O)OCCCCCCCCCCOC(=O)CCCCCCCC(=O)O',\n",
       " 'CCCCOC(=O)SSSC(=O)OCCCCOC(=O)SSSC(=O)OCCCCOC(=O)SSSC(=O)O CCCCCCCCCCOC(=O)CCCCCCC(=O)OCCCCCCCCCCOC(=O)CCCCCCC(=O)OCCCCCCCCCCOC(=O)CCCCCCC(=O)O',\n",
       " 'CCCCCCCCCCOc1ccc(OCCCCCCCCCC)c(-c2ccc(-c3cc(OCCCCCCCCCC)c(-c4ccc(-c5cc(OCCCCCCCCCC)c(-c6ccccc6)cc5OCCCCCCCCCC)cc4)cc3OCCCCCCCCCC)cc2)c1 CCCCCCCCCCOC(=O)CCCCC(=O)OCCCCCCCCCCOC(=O)CCCCC(=O)OCCCCCCCCCCOC(=O)CCCCC(=O)O',\n",
       " 'CCCCCCOc1ccc(-c2csc(-c3sc(-c4sccc4-c4ccc(OCCCCCC)cc4)cc3-c3ccc(OCCCCCC)cc3)c2)cc1 CCCCCCCCCCOCCCCCCCCCCOCCCCCCCCCCO',\n",
       " 'CCCCCCOc1csc(-c2sc(-c3scc(C)c3OCCCCCC)c(C)c2OCCCCCC)c1C CCCCCCCCCCOC(=O)CCC(=O)OCCCCCCCCCCOC(=O)CCC(=O)OCCCCCCCCCCOC(=O)CCC(=O)O',\n",
       " 'CC(=NN=C(C)c1ccc(OC(=O)CCCCCCCCC(=O)Oc2ccc(C(C)=NN=C(C)c3ccc(OC(=O)CCCCCCCCC(=O)Oc4ccc(C(C)=NN=C(C)c5ccc(OC(=O)CCCCCCCCC=O)cc5)cc4)cc3)cc2)cc1)c1ccc(O)cc1 CC1CCC(COC(=O)CCCCCC(=O)OCC2CCC(COC(=O)CCCCCC(=O)OCC3CCC(COC(=O)CCCCCC(=O)O)CC3)CC2)CC1',\n",
       " 'CCCCCCCCCCCCOc1cc(C(=O)Oc2ccc(OC(=O)c3cc(OCCCCCCCCCCCC)c(C(=O)Oc4ccc(OC(=O)c5cc(OCCCCCCCCCCCC)c(C(=O)Oc6ccc(O)cc6)cc5OCCCCCCCCCCCC)cc4)cc3OCCCCCCCCCCCC)cc2)c(OCCCCCCCCCCCC)cc1C=O CCCCCCCCCCOCCCCCCCCCCOCCCCOCCCCCCCCCCOCCCCCCCCCCOCCCCOCCCCCCCCCCOCCCCCCCCCCOCCCCO',\n",
       " 'CC(CC(CCC(=O)Oc1ccc([N+](=O)[O-])cc1)C(=O)Oc1ccc([N+](=O)[O-])cc1)C(=O)Oc1ccc([N+](=O)[O-])cc1 CC(C)COC(=O)CCC(CC(C)C(=O)OCC(C)C)C(=O)OCC(C)C',\n",
       " 'CCCCCCCCCCOc1ccc(OCCCCCCCCCC)c(-c2ccc(-c3cc(OCCCCCCCCCC)c(-c4ccc(-c5cc(OCCCCCCCCCC)c(-c6ccccc6)cc5OCCCCCCCCCC)cc4)cc3OCCCCCCCCCC)cc2)c1 CCCCCOC(=O)OCCCCCOC(=O)OCCCCCOC(=O)O',\n",
       " 'C=Cc1cc(OCCCCCC)c(C=Cc2cc(OCCCCCC)c(C=Cc3cc(OCCCCCC)ccc3OC)cc2OC)cc1OC CCCCCCCCCCOC(=O)CC(C)(C)CC(=O)OCCCCCCCCCCOC(=O)CC(C)(C)CC(=O)OCCCCCCCCCCOC(=O)CC(C)(C)CC(=O)O',\n",
       " 'CCCCCCCCCCOc1ccc(OCCCCCCCCCC)c(-c2ccc(-c3cc(OCCCCCCCCCC)c(-c4ccc(-c5cc(OCCCCCCCCCC)c(-c6ccccc6)cc5OCCCCCCCCCC)cc4)cc3OCCCCCCCCCC)cc2)c1 CCCCCCCCCCOCCCCCCCCCCOCCCCOCCCCCCCCCCOCCCCCCCCCCOCCCCOCCCCCCCCCCOCCCCCCCCCCOCCCCO',\n",
       " 'CCCCCCCCOC(=O)Cc1c[nH]c(-c2[nH]c(-c3[nH]ccc3CC(=O)OCCCCCCCC)cc2CC(=O)OCCCCCCCC)c1 CCCCCCCCCC(=O)OCCCCCCCCCC(=O)OCCCCCCCCCC(=O)O',\n",
       " 'CCCCCCCCOC(=O)Cc1c[nH]c(-c2[nH]c(-c3[nH]ccc3CC(=O)OCCCCCCCC)cc2CC(=O)OCCCCCCCC)c1 CCOCCOC(=O)CCCCCCCCC(=O)OCCOCCOC(=O)CCCCCCCCC(=O)OCCOCCOC(=O)CCCCCCCCC(=O)O',\n",
       " 'CCCCCCCCCCCCOC(=O)c1cc(-c2cc(C(=O)CCCCCCCCCCCC)cs2)sc1-c1ccc(-c2ccc(-c3sc(-c4cc(C(=O)OCCCCCCCCCCCC)c(-c5ccc(-c6ccc(-c7sc(-c8cc(C(=O)OCCCCCCCCCCCC)c(-c9ccc(-c%10cccs%10)s9)s8)cc7C(=O)CCCCCCCCCCCC)s6)s5)s4)cc3C(=O)CCCCCCCCCCCC)s2)s1 CCCOC(=O)CCCCC(=O)OCCCOC(=O)CCCCC(=O)OCCCOC(=O)CCCCC(=O)O',\n",
       " 'CCCCCCCCCCCCOc1ccc(C=NN=Cc2ccc(OCCCCCCCCCCCCOc3ccc(C=NN=Cc4ccc(OCCCCCCCCCCCCOc5ccc(C=NN=Cc6ccc(O)cc6O)c(O)c5)cc4O)c(O)c3)cc2O)c(O)c1 CCCCCOC(=O)NCC(F)(F)C(F)(F)C(F)(F)C(F)(F)CNC(=O)OCCCCCOC(=O)NCC(F)(F)C(F)(F)C(F)(F)C(F)(F)CNC(=O)OCCCCCOC(=O)NCC(F)(F)C(F)(F)C(F)(F)C(F)(F)CNC(=O)O',\n",
       " 'CCOC(=O)c1ccc2ccc(C(=O)OCCOC(=O)c3ccc4ccc(C(=O)OCCOC(=O)c5ccc6ccc(C(=O)O)cc6c5)cc4c3)cc2c1 CCCCOC(=O)NCCCCCCNC(=O)OCCCCOC(=O)NCCCCCCNC(=O)OCCCCOC(=O)NCCCCCCNC(=O)O',\n",
       " 'CCOCCOCCOCCOCCOc1ccc(C(=O)Nc2cc(NC(=O)c3ccc(OCCOCCOCCOCCOCCOc4ccc(C(=O)Nc5cc(NC(=O)c6ccc(OCCOCCOCCOCCOCCOc7ccc(C(=O)Nc8cc(NC(=O)c9ccc(O)cc9)cc(-c9nc%10ccccc%10[nH]9)c8)cc7)cc6)cc(-c6nc7ccccc7[nH]6)c5)cc4)cc3)cc(-c3nc4ccccc4[nH]3)c2)cc1 CCOCCOC(=O)CCCCCCC(=O)OCCOCCOC(=O)CCCCCCC(=O)OCCOCCOC(=O)CCCCCCC(=O)O',\n",
       " 'CCCCCCCCOC(=O)Cc1c[nH]c(-c2[nH]c(-c3[nH]ccc3CC(=O)OCCCCCCCC)cc2CC(=O)OCCCCCCCC)c1 CCCCCCCCCCOC(=O)CCC(=O)OCCCCCCCCCCOC(=O)CCC(=O)OCCCCCCCCCCOC(=O)CCC(=O)O',\n",
       " 'CC(=NN=C(C)c1ccc(OC(=O)CCCCCCCCC(=O)Oc2ccc(C(C)=NN=C(C)c3ccc(OC(=O)CCCCCCCCC(=O)Oc4ccc(C(C)=NN=C(C)c5ccc(OC(=O)CCCCCCCCC=O)cc5)cc4)cc3)cc2)cc1)c1ccc(O)cc1 CCCOC(=O)CCCCCCC(=O)OCCCOC(=O)CCCCCCC(=O)OCCCOC(=O)CCCCCCC(=O)O',\n",
       " 'CC(CC(CCC(=O)OCCCOc1ccc(-c2ccc(C#N)cc2)cc1)C(=O)OCCCOc1ccc(-c2ccc(C#N)cc2)cc1)C(=O)OCCCOc1ccc(-c2ccc(C#N)cc2)cc1 CCCCCCOC(=O)CCC(C)CC(=O)OCCCCCCOC(=O)CCC(C)CC(=O)OCCCCCCOC(=O)CCC(C)CC(=O)O',\n",
       " 'CCCCCCCCOC(=O)Cc1c[nH]c(-c2[nH]c(-c3[nH]ccc3CC(=O)OCCCCCCCC)cc2CC(=O)OCCCCCCCC)c1 CCCCCOC(=O)CCCCS(=O)(=O)CCCCC(=O)OCCCCCOC(=O)CCCCS(=O)(=O)CCCCC(=O)OCCCCCOC(=O)CCCCS(=O)(=O)CCCCC(=O)O',\n",
       " 'CCCCOC(=O)CC(=CC(=O)OCCCCOC(=O)CC(=CC(=O)OCCCCOC(=O)CC(=CC(=O)O)c1ccc(OCC)cc1)c1ccc(OCC)cc1)c1ccc(OCC)cc1 CCCCCCCCCCOC(=O)C1CCC(C(=O)OCCCCCCCCCCOC(=O)C2CCC(C(=O)OCCCCCCCCCCOC(=O)C3CCC(C(=O)O)CC3)CC2)CC1',\n",
       " 'CCCCCCCCCCCCOC(=O)c1csc(-c2ccc(-c3sc(-c4ccc(-c5sc(-c6cccs6)cc5C(=O)OCCCCCCCCCCCC)s4)cc3C(=O)OCCCCCCCCCCCC)s2)c1 CCCCCCCCCCCCOC(=O)CCCCCCCCCCCCC(=O)OCCCCCCCCCCCCOC(=O)CCCCCCCCCCCCC(=O)OCCCCCCCCCCCCOC(=O)CCCCCCCCCCCCC(=O)O',\n",
       " 'CCCC(=S)CCCC(=S)CCCC=S CCCOC(=O)CCCC(=O)OCCCOC(=O)CCCC(=O)OCCCOC(=O)CCCC(=O)O',\n",
       " 'FC(F)C(F)(F)CC(=S)C(F)(F)C(F)(F)CC(=S)C(F)(F)C(F)(F)CC=S OCC(F)(F)C(F)(F)OCC(F)(F)C(F)(F)OCC(F)(F)C(F)F',\n",
       " 'Nc1ccc(-c2ccc(NC(=O)CCCCCCCCC(=O)Nc3ccc(-c4ccc(NC(=O)CCCCCCCCC(=O)Nc5ccc(-c6ccc(NC(=O)CCCCCCCCC=O)c(O)c6)cc5O)c(O)c4)cc3O)c(O)c2)cc1O CC(O)CCOC(=O)CCCCC(=O)OC(C)CCOC(=O)CCCCC(=O)OC(C)CCOC(=O)CCCCC=O',\n",
       " 'CC(CC(CCC(=O)Oc1ccc([N+](=O)[O-])cc1)C(=O)Oc1ccc([N+](=O)[O-])cc1)C(=O)Oc1ccc([N+](=O)[O-])cc1 CCOC(=O)CCC(CC(C)C(=O)OCC)C(=O)OCC',\n",
       " 'CCCCCOc1csc(-c2cc(OCCCCC)c(-c3sc(-c4cc(OCCCCC)c(-c5sc(-c6cc(OCCCCC)cs6)cc5OCCCCC)s4)cc3OCCCCC)s2)c1 CCCCOC(=O)CCCCC(=O)OCCCCOC(=O)CCCCC(=O)OCCCCOC(=O)CCCCC(=O)O',\n",
       " 'CCCCCCCCCCCCOc1cc(Nc2ccc(Nc3ccccc3OCCCCCCCCCCCC)cc2OCCCCCCCCCCCC)ccc1N CCCCCCCCOCCCCCCCCOCCCCCCCCO',\n",
       " 'CCCCCCCCCCCCCCCCOc1csc(-c2sc(-c3scc(C)c3OCCCCCCCCCCCCCCCC)c(C)c2OCCCCCCCCCCCCCCCC)c1C CCCCCCCCCOCOCCCCCCCCCOCOCCCCCCCCCOCO',\n",
       " 'CCCCCOCCCCCCOc1cc(C(=O)Oc2ccc(OC(=O)c3cc(OCCCCCCOCCCCC)c(C(=O)Oc4ccc(OC(=O)c5cc(OCCCCCCOCCCCC)c(C(=O)Oc6ccc(O)cc6)cc5OCCCCCCOCCCCC)cc4)cc3OCCCCCCOCCCCC)cc2)c(OCCCCCCOCCCCC)cc1C=O CCCCCCOC(=O)C1CCC(C(=O)OCCCCCCOC(=O)C2CCC(C(=O)OCCCCCCOC(=O)C3CCC(C(=O)O)CC3)CC2)CC1',\n",
       " 'N#CC(C#N)C(c1ccccc1)C(C#N)(C#N)C(c1ccccc1)C(C#N)(C#N)Cc1ccccc1 CC(C#N)(C#N)C(C#N)C(C#N)(C#N)CC(C#N)(C#N)C(C#N)C(C#N)(C#N)CC(C#N)(C#N)C(C#N)C(C#N)C#N',\n",
       " 'CC(CC(CCC(=O)OCCCOc1ccc(-c2ccc(C#N)cc2)cc1)C(=O)OCCCOc1ccc(-c2ccc(C#N)cc2)cc1)C(=O)OCCCOc1ccc(-c2ccc(C#N)cc2)cc1 CC(CC(CCC(=O)OCF)C(=O)OCF)C(=O)OCF',\n",
       " 'CCCCCCCCCCOc1cccc(OC(=O)c2ccc(C(=O)Oc3cccc(OCCCCCCCCCCOc4cccc(OC(=O)c5ccc(C(=O)Oc6cccc(OCCCCCCCCCCOc7cccc(OC(=O)c8ccc(C(=O)Oc9cccc(O)c9)cc8)c7)c6)cc5)c4)c3)cc2)c1 CCCCCCCCCC(=O)OCCCCCCCCCC(=O)OCCCCCCCCCC(=O)O',\n",
       " 'CCCCCCCCCCCCOc1csc(-c2ccc(-c3ccc(-c4sc(-c5ccc(-c6ccc(-c7sc(-c8ccc(-c9cccs9)s8)cc7OCCCCCCCCCCCC)s6)s5)cc4OCCCCCCCCCCCC)s3)s2)c1 CCCCCCCCC(=O)OCCCCCCCCC(=O)OCCCCCCCCC(=O)O',\n",
       " 'CCCCOC(=O)SSSC(=O)OCCCCOC(=O)SSSC(=O)OCCCCOC(=O)SSSC(=O)O CCCCCCCCCCOC(=O)CCCCCCCCCCCCCCCCC(=O)OCCCCCCCCCCOC(=O)CCCCCCCCCCCCCCCCC(=O)OCCCCCCCCCCOC(=O)CCCCCCCCCCCCCCCCC(=O)O',\n",
       " 'CC(CC(CCC(=O)OCCCOc1ccc(-c2ccc(C#N)cc2)cc1)C(=O)OCCCOc1ccc(-c2ccc(C#N)cc2)cc1)C(=O)OCCCOc1ccc(-c2ccc(C#N)cc2)cc1 CCCCCCCCCCCCCCCCOC(=O)CCCCCCC(=O)OCCCCCCCCCCCCCCCCOC(=O)CCCCCCC(=O)OCCCCCCCCCCCCCCCCOC(=O)CCCCCCC(=O)O',\n",
       " 'CCCCOC(=O)SSSC(=O)OCCCCOC(=O)SSSC(=O)OCCCCOC(=O)SSSC(=O)O CCCCCOC(=O)NCC(F)(F)C(F)(F)C(F)(F)C(F)(F)CNC(=O)OCCCCCOC(=O)NCC(F)(F)C(F)(F)C(F)(F)C(F)(F)CNC(=O)OCCCCCOC(=O)NCC(F)(F)C(F)(F)C(F)(F)C(F)(F)CNC(=O)O',\n",
       " 'CCCCCCCCCCCCOC(=O)c1cc(-c2cc(C(=O)CCCCCCCCCCCC)cs2)sc1-c1ccc(-c2ccc(-c3sc(-c4cc(C(=O)OCCCCCCCCCCCC)c(-c5ccc(-c6ccc(-c7sc(-c8cc(C(=O)OCCCCCCCCCCCC)c(-c9ccc(-c%10cccs%10)s9)s8)cc7C(=O)CCCCCCCCCCCC)s6)s5)s4)cc3C(=O)CCCCCCCCCCCC)s2)s1 CCCCCOC(=O)CCCCC(=O)OCCCCCOC(=O)CCCCC(=O)OCCCCCOC(=O)CCCCC(=O)O',\n",
       " 'CCCCCCCCCCCCOC(=O)c1csc(-c2ccc(-c3sc(-c4ccc(-c5sc(-c6cccs6)cc5C(=O)OCCCCCCCCCCCC)s4)cc3C(=O)OCCCCCCCCCCCC)s2)c1 CCCCCCOCCCCCCOCCCCCCO',\n",
       " 'CCCCCCCCCCCCCCCCOc1csc(-c2sc(-c3scc(C)c3OCCCCCCCCCCCCCCCC)c(C)c2OCCCCCCCCCCCCCCCC)c1C CCCCCCCCCCOC(=O)OCCCCCCCCCCOC(=O)OCCCCCCCCCCOC(=O)O',\n",
       " 'CCCCCCCCCCOc1cccc(OC(=O)c2ccc(C(=O)Oc3cccc(OCCCCCCCCCCOc4cccc(OC(=O)c5ccc(C(=O)Oc6cccc(OCCCCCCCCCCOc7cccc(OC(=O)c8ccc(C(=O)Oc9cccc(O)c9)cc8)c7)c6)cc5)c4)c3)cc2)c1 CCCC(=O)OCCCC(=O)OCCCC(=O)O',\n",
       " 'CCOC(=O)c1ccc2ccc(C(=O)OCCOC(=O)c3ccc4ccc(C(=O)OCCOC(=O)c5ccc6ccc(C(=O)O)cc6c5)cc4c3)cc2c1 CCCCCCCCOC(=O)OCCCCCCCCOC(=O)OCCCCCCCCOC(=O)O',\n",
       " 'CCCCCCCCCCCCOc1cc(C(=O)Oc2ccc(OC(=O)c3cc(OCCCCCCCCCCCC)c(C(=O)Oc4ccc(OC(=O)c5cc(OCCCCCCCCCCCC)c(C(=O)Oc6ccc(O)cc6)cc5OCCCCCCCCCCCC)cc4)cc3OCCCCCCCCCCCC)cc2)c(OCCCCCCCCCCCC)cc1C=O CCCCOCOCCCCCOCOCCCCCOCOC',\n",
       " 'CC(CC(CCC(=O)OCCOC(=O)c1cc([N+](=O)[O-])cc([N+](=O)[O-])c1)C(=O)OCCOC(=O)c1cc([N+](=O)[O-])cc([N+](=O)[O-])c1)C(=O)OCCOC(=O)c1cc([N+](=O)[O-])cc([N+](=O)[O-])c1 CC(CC(CCC(N)=O)C(N)=O)C(N)=O',\n",
       " 'CCCCOc1ccc(C=C2CCC(=Cc3ccc(OCCCCOc4ccc(C=C5CCC(=Cc6ccc(OCCCCOc7ccc(C=C8CCC(=Cc9ccc(O)cc9)C8=O)cc7)cc6)C5=O)cc4)cc3)C2=O)cc1 CCCCCCCCCCOCCCCCCCCCCOCCCCCCOCCCCCCCCCCOCCCCCCCCCCOCCCCCCOCCCCCCCCCCOCCCCCCCCCCOCCCCCCO',\n",
       " 'CCCCCOCCCCCCOc1cc(C(=O)Oc2ccc(OC(=O)c3cc(OCCCCCCOCCCCC)c(C(=O)Oc4ccc(OC(=O)c5cc(OCCCCCCOCCCCC)c(C(=O)Oc6ccc(O)cc6)cc5OCCCCCCOCCCCC)cc4)cc3OCCCCCCOCCCCC)cc2)c(OCCCCCCOCCCCC)cc1C=O CCCCCOC(=O)NCCCCCCNC(=O)OCCCCCOC(=O)NCCCCCCNC(=O)OCCCCCOC(=O)NCCCCCCNC(=O)O',\n",
       " 'CCCCOc1ccc(C=C2CCC(=Cc3ccc(OCCCCOc4ccc(C=C5CCC(=Cc6ccc(OCCCCOc7ccc(C=C8CCC(=Cc9ccc(O)cc9)C8=O)cc7)cc6)C5=O)cc4)cc3)C2=O)cc1 CCCCCCCCCCOC(=O)CCCCC(=O)OCCCCCCCCCCOC(=O)CCCCC(=O)OCCCCCCCCCCOC(=O)CCCCC(=O)O',\n",
       " 'CCCCOC(=O)CC(=CC(=O)OCCCCOC(=O)CC(=CC(=O)OCCCCOC(=O)CC(=CC(=O)O)c1ccc(OCC)cc1)c1ccc(OCC)cc1)c1ccc(OCC)cc1 CCCCCCCCCCCCCCCCOC(=O)CCCCC(=O)OCCCCCCCCCCCCCCCCOC(=O)CCCCC(=O)OCCCCCCCCCCCCCCCCOC(=O)CCCCC(=O)O',\n",
       " 'CCCCCCCCCCOc1ccc(OCCCCCCCCCC)c(-c2ccc(-c3cc(OCCCCCCCCCC)c(-c4ccc(-c5cc(OCCCCCCCCCC)c(-c6ccccc6)cc5OCCCCCCCCCC)cc4)cc3OCCCCCCCCCC)cc2)c1 CCCCCCCCCCOCCCCCCCCCCOCCCCCCOCCCCCCCCCCOCCCCCCCCCCOCCCCCCOCCCCCCCCCCOCCCCCCCCCCOCCCCCCO',\n",
       " 'CCCCCCCCCCCCOc1cc(Nc2ccc(Nc3ccccc3OCCCCCCCCCCCC)cc2OCCCCCCCCCCCC)ccc1N CCCCCOC(=O)CCCCC(=O)OCCCCCOC(=O)CCCCC(=O)OCCCCCOC(=O)CCCCC(=O)O',\n",
       " 'CCCCCCOC(=O)C(CCCCCCOc1ccc(-c2ccc(OCc3ccc([N+](=O)[O-])cc3)cc2)cc1)C(=O)OCCCCCCOC(=O)C(CCCCCCOc1ccc(-c2ccc(OCc3ccc([N+](=O)[O-])cc3)cc2)cc1)C(=O)OCCCCCCOC(=O)C(CCCCCCOc1ccc(-c2ccc(OCc3ccc([N+](=O)[O-])cc3)cc2)cc1)C(=O)O CCCCCOC(=O)NC(=O)C1CC1C(=O)NC(=O)OCCCCCOC(=O)NC(=O)C1CC1C(=O)NC(=O)OCCCCCOC(=O)NC(=O)C1CC1C(=O)NC(=O)O',\n",
       " 'CCOC(=O)c1ccc2ccc(C(=O)OCCOC(=O)c3ccc4ccc(C(=O)OCCOC(=O)c5ccc6ccc(C(=O)O)cc6c5)cc4c3)cc2c1 CCOC(=O)COCC(=O)OCCOC(=O)COCC(=O)OCCOC(=O)COCC(=O)O',\n",
       " 'CCCCCCCCOc1cc(N2C(=O)c3ccccc3C2=O)cc(N2C(=O)c3ccc(C(=O)c4ccc5c(c4)C(=O)N(c4cc(OCCCCCCCC)cc(N6C(=O)c7ccc(C(=O)c8ccc9c(c8)C(=O)N(c8cc(OCCCCCCCC)cc(N%10C(=O)c%11ccc(C=O)cc%11C%10=O)c8)C9=O)cc7C6=O)c4)C5=O)cc3C2=O)c1 CCCCCCCCCCOC(=O)C(O)C(O)C(=O)OCCCCCCCCCCOC(=O)C(O)C(O)C(=O)OCCCCCCCCCCOC(=O)C(O)C(O)C(=O)O',\n",
       " 'CCCCCCOc1ccc(-c2csc(-c3sc(-c4sccc4-c4ccc(OCCCCCC)cc4)cc3-c3ccc(OCCCCCC)cc3)c2)cc1 CCCCCCOC(=O)CC(=O)OCCCCCCOC(=O)CC(=O)OCCCCCCOC(=O)CC(=O)O',\n",
       " 'CCCCOc1ccc(C=C2CCC(=Cc3ccc(OCCCCOc4ccc(C=C5CCC(=Cc6ccc(OCCCCOc7ccc(C=C8CCC(=Cc9ccc(O)cc9)C8=O)cc7)cc6)C5=O)cc4)cc3)C2=O)cc1 CCCCCOC(=O)CCC(C)CC(=O)OCCCCCOC(=O)CCC(C)CC(=O)OCCCCCOC(=O)CCC(C)CC(=O)O']"
      ]
     },
     "execution_count": 15,
     "metadata": {},
     "output_type": "execute_result"
    }
   ],
   "source": [
    "keep_train"
   ]
  },
  {
   "cell_type": "code",
   "execution_count": 16,
   "metadata": {},
   "outputs": [
    {
     "data": {
      "text/plain": [
       "587"
      ]
     },
     "execution_count": 16,
     "metadata": {},
     "output_type": "execute_result"
    }
   ],
   "source": [
    "len(keep_train)"
   ]
  },
  {
   "cell_type": "code",
   "execution_count": 17,
   "metadata": {},
   "outputs": [
    {
     "data": {
      "text/plain": [
       "'/home/rishi/g2g/improved/data_hp/'"
      ]
     },
     "execution_count": 17,
     "metadata": {},
     "output_type": "execute_result"
    }
   ],
   "source": [
    "hp_data_dir = data_dir[:-1] + '_hp' + '/'\n",
    "hp_data_dir"
   ]
  },
  {
   "cell_type": "code",
   "execution_count": 18,
   "metadata": {},
   "outputs": [],
   "source": [
    "import os"
   ]
  },
  {
   "cell_type": "code",
   "execution_count": 19,
   "metadata": {},
   "outputs": [],
   "source": [
    "#os.mkdir(hp_data_dir)\n",
    "ru.mkdir_existOk(hp_data_dir)"
   ]
  },
  {
   "cell_type": "code",
   "execution_count": 20,
   "metadata": {},
   "outputs": [],
   "source": [
    "def write_list_to_file(l, path):\n",
    "    with open(path, \"w\") as outfile: \n",
    "        outfile.write(\"\\n\".join(l))"
   ]
  },
  {
   "cell_type": "code",
   "execution_count": 21,
   "metadata": {},
   "outputs": [],
   "source": [
    "ru.write_list_to_file(keep_test, '%stest.txt' %hp_data_dir)"
   ]
  },
  {
   "cell_type": "code",
   "execution_count": 22,
   "metadata": {},
   "outputs": [],
   "source": [
    "ru.write_list_to_file(keep_train, '%strain.txt' %hp_data_dir)"
   ]
  },
  {
   "cell_type": "code",
   "execution_count": 23,
   "metadata": {},
   "outputs": [],
   "source": [
    "nested_train = [duo.split() for duo in keep_train]"
   ]
  },
  {
   "cell_type": "code",
   "execution_count": 24,
   "metadata": {},
   "outputs": [],
   "source": [
    "flat_train = []\n",
    "for i in nested_train:\n",
    "    flat_train.extend(i)"
   ]
  },
  {
   "cell_type": "code",
   "execution_count": 25,
   "metadata": {},
   "outputs": [
    {
     "data": {
      "text/plain": [
       "1174"
      ]
     },
     "execution_count": 25,
     "metadata": {},
     "output_type": "execute_result"
    }
   ],
   "source": [
    "len(flat_train)"
   ]
  },
  {
   "cell_type": "code",
   "execution_count": 26,
   "metadata": {},
   "outputs": [],
   "source": [
    "flat_train = set(flat_train)"
   ]
  },
  {
   "cell_type": "code",
   "execution_count": 27,
   "metadata": {},
   "outputs": [
    {
     "data": {
      "text/plain": [
       "267"
      ]
     },
     "execution_count": 27,
     "metadata": {},
     "output_type": "execute_result"
    }
   ],
   "source": [
    "len(flat_train)"
   ]
  },
  {
   "cell_type": "code",
   "execution_count": 28,
   "metadata": {},
   "outputs": [],
   "source": [
    "keep_mols = flat_train.union(set(keep_test))"
   ]
  },
  {
   "cell_type": "code",
   "execution_count": 29,
   "metadata": {},
   "outputs": [
    {
     "data": {
      "text/plain": [
       "432"
      ]
     },
     "execution_count": 29,
     "metadata": {},
     "output_type": "execute_result"
    }
   ],
   "source": [
    "len(keep_mols)"
   ]
  },
  {
   "cell_type": "code",
   "execution_count": 30,
   "metadata": {},
   "outputs": [],
   "source": [
    "ru.write_list_to_file(keep_mols, '%smols.txt' %hp_data_dir)"
   ]
  },
  {
   "cell_type": "code",
   "execution_count": 31,
   "metadata": {},
   "outputs": [],
   "source": [
    "os.chdir('/home/rishi/g2g/improved/')"
   ]
  },
  {
   "cell_type": "code",
   "execution_count": 32,
   "metadata": {},
   "outputs": [
    {
     "data": {
      "text/plain": [
       "256"
      ]
     },
     "execution_count": 32,
     "metadata": {},
     "output_type": "execute_result"
    }
   ],
   "source": [
    "#add args.iclr_dir\n",
    "os.system('python /home/rishi/iclr19-graph2graph/scripts/preprocess.py --train \\\n",
    "%strain.txt --ncpu 8' %(hp_data_dir) )"
   ]
  },
  {
   "cell_type": "code",
   "execution_count": 34,
   "metadata": {},
   "outputs": [],
   "source": [
    "processed_dir = '%sprocessed/' %hp_data_dir\n",
    "ru.mkdir_existOk(processed_dir)"
   ]
  },
  {
   "cell_type": "code",
   "execution_count": 35,
   "metadata": {},
   "outputs": [
    {
     "data": {
      "text/plain": [
       "0"
      ]
     },
     "execution_count": 35,
     "metadata": {},
     "output_type": "execute_result"
    }
   ],
   "source": [
    "os.system('mv tensor* %s' %processed_dir)"
   ]
  },
  {
   "cell_type": "code",
   "execution_count": 36,
   "metadata": {},
   "outputs": [
    {
     "data": {
      "text/plain": [
       "256"
      ]
     },
     "execution_count": 36,
     "metadata": {},
     "output_type": "execute_result"
    }
   ],
   "source": [
    "#add args.iclr_dir\n",
    "os.system('python /home/rishi/iclr19-graph2graph/fast_jtnn/mol_tree.py < %smols.txt > %svocab.txt' %\n",
    "          (hp_data_dir, hp_data_dir) )"
   ]
  },
  {
   "cell_type": "code",
   "execution_count": null,
   "metadata": {},
   "outputs": [],
   "source": []
  }
 ],
 "metadata": {
  "kernelspec": {
   "display_name": "Python (g2g)",
   "language": "python",
   "name": "g2g"
  },
  "language_info": {
   "codemirror_mode": {
    "name": "ipython",
    "version": 2
   },
   "file_extension": ".py",
   "mimetype": "text/x-python",
   "name": "python",
   "nbconvert_exporter": "python",
   "pygments_lexer": "ipython2",
   "version": "2.7.17"
  }
 },
 "nbformat": 4,
 "nbformat_minor": 2
}
