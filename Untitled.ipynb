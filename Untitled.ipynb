{
 "cells": [
  {
   "cell_type": "code",
   "execution_count": 7,
   "metadata": {},
   "outputs": [],
   "source": [
    "import numpy as np"
   ]
  },
  {
   "cell_type": "code",
   "execution_count": 1,
   "metadata": {},
   "outputs": [],
   "source": [
    "import rishi_utils as ru"
   ]
  },
  {
   "cell_type": "code",
   "execution_count": 24,
   "metadata": {},
   "outputs": [],
   "source": [
    "source_thresh = [450.0, 6.0]\n",
    "target_thresh = [500.0, 5.75]\n",
    "target_operations = ['>', '<']"
   ]
  },
  {
   "cell_type": "code",
   "execution_count": 25,
   "metadata": {},
   "outputs": [
    {
     "data": {
      "text/plain": [
       "[475.0, 5.75]"
      ]
     },
     "execution_count": 25,
     "metadata": {},
     "output_type": "execute_result"
    }
   ],
   "source": [
    "for ind,i in enumerate(target_operations):\n",
    "        if abs(target_thresh[ind] - source_thresh[ind]) / target_thresh[ind] > .05:\n",
    "            if i=='>':\n",
    "                target_thresh[ind] = target_thresh[ind]*.95\n",
    "            elif i=='<':\n",
    "                target_thresh[ind] = target_thresh[ind]*1.05 \n",
    "target_thresh"
   ]
  },
  {
   "cell_type": "markdown",
   "metadata": {},
   "source": [
    "# See if multi-region data_prep works"
   ]
  },
  {
   "cell_type": "code",
   "execution_count": 2,
   "metadata": {},
   "outputs": [],
   "source": [
    "fp_all = ru.pd_load('/data/rgur/g2g/eg_and_tg/raw_data/property_data.csv')"
   ]
  },
  {
   "cell_type": "code",
   "execution_count": 3,
   "metadata": {},
   "outputs": [],
   "source": [
    "fp_all = fp_all.head(3)"
   ]
  },
  {
   "cell_type": "code",
   "execution_count": 5,
   "metadata": {},
   "outputs": [],
   "source": [
    "#(5.4,440)\n",
    "#(6.2,400)\n",
    "#(5.4,520)\n",
    "fp_all['Tg'] = [440.0,400.0,520.0]\n",
    "fp_all['Bandgap'] = [5.4, 6.2, 5.4]"
   ]
  },
  {
   "cell_type": "code",
   "execution_count": 6,
   "metadata": {},
   "outputs": [],
   "source": [
    "if 'id' not in fp_all.keys():\n",
    "    n_rows = len(fp_all)\n",
    "    ids = ['rd_%s' %i for i in range(n_rows)]\n",
    "    fp_all['id'] = ids"
   ]
  },
  {
   "cell_type": "code",
   "execution_count": 52,
   "metadata": {},
   "outputs": [],
   "source": [
    "class Args():\n",
    "    source_thresh = [5.5,450]\n",
    "    target_thresh = [6,500]\n",
    "    prop_cols = ['Bandgap','Tg']\n",
    "    strict = False\n",
    "    flip_props = [1]"
   ]
  },
  {
   "cell_type": "code",
   "execution_count": 53,
   "metadata": {},
   "outputs": [
    {
     "data": {
      "text/html": [
       "<div>\n",
       "<style scoped>\n",
       "    .dataframe tbody tr th:only-of-type {\n",
       "        vertical-align: middle;\n",
       "    }\n",
       "\n",
       "    .dataframe tbody tr th {\n",
       "        vertical-align: top;\n",
       "    }\n",
       "\n",
       "    .dataframe thead th {\n",
       "        text-align: right;\n",
       "    }\n",
       "</style>\n",
       "<table border=\"1\" class=\"dataframe\">\n",
       "  <thead>\n",
       "    <tr style=\"text-align: right;\">\n",
       "      <th></th>\n",
       "      <th>Unnamed: 0</th>\n",
       "      <th>smiles</th>\n",
       "      <th>Tg</th>\n",
       "      <th>Bandgap</th>\n",
       "      <th>id</th>\n",
       "    </tr>\n",
       "  </thead>\n",
       "  <tbody>\n",
       "    <tr>\n",
       "      <th>0</th>\n",
       "      <td>0</td>\n",
       "      <td>[*]C[*]</td>\n",
       "      <td>440.0</td>\n",
       "      <td>5.4</td>\n",
       "      <td>rd_0</td>\n",
       "    </tr>\n",
       "    <tr>\n",
       "      <th>1</th>\n",
       "      <td>1</td>\n",
       "      <td>[*]CC([*])C</td>\n",
       "      <td>400.0</td>\n",
       "      <td>6.2</td>\n",
       "      <td>rd_1</td>\n",
       "    </tr>\n",
       "    <tr>\n",
       "      <th>2</th>\n",
       "      <td>2</td>\n",
       "      <td>[*]CC([*])CC</td>\n",
       "      <td>520.0</td>\n",
       "      <td>5.4</td>\n",
       "      <td>rd_2</td>\n",
       "    </tr>\n",
       "  </tbody>\n",
       "</table>\n",
       "</div>"
      ],
      "text/plain": [
       "   Unnamed: 0        smiles     Tg  Bandgap    id\n",
       "0           0       [*]C[*]  440.0      5.4  rd_0\n",
       "1           1   [*]CC([*])C  400.0      6.2  rd_1\n",
       "2           2  [*]CC([*])CC  520.0      5.4  rd_2"
      ]
     },
     "execution_count": 53,
     "metadata": {},
     "output_type": "execute_result"
    }
   ],
   "source": [
    "fp_all"
   ]
  },
  {
   "cell_type": "code",
   "execution_count": 54,
   "metadata": {},
   "outputs": [],
   "source": [
    "args = Args()"
   ]
  },
  {
   "cell_type": "code",
   "execution_count": 55,
   "metadata": {},
   "outputs": [],
   "source": [
    "n_prop = 2"
   ]
  },
  {
   "cell_type": "code",
   "execution_count": 56,
   "metadata": {},
   "outputs": [],
   "source": [
    "source_operations = []\n",
    "target_operations = []\n",
    "for i in range(n_prop):\n",
    "    if args.source_thresh[i] < args.target_thresh[i]:\n",
    "        source_operations.append('<')\n",
    "        target_operations.append('>')\n",
    "    else:\n",
    "        source_operations.append('>')\n",
    "        target_operations.append('<')"
   ]
  },
  {
   "cell_type": "code",
   "execution_count": 57,
   "metadata": {},
   "outputs": [
    {
     "data": {
      "text/plain": [
       "['<', '<']"
      ]
     },
     "execution_count": 57,
     "metadata": {},
     "output_type": "execute_result"
    }
   ],
   "source": [
    "source_operations"
   ]
  },
  {
   "cell_type": "code",
   "execution_count": 58,
   "metadata": {},
   "outputs": [
    {
     "data": {
      "text/plain": [
       "['>', '>']"
      ]
     },
     "execution_count": 58,
     "metadata": {},
     "output_type": "execute_result"
    }
   ],
   "source": [
    "target_operations"
   ]
  },
  {
   "cell_type": "code",
   "execution_count": 59,
   "metadata": {},
   "outputs": [],
   "source": [
    "def flip_inequality(s):\n",
    "    if s == '>':\n",
    "        return '<'\n",
    "    elif s == '<':\n",
    "        return '>'\n",
    "        \n",
    "def makeSourceTarget():\n",
    "    include_cols = ['id', 'smiles'] + args.prop_cols\n",
    "    if args.strict:\n",
    "        source_cmd = ' & '.join([\"(fp_all['%s'] %s %s)\" %(args.prop_cols[i], source_operations[i], \n",
    "                                                          args.source_thresh[i]) for i in range(n_prop)])\n",
    "    else:\n",
    "        for i in args.flip_props:\n",
    "            source_operations[i] = flip_inequality(source_operations[i])\n",
    "            args.source_thresh[i] = args.target_thresh[i]\n",
    "        \n",
    "        source_cmd = ' & '.join([\"(fp_all['%s'] %s %s)\" %(args.prop_cols[i], source_operations[i], \n",
    "                                                          args.source_thresh[i]) for i in range(n_prop)])        \n",
    "#    else:\n",
    "#         source_cmd = ' | '.join([\"(fp_all['%s'] %s %s)\" %(args.prop_cols[i], source_operations[i], \n",
    "#                                                           args.source_thresh[i]) for i in range(n_prop)])   \n",
    "    target_cmd = ' & '.join([\"(fp_all['%s'] %s %s)\" %(args.prop_cols[i], target_operations[i], \n",
    "                                                      args.target_thresh[i]) for i in range(n_prop)])\n",
    "    exec( 'source = fp_all.loc[%s, %s]' %(source_cmd, include_cols) ) #make source\n",
    "    exec( 'target = fp_all.loc[%s, %s]' %(target_cmd, include_cols) ) #make target\n",
    "    return source, target"
   ]
  },
  {
   "cell_type": "code",
   "execution_count": 60,
   "metadata": {},
   "outputs": [],
   "source": [
    "source, target = makeSourceTarget()"
   ]
  },
  {
   "cell_type": "code",
   "execution_count": 61,
   "metadata": {},
   "outputs": [
    {
     "data": {
      "text/html": [
       "<div>\n",
       "<style scoped>\n",
       "    .dataframe tbody tr th:only-of-type {\n",
       "        vertical-align: middle;\n",
       "    }\n",
       "\n",
       "    .dataframe tbody tr th {\n",
       "        vertical-align: top;\n",
       "    }\n",
       "\n",
       "    .dataframe thead th {\n",
       "        text-align: right;\n",
       "    }\n",
       "</style>\n",
       "<table border=\"1\" class=\"dataframe\">\n",
       "  <thead>\n",
       "    <tr style=\"text-align: right;\">\n",
       "      <th></th>\n",
       "      <th>id</th>\n",
       "      <th>smiles</th>\n",
       "      <th>Bandgap</th>\n",
       "      <th>Tg</th>\n",
       "    </tr>\n",
       "  </thead>\n",
       "  <tbody>\n",
       "    <tr>\n",
       "      <th>2</th>\n",
       "      <td>rd_2</td>\n",
       "      <td>[*]CC([*])CC</td>\n",
       "      <td>5.4</td>\n",
       "      <td>520.0</td>\n",
       "    </tr>\n",
       "  </tbody>\n",
       "</table>\n",
       "</div>"
      ],
      "text/plain": [
       "     id        smiles  Bandgap     Tg\n",
       "2  rd_2  [*]CC([*])CC      5.4  520.0"
      ]
     },
     "execution_count": 61,
     "metadata": {},
     "output_type": "execute_result"
    }
   ],
   "source": [
    "source"
   ]
  },
  {
   "cell_type": "code",
   "execution_count": null,
   "metadata": {},
   "outputs": [],
   "source": []
  }
 ],
 "metadata": {
  "kernelspec": {
   "display_name": "Python(cse6250)",
   "language": "python",
   "name": "cse6250"
  },
  "language_info": {
   "codemirror_mode": {
    "name": "ipython",
    "version": 2
   },
   "file_extension": ".py",
   "mimetype": "text/x-python",
   "name": "python",
   "nbconvert_exporter": "python",
   "pygments_lexer": "ipython2",
   "version": "2.7.17"
  }
 },
 "nbformat": 4,
 "nbformat_minor": 2
}
